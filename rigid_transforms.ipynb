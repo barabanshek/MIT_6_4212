{
 "cells": [
  {
   "cell_type": "markdown",
   "metadata": {
    "cell_id": "87036a34-ba8f-4e4f-879e-6db2e5008a63",
    "colab_type": "text",
    "deepnote_cell_height": 82,
    "deepnote_cell_type": "markdown",
    "id": "c9GoM16F7I7Z"
   },
   "source": [
    "# Exercises on Rigid Transforms"
   ]
  },
  {
   "cell_type": "code",
   "execution_count": 1,
   "metadata": {
    "cell_id": "00001-42f3110b-0962-4a40-a60f-590644d028b6",
    "colab": {},
    "colab_type": "code",
    "deepnote_cell_height": 202,
    "deepnote_cell_type": "code",
    "deepnote_to_be_reexecuted": true,
    "execution_millis": 1813,
    "execution_start": 1663805395738,
    "id": "xyZz8R16E9jZ",
    "source_hash": "684c4bc1"
   },
   "outputs": [],
   "source": [
    "# python libraries\n",
    "import numpy as np\n",
    "import matplotlib.pyplot as plt, mpld3\n",
    "from IPython.display import HTML, display\n",
    "\n",
    "from pydrake.all import (\n",
    "  Quaternion, RigidTransform, RollPitchYaw, RotationMatrix\n",
    ")"
   ]
  },
  {
   "cell_type": "markdown",
   "metadata": {
    "cell_id": "00002-59bfe182-493d-4fdc-85e5-e126c810d571",
    "colab_type": "text",
    "deepnote_cell_height": 254.984375,
    "deepnote_cell_type": "markdown",
    "id": "EvOQi_xQE9kY"
   },
   "source": [
    "# Problem Description\n",
    "In the lecture, we learned the basics of spatial transformations. In this exercise, you will compute simple rigid transforms applying the rules you have learned in class.\n",
    "\n",
    "**These are the main steps of the exercise:**\n",
    "1. Compute rigid transforms of frames in various reference frames.\n",
    "2. Design grasp pose using spatial transformation"
   ]
  },
  {
   "cell_type": "markdown",
   "metadata": {
    "cell_id": "00003-7d50d279-d7f2-4313-85e5-f594df7ec31c",
    "colab_type": "text",
    "deepnote_cell_height": 756.125,
    "deepnote_cell_type": "markdown",
    "id": "L-1Ad6xYQ2aK"
   },
   "source": [
    "# Exercise on Rigid Transforms\n",
    "\n",
    "As a brief review, we have covered two rules of spatial transformation in [class](http://manipulation.csail.mit.edu/pick.html#section3).\n",
    "\n",
    "$${^AX^B} {^BX^C} = {^AX^C},$$\n",
    "\n",
    "$$[^AX^B]^{-1} = {^BX^A}.$$\n",
    "\n",
    "Note that the rules of transforms are based on rules of transforming positions and rotations listed below. \n",
    "\n",
    "Addition of positions in the same frame:\n",
    "$$^Ap^B_F + ^Bp^C_F = ^Ap^C_F.$$\n",
    "\n",
    "The additive inverse:\n",
    "$$^Ap^B_F = - ^Bp^A_F.$$\n",
    "\n",
    "Rotation of a point:\n",
    "$$^Ap^B_G = {^GR^F} ^Ap^B_F.$$\n",
    "\n",
    "Chaining rotations:\n",
    "$${^AR^B} {^BR^C} = {^AR^C}.$$\n",
    "\n",
    "Inverse of rotations:\n",
    "$$[^AR^B]^{-1} = {^BR^A}.$$\n",
    "      \n",
    "Applying these rules will yield the same result as the ones computed by the former two rules.\n",
    "\n",
    "In Drake, you can multiply frames by \n",
    "```python\n",
    "X_AB.multiply(X_BC)\n",
    "X_AB @ X_BC\n",
    "```\n",
    "\n",
    "You may also inverse a rigid transform by the [inverse](https://drake.mit.edu/pydrake/pydrake.math.html?highlight=rigidtransform#pydrake.math.RigidTransform_.RigidTransform_[float].inverse) method.\n",
    "\n",
    "```python\n",
    "X_AB.inverse()\n",
    "```"
   ]
  },
  {
   "cell_type": "markdown",
   "metadata": {
    "cell_id": "00004-d2322cbf-8b66-419d-af8b-1fd0c69aa153",
    "colab_type": "text",
    "deepnote_cell_height": 270.78125,
    "deepnote_cell_type": "markdown",
    "id": "Ceqhp3vWZpzx"
   },
   "source": [
    "Now suppose you have 4 frames, namely, the world frame, frame A, frame B, and frame C defined as below.\n",
    "\n",
    "-- frame A expressed in the world frame (`X_WA`)\n",
    "\n",
    "-- frame B expressed in frame A (`X_AB`)\n",
    "\n",
    "-- frame B expressed in frame C (`X_CB`)\n",
    "\n",
    "**Calcuate the following transforms by filling your code below in the designated functions.**\n",
    "\n",
    "(1) `X_WB`, frame B expressed in the world frame\n",
    "\n",
    "(2) `X_CW`, the world frame expressed in frame C"
   ]
  },
  {
   "cell_type": "code",
   "execution_count": 2,
   "metadata": {
    "cell_id": "00005-0c314438-5bf3-4816-b16c-4ef752692f00",
    "colab": {},
    "colab_type": "code",
    "deepnote_cell_height": 166,
    "deepnote_cell_type": "code",
    "deepnote_to_be_reexecuted": true,
    "execution_millis": 2,
    "execution_start": 1663803598643,
    "id": "FDPul5bRZpzy",
    "source_hash": "c38ac6ab"
   },
   "outputs": [],
   "source": [
    "def compute_X_WB(X_WA, X_AB, X_CB):\n",
    "    \"\"\"\n",
    "    fill your code here\n",
    "    \"\"\"\n",
    "    X_WB = RigidTransform(X_WA @ X_AB)\n",
    "    return X_WB"
   ]
  },
  {
   "cell_type": "code",
   "execution_count": 3,
   "metadata": {
    "cell_id": "00006-190b3710-65c6-42f8-b047-55e426ac6b93",
    "colab": {},
    "colab_type": "code",
    "deepnote_cell_height": 184,
    "deepnote_cell_type": "code",
    "deepnote_to_be_reexecuted": true,
    "execution_millis": 2,
    "execution_start": 1663803598865,
    "id": "xJQ1vThXZpz6",
    "source_hash": "661e5ea"
   },
   "outputs": [],
   "source": [
    "def compute_X_CW(X_WA, X_AB, X_CB):\n",
    "    \"\"\"\n",
    "    fill your code here\n",
    "    \"\"\"\n",
    "    X_WB = compute_X_WB(X_WA, X_AB, X_CB)\n",
    "    X_CW = RigidTransform(X_WB @ X_CB.inverse()).inverse()\n",
    "    return X_CW"
   ]
  },
  {
   "cell_type": "markdown",
   "metadata": {
    "cell_id": "00007-e56b6ed5-cd1b-4f77-b80f-7fcd0412627c",
    "colab_type": "text",
    "deepnote_cell_height": 296.78125,
    "deepnote_cell_type": "markdown",
    "id": "3DJxbaN6wjMw"
   },
   "source": [
    "# Design Grasp Pose\n",
    "The grasp pose is commonly defined in the object frame so that the grasp pose ${^OX^G}$ is independent of the pose of the object. The grasp pose in the world frame can be computed by \n",
    "\n",
    "$${{^WX^G} = {}{^W}X^{O}} {^OX^G},$$\n",
    "\n",
    "where $W$ stands for the world frame and $G$ denotes the grasp frame, following the convention in the textbook. \n",
    "\n",
    "You should notice from the visualization below that the gripper frame is different from the world frame. In particular, the +y axis of the gripper frame points vertically downward, and the +z axis of the gripper points backward. This is an important observation for this exercise."
   ]
  },
  {
   "cell_type": "markdown",
   "metadata": {
    "cell_id": "00008-8bea5830-2043-4399-98a9-0de45e580b84",
    "colab_type": "text",
    "deepnote_cell_height": 201.390625,
    "deepnote_cell_type": "markdown",
    "id": "o-5gZ-jPJJ-9"
   },
   "source": [
    "**Now for your exercise, design a grasp pose that satisfy the conditions below**\n",
    "\n",
    "- **gripper's position should be 0.02 unit distance above the target object in the world frame**\n",
    "- **gripper's y axis should align with object's x axis**\n",
    "- **gripper's x axis should align with object's z axis**\n",
    "- **write grasp pose in the object frame and the world frame**\n",
    "\n",
    "**Remember that the X-axis is shown in red, Y-axis is in green, and Z-axis in blue.**"
   ]
  },
  {
   "cell_type": "markdown",
   "metadata": {
    "cell_id": "00009-82eada19-e218-4c4e-9b1d-bd767aab855b",
    "colab_type": "text",
    "deepnote_cell_height": 588.78125,
    "deepnote_cell_type": "markdown",
    "id": "txN1Mlk5MTjl"
   },
   "source": [
    "<img src=\"https://raw.githubusercontent.com/RussTedrake/manipulation/master/figures/exercises/grasp_pose_design.png\" width=\"500\">\n"
   ]
  },
  {
   "cell_type": "code",
   "execution_count": 4,
   "metadata": {
    "cell_id": "00010-9804f402-4ea9-4e91-a40d-8aeaae34a1a7",
    "colab": {},
    "colab_type": "code",
    "deepnote_cell_height": 112,
    "deepnote_cell_type": "code",
    "deepnote_to_be_reexecuted": true,
    "execution_millis": 3,
    "execution_start": 1663803244114,
    "id": "ju-etoLzJ5zz",
    "source_hash": "638fb32"
   },
   "outputs": [],
   "source": [
    "p0_WO = [-0.2, -0.65, 0.12] # object in world frame\n",
    "R0_WO = RotationMatrix.MakeYRotation(np.pi/2)\n",
    "X_WO = RigidTransform(R0_WO, p0_WO)"
   ]
  },
  {
   "cell_type": "code",
   "execution_count": 5,
   "metadata": {
    "cell_id": "00011-12e7ce3d-6c10-4b35-bfdc-e6d723d64d2f",
    "colab": {},
    "colab_type": "code",
    "deepnote_cell_height": 364.1875,
    "deepnote_cell_type": "code",
    "deepnote_to_be_reexecuted": true,
    "execution_millis": 2,
    "execution_start": 1663805059270,
    "id": "84Po2q-MOLcJ",
    "source_hash": "273a61b8"
   },
   "outputs": [],
   "source": [
    "def design_grasp_pose(X_WO):\n",
    "  \"\"\"\n",
    "  fill in our code below\n",
    "  \"\"\"\n",
    "  p_OG = [-0.02, 0, 0]\n",
    "  R_OG = RotationMatrix.MakeZRotation(np.pi/2)\n",
    "  X_OG = RigidTransform(R_OG, p_OG)\n",
    "  X_WG = RigidTransform(X_WO @ X_OG)\n",
    "  return X_OG, X_WG"
   ]
  },
  {
   "cell_type": "markdown",
   "metadata": {
    "cell_id": "00012-0e58f5fb-ec72-4c1e-8cad-a2b44ca94760",
    "colab_type": "text",
    "deepnote_cell_height": 385.984375,
    "deepnote_cell_type": "markdown",
    "id": "zPmeRLtJk410"
   },
   "source": [
    "## How will this notebook be Graded?##\n",
    "\n",
    "If you are enrolled in the class, this notebook will be graded using [Gradescope](www.gradescope.com). You should have gotten the enrollement code on our announcement in Piazza. \n",
    "\n",
    "For submission of this assignment, you must do two things. \n",
    "- Download and submit the notebook `rigid_transforms.ipynb` to Gradescope's notebook submission section, along with your notebook for the other problems.\n",
    "\n",
    "We will evaluate the local functions in the notebook to see if the function behaves as we have expected. For this exercise, the rubric is as follows:\n",
    "- [1 pts] `compute_X_WB` is correct\n",
    "- [1 pts] `compute_X_CW` is correct\n",
    "- [2 pts] `design_grasp_pose` is correct according to the requirement"
   ]
  },
  {
   "cell_type": "code",
   "execution_count": 8,
   "metadata": {
    "cell_id": "00013-ae3c3853-68df-463f-8fe0-2d5de1b6e91f",
    "colab": {},
    "colab_type": "code",
    "deepnote_cell_height": 336.25,
    "deepnote_cell_type": "code",
    "deepnote_to_be_reexecuted": true,
    "execution_millis": 8,
    "execution_start": 1663805059962,
    "id": "T2PwWuqT_O3r",
    "source_hash": "7b9eaa7d"
   },
   "outputs": [
    {
     "name": "stdout",
     "output_type": "stream",
     "text": [
      "Total score is 2/4.\n",
      "\n",
      "Score for Testing X_CW is 1/1.\n",
      "\n",
      "Score for Testing X_WB is 1/1.\n",
      "\n",
      "Score for Testing grasp pose is 0/2.\n",
      "- Test Failed: False is not true\n",
      "\n"
     ]
    }
   ],
   "source": [
    "from manipulation.exercises.pick.test_rigid_transforms import TestRigidTransforms\n",
    "from manipulation.exercises.grader import Grader \n",
    "\n",
    "Grader.grade_output([TestRigidTransforms], [locals()], 'results.json')\n",
    "Grader.print_test_results('results.json')"
   ]
  },
  {
   "cell_type": "code",
   "execution_count": null,
   "metadata": {
    "cell_id": "e5ac08bb8da94da892a4bb8cd4b6981d",
    "deepnote_cell_height": 76,
    "deepnote_cell_type": "code",
    "deepnote_to_be_reexecuted": true,
    "execution_millis": 2,
    "execution_start": 1663804391356,
    "source_hash": "b623e53d",
    "tags": []
   },
   "outputs": [],
   "source": []
  },
  {
   "cell_type": "code",
   "execution_count": null,
   "metadata": {
    "cell_id": "b1d1d3965cfd4528aabddacbdc98a58d",
    "deepnote_cell_height": 61,
    "deepnote_cell_type": "code",
    "tags": []
   },
   "outputs": [],
   "source": []
  },
  {
   "cell_type": "markdown",
   "metadata": {
    "created_in_deepnote_cell": true,
    "deepnote_cell_type": "markdown",
    "tags": []
   },
   "source": [
    "<a style='text-decoration:none;line-height:16px;display:flex;color:#5B5B62;padding:10px;justify-content:end;' href='https://deepnote.com?utm_source=created-in-deepnote-cell&projectId=ea0c2985-7c9b-478a-9c4c-1a77e785b40d' target=\"_blank\">\n",
    "<img alt='Created in deepnote.com' style='display:inline;max-height:16px;margin:0px;margin-right:7.5px;' src='data:image/svg+xml;base64,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' > </img>\n",
    "Created in <span style='font-weight:600;margin-left:4px;'>Deepnote</span></a>"
   ]
  }
 ],
 "metadata": {
  "celltoolbar": "Tags",
  "colab": {
   "collapsed_sections": [],
   "name": "rigid_transforms.ipynb",
   "provenance": []
  },
  "deepnote": {},
  "deepnote_execution_queue": [],
  "deepnote_notebook_id": "e4ebb2e4-8e98-4170-bdf6-d2e0c26781e8",
  "interpreter": {
   "hash": "31f2aee4e71d21fbe5cf8b01ff0e069b9275f58929596ceb00d14d90e3e16cd6"
  },
  "kernelspec": {
   "display_name": "env",
   "language": "python",
   "name": "env"
  },
  "language_info": {
   "codemirror_mode": {
    "name": "ipython",
    "version": 3
   },
   "file_extension": ".py",
   "mimetype": "text/x-python",
   "name": "python",
   "nbconvert_exporter": "python",
   "pygments_lexer": "ipython3",
   "version": "3.8.10"
  }
 },
 "nbformat": 4,
 "nbformat_minor": 1
}
