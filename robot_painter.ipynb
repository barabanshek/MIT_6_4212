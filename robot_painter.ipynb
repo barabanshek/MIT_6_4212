{
 "cells": [
  {
   "cell_type": "markdown",
   "metadata": {
    "cell_id": "a445c698-0769-40b1-9149-33d012cead41",
    "colab_type": "text",
    "deepnote_cell_height": 82,
    "deepnote_cell_type": "markdown",
    "id": "KE6SesUXE9jX"
   },
   "source": [
    "# Robot Painter"
   ]
  },
  {
   "cell_type": "code",
   "execution_count": 2,
   "metadata": {
    "cell_id": "00001-f083aea1-8ad0-4846-8c33-68422b8bfcb7",
    "colab": {},
    "colab_type": "code",
    "deepnote_cell_height": 346,
    "deepnote_cell_type": "code",
    "deepnote_to_be_reexecuted": false,
    "execution_millis": 1,
    "execution_start": 1664324208786,
    "id": "xyZz8R16E9jZ",
    "source_hash": "23143321"
   },
   "outputs": [],
   "source": [
    "import sys\n",
    "sys.path.append('/home/nikita/env/lib/python3.8/site-packages')\n",
    "sys.path.append('/home/nikita/robotics/manipulation')\n",
    "\n",
    "import matplotlib.pyplot as plt\n",
    "import mpld3\n",
    "import numpy as np\n",
    "from IPython.display import HTML, display\n",
    "from manipulation import running_as_notebook, FindResource\n",
    "from manipulation.meshcat_utils import AddMeshcatTriad\n",
    "from manipulation.scenarios import MakeManipulationStation\n",
    "from pydrake.all import (AddMultibodyPlantSceneGraph, AngleAxis, BasicVector,\n",
    "                         ConstantVectorSource, DiagramBuilder,\n",
    "                         FindResourceOrThrow, Integrator, JacobianWrtVariable,\n",
    "                         LeafSystem, MeshcatVisualizer,\n",
    "                         MeshcatVisualizerParams, MultibodyPlant,\n",
    "                         MultibodyPositionToGeometryPose, Parser,\n",
    "                         PiecewisePose, Quaternion, RigidTransform,\n",
    "                         RollPitchYaw, RotationMatrix, SceneGraph, Simulator,\n",
    "                         StartMeshcat, TrajectorySource)"
   ]
  },
  {
   "cell_type": "code",
   "execution_count": 3,
   "metadata": {
    "cell_id": "00002-2c17506d-2cdb-485e-b47f-5bbc36595dbe",
    "deepnote_cell_height": 200.078125,
    "deepnote_cell_type": "code",
    "deepnote_output_heights": [
     null,
     20.1875
    ],
    "deepnote_to_be_reexecuted": false,
    "execution_millis": 42,
    "execution_start": 1664324209010,
    "source_hash": "6d42057f"
   },
   "outputs": [
    {
     "name": "stderr",
     "output_type": "stream",
     "text": [
      "INFO:drake:Meshcat listening for connections at http://localhost:7000\n"
     ]
    }
   ],
   "source": [
    "# Start the visualizer.\n",
    "meshcat = StartMeshcat()"
   ]
  },
  {
   "cell_type": "markdown",
   "metadata": {
    "cell_id": "00003-99c0e646-b4e5-4727-8594-a0f6c610a883",
    "colab_type": "text",
    "deepnote_cell_height": 74.796875,
    "deepnote_cell_type": "markdown",
    "id": "zfITVansaoLi"
   },
   "source": [
    "In the following cell we provide a wrapper class that hides parts of the implementation details in Drake. You are not required to understand how it works."
   ]
  },
  {
   "cell_type": "code",
   "execution_count": 4,
   "metadata": {
    "cell_id": "00004-b4027777-37a1-4db6-a77f-570d99f56df1",
    "colab": {},
    "colab_type": "code",
    "deepnote_cell_height": 2398,
    "deepnote_cell_type": "code",
    "deepnote_to_be_reexecuted": false,
    "execution_millis": 2,
    "execution_start": 1664324219781,
    "id": "SuwPFHfYE9jj",
    "source_hash": "aacfa95c"
   },
   "outputs": [],
   "source": [
    "class IIWA_Painter():\n",
    "    def __init__(self, traj=None):\n",
    "        builder = DiagramBuilder()\n",
    "        # set up the system of manipulation station\n",
    "        self.station = MakeManipulationStation(filename=FindResource(\"models/clutter.dmd.yaml\"))\n",
    "\n",
    "        builder.AddSystem(self.station)\n",
    "        self.plant = self.station.GetSubsystemByName(\"plant\")\n",
    "\n",
    "        # optionally add trajectory source\n",
    "        if traj is not None:\n",
    "            traj_V_G = traj.MakeDerivative()\n",
    "            V_G_source = builder.AddSystem(TrajectorySource(traj_V_G))\n",
    "            self.controller = builder.AddSystem(\n",
    "                PseudoInverseController(self.plant))\n",
    "            builder.Connect(V_G_source.get_output_port(),\n",
    "                            self.controller.GetInputPort(\"V_G\"))\n",
    "\n",
    "            self.integrator = builder.AddSystem(Integrator(7))\n",
    "            builder.Connect(self.controller.get_output_port(),\n",
    "                            self.integrator.get_input_port())\n",
    "            builder.Connect(self.integrator.get_output_port(),\n",
    "                            self.station.GetInputPort(\"iiwa_position\"))\n",
    "            builder.Connect(\n",
    "                self.station.GetOutputPort(\"iiwa_position_measured\"),\n",
    "                self.controller.GetInputPort(\"iiwa_position\"))\n",
    "\n",
    "        params = MeshcatVisualizerParams()\n",
    "        params.delete_on_initialization_event = False\n",
    "        self.visualizer = MeshcatVisualizer.AddToBuilder(\n",
    "            builder, self.station.GetOutputPort(\"query_object\"), meshcat, params)\n",
    "\n",
    "        wsg_position = builder.AddSystem(ConstantVectorSource([0.1]))\n",
    "        builder.Connect(wsg_position.get_output_port(),\n",
    "                        self.station.GetInputPort(\"wsg_position\"))\n",
    "\n",
    "        self.diagram = builder.Build()\n",
    "        self.gripper_frame = self.plant.GetFrameByName('body')\n",
    "        self.world_frame = self.plant.world_frame()\n",
    "\n",
    "        context = self.CreateDefaultContext()\n",
    "        self.diagram.Publish(context)\n",
    "\n",
    "    def visualize_frame(self, name, X_WF, length=0.15, radius=0.006):\n",
    "        \"\"\"\n",
    "        visualize imaginary frame that are not attached to existing bodies\n",
    "        \n",
    "        Input: \n",
    "            name: the name of the frame (str)\n",
    "            X_WF: a RigidTransform to from frame F to world.\n",
    "        \n",
    "        Frames whose names already exist will be overwritten by the new frame\n",
    "        \"\"\"\n",
    "        AddMeshcatTriad(meshcat, \"painter/\" + name,\n",
    "                        length=length, radius=radius, X_PT=X_WF)\n",
    "\n",
    "    def CreateDefaultContext(self):\n",
    "        context = self.diagram.CreateDefaultContext()\n",
    "        plant_context = self.diagram.GetMutableSubsystemContext(\n",
    "            self.plant, context)\n",
    "        station_context = self.diagram.GetMutableSubsystemContext(\n",
    "            self.station, context)\n",
    "\n",
    "        # provide initial states\n",
    "        q0 = np.array([ 1.40666193e-05,  1.56461165e-01, -3.82761069e-05,\n",
    "                       -1.32296976e+00, -6.29097287e-06,  1.61181157e+00, -2.66900985e-05])\n",
    "        # set the joint positions of the kuka arm\n",
    "        iiwa = self.plant.GetModelInstanceByName(\"iiwa\")\n",
    "        self.plant.SetPositions(plant_context, iiwa, q0)\n",
    "        self.plant.SetVelocities(plant_context, iiwa, np.zeros(7))\n",
    "        wsg = self.plant.GetModelInstanceByName(\"wsg\")\n",
    "        self.plant.SetPositions(plant_context, wsg, [-0.05, 0.05])\n",
    "        self.plant.SetVelocities(plant_context, wsg, [0, 0])        \n",
    "\n",
    "        if hasattr(self, 'integrator'):\n",
    "            self.integrator.set_integral_value(\n",
    "                self.integrator.GetMyMutableContextFromRoot(context), q0)\n",
    "\n",
    "        return context\n",
    "\n",
    "\n",
    "    def get_X_WG(self, context=None):\n",
    "\n",
    "        if not context:\n",
    "            context = self.CreateDefaultContext()\n",
    "        plant_context = self.plant.GetMyMutableContextFromRoot(context)\n",
    "        X_WG = self.plant.CalcRelativeTransform(\n",
    "                    plant_context,\n",
    "                    frame_A=self.world_frame,\n",
    "                    frame_B=self.gripper_frame)\n",
    "        return X_WG\n",
    "\n",
    "    def paint(self, sim_duration=20.0):\n",
    "        context = self.CreateDefaultContext()\n",
    "        simulator = Simulator(self.diagram, context)\n",
    "        simulator.set_target_realtime_rate(1.0)\n",
    "\n",
    "        duration = sim_duration if running_as_notebook else 0.01\n",
    "        simulator.AdvanceTo(duration)\n",
    "\n",
    "class PseudoInverseController(LeafSystem):\n",
    "    \"\"\"\n",
    "    same controller seen in-class\n",
    "    \"\"\"\n",
    "    def __init__(self, plant):\n",
    "        LeafSystem.__init__(self)\n",
    "        self._plant = plant\n",
    "        self._plant_context = plant.CreateDefaultContext()\n",
    "        self._iiwa = plant.GetModelInstanceByName(\"iiwa\")\n",
    "        self._G = plant.GetBodyByName(\"body\").body_frame()\n",
    "        self._W = plant.world_frame()\n",
    "\n",
    "        self.V_G_port = self.DeclareVectorInputPort(\"V_G\", BasicVector(6))\n",
    "        self.q_port = self.DeclareVectorInputPort(\"iiwa_position\", BasicVector(7))\n",
    "        self.DeclareVectorOutputPort(\"iiwa_velocity\", BasicVector(7),\n",
    "                                     self.CalcOutput)\n",
    "        self.iiwa_start = plant.GetJointByName(\"iiwa_joint_1\").velocity_start()\n",
    "        self.iiwa_end = plant.GetJointByName(\"iiwa_joint_7\").velocity_start()\n",
    "\n",
    "    def CalcOutput(self, context, output):\n",
    "        V_G = self.V_G_port.Eval(context)\n",
    "        q = self.q_port.Eval(context)\n",
    "        self._plant.SetPositions(self._plant_context, self._iiwa, q)\n",
    "        J_G = self._plant.CalcJacobianSpatialVelocity(\n",
    "            self._plant_context, JacobianWrtVariable.kV,\n",
    "            self._G, [0,0,0], self._W, self._W)\n",
    "        J_G = J_G[:,self.iiwa_start:self.iiwa_end+1] # Only iiwa terms.\n",
    "        v = np.linalg.pinv(J_G).dot(V_G) #important\n",
    "        output.SetFromVector(v)\n"
   ]
  },
  {
   "cell_type": "markdown",
   "metadata": {
    "cell_id": "00005-198cc215-b823-445e-858f-afc546b6dd7e",
    "colab_type": "text",
    "deepnote_cell_height": 254.984375,
    "deepnote_cell_type": "markdown",
    "id": "EvOQi_xQE9kY"
   },
   "source": [
    "# Problem Description\n",
    "In the lecture, we learned the basics of spatial transformations. For this exercise, you will have iiwa arm *paint* a circular, planar trajectory by computing and interpolating the key frames, just as we have seen from the lecture\n",
    "\n",
    "**These are the main steps of the exercise:**\n",
    "1. Design and implement a circular trajectory for the Iiwa arm to follow.\n",
    "2. Observe and reflect on the Differential IK controller."
   ]
  },
  {
   "cell_type": "markdown",
   "metadata": {
    "cell_id": "00006-1047bb80-1057-4014-9bdd-840c8422b864",
    "colab_type": "text",
    "deepnote_cell_height": 215.59375,
    "deepnote_cell_type": "markdown",
    "id": "kEzcpiOiZp0C"
   },
   "source": [
    "# Circular Trajectory\n",
    "\n",
    "In this exercise, you will design a circular planar trajectory like the one below for the iiwa arm to follow, like a robot painting in the air! To do so, we will follow the same procedure as shown in class:\n",
    "\n",
    "(1) compute the key frames of the circular trajectory\n",
    "\n",
    "(2) construct interpolated trajectory from the key frames"
   ]
  },
  {
   "cell_type": "markdown",
   "metadata": {
    "cell_id": "00007-e9503659-3a7d-433e-92eb-c861a56f4992",
    "colab_type": "text",
    "deepnote_cell_height": 660.4375,
    "deepnote_cell_type": "markdown",
    "id": "KwoXw_yDgtbg"
   },
   "source": [
    "<img src=\"https://raw.githubusercontent.com/RussTedrake/manipulation/master/figures/exercises/robot_painter_circle.png\" width=\"700\">"
   ]
  },
  {
   "cell_type": "markdown",
   "metadata": {
    "cell_id": "00008-f32c9452-a4e5-4f96-a5e8-85cd182b6018",
    "colab_type": "text",
    "deepnote_cell_height": 52.390625,
    "deepnote_cell_type": "markdown",
    "id": "KqinvTKyZp0E"
   },
   "source": [
    "The x and y axis in the diagram above are from the world frame."
   ]
  },
  {
   "cell_type": "markdown",
   "metadata": {
    "cell_id": "00009-b0acafaa-0591-44c6-9ee9-d9be5b9dff28",
    "colab_type": "text",
    "deepnote_cell_height": 674.3125,
    "deepnote_cell_type": "markdown",
    "id": "C-lMFAjpHRtp"
   },
   "source": [
    "<img src=\"https://raw.githubusercontent.com/RussTedrake/manipulation/master/figures/exercises/robot_painter_screenshot.png\" width=\"700\">"
   ]
  },
  {
   "cell_type": "markdown",
   "metadata": {
    "cell_id": "00010-4613e88d-1b00-480a-8e2e-574dd334fbd5",
    "colab_type": "text",
    "deepnote_cell_height": 200.78125,
    "deepnote_cell_type": "markdown",
    "id": "O5gumWUPZp0G"
   },
   "source": [
    "The screenshot above visualizes the key frames of the circular trajectory. The key frames illustrate the poses of the gripper in the world frame at different time steps along the trajectory. First, you should notice from the visualization above that the gripper frame is different from the world frame. In particular, the +y axis of the gripper frame points vertically downward, and the +z axis of the gripper points backward. This is an important observation for this exercise.\n",
    "\n",
    "The rigid transform of the center of the circular trajectory as well as the radius of the circle is defined below. In words, we would like to have our arm rotate counterclockwise about the +z axis in the world frame. Besides, we would like the +z axis of the gripper frame to always point toward the center of the circle. "
   ]
  },
  {
   "cell_type": "code",
   "execution_count": 5,
   "metadata": {
    "cell_id": "00011-276949d3-55a7-49a7-9f3a-58a5615f7b50",
    "colab": {},
    "colab_type": "code",
    "deepnote_cell_height": 346,
    "deepnote_cell_type": "code",
    "deepnote_to_be_reexecuted": false,
    "execution_millis": 657,
    "execution_start": 1664324226131,
    "id": "iQ7RRZrGE9kZ",
    "source_hash": "df504ef4"
   },
   "outputs": [],
   "source": [
    "# define center and radius\n",
    "radius = 0.1\n",
    "p0 = [0.45, 0.0, 0.4]\n",
    "R0 = RotationMatrix(np.array([[0, 1, 0], [0, 0, -1], [-1, 0, 0]]).T)\n",
    "X_WorldCenter = RigidTransform(R0, p0)\n",
    "\n",
    "num_key_frames = 10\n",
    "\"\"\"\n",
    "you may use different thetas as long as your trajectory starts\n",
    "from the Start Frame above and your rotation is positive\n",
    "in the world frame about +z axis\n",
    "thetas = np.linspace(0, 2*np.pi, num_key_frames)\n",
    "\"\"\"\n",
    "thetas = np.linspace(0, 2*np.pi, num_key_frames)\n",
    "\n",
    "painter = IIWA_Painter()\n",
    "\n",
    "painter1 = IIWA_Painter()"
   ]
  },
  {
   "cell_type": "markdown",
   "metadata": {
    "cell_id": "00012-abbf50ea-a6e2-414c-8003-7058e485db37",
    "colab_type": "text",
    "deepnote_cell_height": 119.59375,
    "deepnote_cell_type": "markdown",
    "id": "V_F1YLhfZp0M"
   },
   "source": [
    "We have provided an `IIWA_painter` class at the very top of this notebook to help you abstract away parts of the implementation details in Drake. You may find `visualize_frame` method helpful to visualize rigid transforms. The cell below first computes the rigid transform of the current gripper pose, and then it draws a frame of that pose in meshcat. Note that the frame drawn here is not attached to any body in the scene. They are for visualization only."
   ]
  },
  {
   "cell_type": "code",
   "execution_count": 6,
   "metadata": {
    "cell_id": "00013-b6e1e3e6-03a8-4c36-b4a9-10db76573ff2",
    "colab": {},
    "colab_type": "code",
    "deepnote_cell_height": 94,
    "deepnote_cell_type": "code",
    "deepnote_to_be_reexecuted": false,
    "execution_millis": 0,
    "execution_start": 1664324729969,
    "id": "FbPCfGekZp0N",
    "source_hash": "3774ae0"
   },
   "outputs": [],
   "source": [
    "X_WG = painter.get_X_WG()\n",
    "painter.visualize_frame('gripper_current', X_WG)"
   ]
  },
  {
   "cell_type": "markdown",
   "metadata": {
    "cell_id": "00014-b63a2a14-cf7e-4d83-a5a2-0fc7d14b9682",
    "colab_type": "text",
    "deepnote_cell_height": 74.796875,
    "deepnote_cell_type": "markdown",
    "id": "WBMew300E9kM"
   },
   "source": [
    "Finally, you can compose arbitrary rotations via `MakeXRotation`, `MakeYRotation`, and `MakeZRotation` methods. Their names are quite self-explanatory."
   ]
  },
  {
   "cell_type": "code",
   "execution_count": 7,
   "metadata": {
    "cell_id": "00015-16140ec4-882f-4d21-b201-7966f59b2a37",
    "colab": {},
    "colab_type": "code",
    "deepnote_cell_height": 188.96875,
    "deepnote_cell_type": "code",
    "deepnote_output_heights": [
     96.96875
    ],
    "deepnote_to_be_reexecuted": false,
    "execution_millis": 4,
    "execution_start": 1664324262839,
    "id": "GuCZwacoE9kN",
    "source_hash": "c6f3c5c6"
   },
   "outputs": [
    {
     "data": {
      "text/plain": [
       "RotationMatrix([\n",
       "  [0.8660254037844387, 0.0, 0.49999999999999994],\n",
       "  [0.0, 1.0, 0.0],\n",
       "  [-0.49999999999999994, 0.0, 0.8660254037844387],\n",
       "])"
      ]
     },
     "execution_count": 7,
     "metadata": {},
     "output_type": "execute_result"
    }
   ],
   "source": [
    "RotationMatrix.MakeYRotation(np.pi/6.0)"
   ]
  },
  {
   "cell_type": "markdown",
   "metadata": {
    "cell_id": "00016-81be013e-fcf5-4c27-ab65-a06efed95160",
    "colab_type": "text",
    "deepnote_cell_height": 74.796875,
    "deepnote_cell_type": "markdown",
    "id": "oJv_BmszE9kj"
   },
   "source": [
    "**Below, your job is to complete the compose_circular_key_frames method given the center of the circle and interpolated rotation angles about the center of the circle of the key frames**"
   ]
  },
  {
   "cell_type": "code",
   "execution_count": 8,
   "metadata": {
    "cell_id": "00017-c963b3b1-711a-4208-8793-34379eda0a88",
    "colab": {},
    "colab_type": "code",
    "deepnote_cell_height": 364,
    "deepnote_cell_type": "code",
    "deepnote_to_be_reexecuted": false,
    "execution_millis": 1,
    "execution_start": 1664325169990,
    "id": "8Bh455axE9kk",
    "source_hash": "209b3e43"
   },
   "outputs": [],
   "source": [
    "def compose_circular_key_frames(thetas, X_WorldCenter, X_WorldGripper_init):\n",
    "    \"\"\"    \n",
    "    returns: a list of RigidTransforms\n",
    "    \"\"\"\n",
    "    ## this is an template, replace your code below\n",
    "\n",
    "    key_frame_poses_in_world = [X_WorldGripper_init]\n",
    "    for theta in thetas:\n",
    "\n",
    "        p = [0.45 + radius * np.cos(theta), 0.0 + radius * np.sin(theta), 0.4]\n",
    "        R = RotationMatrix(np.array([[0, 1, 0], [0, 0, -1], [-1, 0, 0]]).T)\n",
    "        RR = RotationMatrix.MakeYRotation(-theta)\n",
    "        this_pose = RigidTransform(R @ RR, p)\n",
    "\n",
    "        key_frame_poses_in_world.append(this_pose)\n",
    "        \n",
    "    return key_frame_poses_in_world"
   ]
  },
  {
   "cell_type": "code",
   "execution_count": 9,
   "metadata": {
    "cell_id": "00018-57f229cc-7ad9-4a7d-9c28-48690e9e4b9b",
    "colab": {},
    "colab_type": "code",
    "deepnote_cell_height": 184,
    "deepnote_cell_type": "code",
    "deepnote_to_be_reexecuted": false,
    "execution_millis": 1,
    "execution_start": 1664325170270,
    "id": "e28C5w_RE9kt",
    "source_hash": "8b0d2e38"
   },
   "outputs": [],
   "source": [
    "# check key frames instead of interpolated trajectory\n",
    "def visualize_key_frames(frame_poses):\n",
    "    for i, pose in enumerate(frame_poses):\n",
    "        painter.visualize_frame('frame_{}'.format(i), pose, length=0.05)\n",
    "        \n",
    "key_frame_poses = compose_circular_key_frames(thetas, X_WorldCenter, painter.get_X_WG())   \n",
    "visualize_key_frames(key_frame_poses)"
   ]
  },
  {
   "cell_type": "markdown",
   "metadata": {
    "cell_id": "00019-b7d2ced7-3983-4630-a6b3-046bc00a0b5c",
    "colab_type": "text",
    "deepnote_cell_height": 130.796875,
    "deepnote_cell_type": "markdown",
    "id": "ag2beQ-wE9kx"
   },
   "source": [
    "## Construct Trajectory\n",
    "\n",
    "Now construct the trajectories to interpolate the positions and orientations of key frames using `PiecewisePose`. You might find it helpful to review the examples in the main chapter notebook.\n"
   ]
  },
  {
   "cell_type": "code",
   "execution_count": 12,
   "metadata": {
    "cell_id": "00020-060fdc23-d785-4d15-baa5-4d46d92a8f3d",
    "colab": {},
    "colab_type": "code",
    "deepnote_cell_height": 148,
    "deepnote_cell_type": "code",
    "deepnote_to_be_reexecuted": false,
    "execution_millis": 0,
    "execution_start": 1664325927737,
    "id": "MGah0BwTE9ky",
    "source_hash": "7457ec6a"
   },
   "outputs": [],
   "source": [
    "X_WorldGripper_init = painter.get_X_WG()\n",
    "total_time = 10\n",
    "key_frame_poses = compose_circular_key_frames(thetas, X_WorldCenter, X_WorldGripper_init)  \n",
    "times = np.linspace(0, total_time, num_key_frames+1)\n",
    "traj = PiecewisePose.MakeLinear(times, key_frame_poses)"
   ]
  },
  {
   "cell_type": "markdown",
   "metadata": {
    "cell_id": "00021-e147573f-e355-476f-a4c6-12732b0c7477",
    "colab_type": "text",
    "deepnote_cell_height": 74.796875,
    "deepnote_cell_type": "markdown",
    "id": "YB0sjycBE9k8"
   },
   "source": [
    "Now you should be able to visualize the execution of the circular painting. Use it to confirm that the gripper moves counterclockwise following the key frames previously drawn in the scene."
   ]
  },
  {
   "cell_type": "code",
   "execution_count": 13,
   "metadata": {
    "cell_id": "00022-f22bbb97-c499-4a25-9b23-cb1072d0edfb",
    "colab": {},
    "colab_type": "code",
    "deepnote_cell_height": 94,
    "deepnote_cell_type": "code",
    "deepnote_to_be_reexecuted": false,
    "execution_millis": 30001,
    "execution_start": 1664326092111,
    "id": "lumf3EUSZp0y",
    "source_hash": "51325e48"
   },
   "outputs": [],
   "source": [
    "painter = IIWA_Painter(traj)\n",
    "painter.paint(sim_duration=total_time)"
   ]
  },
  {
   "cell_type": "markdown",
   "metadata": {
    "cell_id": "00023-caccdcf1-c216-41af-bee9-cfc92306775d",
    "colab_type": "text",
    "deepnote_cell_height": 254.1875,
    "deepnote_cell_type": "markdown",
    "id": "OaaONjD4E9lI"
   },
   "source": [
    "**Note that in this problem we have explicitly chosen to use the initial gripper pose as the start of the circular trajectory. Is this choice necessary to have the robot follow the desired circular path? Explain your answer and reasoning.**\n",
    "\n",
    "Hints: \n",
    "- Take a look at the constructor for the `IIWA_Painter` class a few cells above. Note the input/output variables of our pseudoinverse controller and the iiwa controller. Also, what's that integrator doing there?\n",
    "- You can test this using the code above by modifying the first pose of the trajectory and observing the result (just make sure to change your `compose_circular_key_frames` function to the final version you want before submitting to the grader!)"
   ]
  },
  {
   "cell_type": "markdown",
   "metadata": {
    "cell_id": "00024-1554c928-8257-485b-9451-401194fb1e60",
    "colab_type": "text",
    "deepnote_cell_height": 234.390625,
    "deepnote_cell_type": "markdown",
    "id": "oJGsEidfE9lJ"
   },
   "source": [
    "## Your Answer\n",
    "\n",
    "The integrators is needed because the robot (station) is accepting joint positions as input, not join velocities. But the controller outputs velocities. So there should be a way to translate velocity to position. Since velocity is the first derivative of position, to get position, we need to integrate velocity.\n",
    "\n",
    "But integrators always need initial conditions to work correctly. Since we start movement from the place where the grip is at the beginning, this value should be used as the first position to correctly initialize the integrator. If not doing so, the trajectory will be wrong."
   ]
  },
  {
   "cell_type": "markdown",
   "metadata": {
    "cell_id": "00025-49ee52d6-9ee6-4cc9-834c-d4c7a9c86504",
    "deepnote_cell_height": 119.59375,
    "deepnote_cell_type": "markdown"
   },
   "source": [
    "**Note that the default amount of time we simulate forward (in the `paint()` method of the `IIWA_Painter`) matches the total time interval we specify for our trajectory (in `np.linspace()` a few cells above). What happens if you increase the simulation time while keeping the total time for the trajectory fixed? What is the cause of your expected/observed behavior?**"
   ]
  },
  {
   "cell_type": "markdown",
   "metadata": {
    "cell_id": "00026-d4a3caab-7785-48b7-aaba-c1fe60c91ae4",
    "colab_type": "text",
    "deepnote_cell_height": 197.984375,
    "deepnote_cell_type": "markdown",
    "id": "oJGsEidfE9lJ"
   },
   "source": [
    "## Your Answer\n",
    "\n",
    "The trajectory is set as num_key_frames+1 intervals of uniform duration of d = total_time/(num_key_frames+1) time units. Then the robot movement happens, say from point A to point B by computing the velocity needed to pass the line between these points within the time interval d. When simulating for longer time after reaching the last point, it just uses the last computed velocities and moves follwing the near-tangent trajectory until it failes to solve the jacobian inverse and breaks (starts to behave in a werd way)."
   ]
  },
  {
   "cell_type": "markdown",
   "metadata": {
    "cell_id": "00027-d7f544fb-56db-4e89-9555-b91e4fdb695d",
    "colab_type": "text",
    "deepnote_cell_height": 46,
    "deepnote_cell_type": "markdown",
    "id": "AuvTfWR0HPL-"
   },
   "source": []
  },
  {
   "cell_type": "markdown",
   "metadata": {
    "cell_id": "00028-eb07aa4a-b927-4de4-ae9d-cc4175f36efa",
    "colab_type": "text",
    "deepnote_cell_height": 360.578125,
    "deepnote_cell_type": "markdown",
    "id": "zPmeRLtJk410"
   },
   "source": [
    "## How will this notebook be Graded?##\n",
    "\n",
    "If you are enrolled in the class, this notebook will be graded using [Gradescope](www.gradescope.com). You should have gotten the enrollement code on our announcement in Piazza. \n",
    "\n",
    "For submission of this assignment, you must do two things. \n",
    "- Download and submit the notebook `robot_painter.ipynb` to Gradescope's notebook submission section, along with your notebook for the other problems.\n",
    "\n",
    "We will evaluate the local functions in the notebook to see if the function behaves as we have expected. For this exercise, the rubric is as follows:\n",
    "- [4.0 pts] `compose_circular_key_frames` is correct according to the requirement\n",
    "- [3.0 pts] reasonable answer on the written question"
   ]
  },
  {
   "cell_type": "code",
   "execution_count": 13,
   "metadata": {
    "cell_id": "00029-d5b3a187-f6db-46b9-abda-da0d0286189f",
    "colab": {},
    "colab_type": "code",
    "deepnote_cell_height": 218.078125,
    "deepnote_cell_type": "code",
    "deepnote_to_be_reexecuted": false,
    "execution_millis": 630,
    "execution_start": 1664325197929,
    "id": "95VTQeqg_P0P",
    "source_hash": "a1cd90ed"
   },
   "outputs": [
    {
     "name": "stdout",
     "output_type": "stream",
     "text": [
      "Total score is 4/4.\n",
      "\n",
      "Score for compose_circualr_key_frames is 4/4.\n"
     ]
    }
   ],
   "source": [
    "from manipulation.exercises.pick.test_robot_painter import TestRobotPainter\n",
    "from manipulation.exercises.grader import Grader \n",
    "\n",
    "Grader.grade_output([TestRobotPainter], [locals()], 'results.json')\n",
    "Grader.print_test_results('results.json')"
   ]
  },
  {
   "cell_type": "code",
   "execution_count": null,
   "metadata": {
    "cell_id": "5d5b9f3b5fc4411589f8ba0a152f0f77",
    "deepnote_cell_height": 76,
    "deepnote_cell_type": "code",
    "deepnote_to_be_reexecuted": false,
    "execution_millis": 1,
    "execution_start": 1664325198097,
    "source_hash": "b623e53d",
    "tags": []
   },
   "outputs": [],
   "source": []
  },
  {
   "cell_type": "code",
   "execution_count": null,
   "metadata": {
    "cell_id": "2dc2503e024a44138b6e85cdf0a15b14",
    "deepnote_cell_height": 76,
    "deepnote_cell_type": "code",
    "deepnote_to_be_reexecuted": false,
    "execution_millis": 0,
    "execution_start": 1664325198222,
    "source_hash": "b623e53d",
    "tags": []
   },
   "outputs": [],
   "source": []
  },
  {
   "cell_type": "code",
   "execution_count": null,
   "metadata": {
    "cell_id": "3531a0b1a1d842a99fc0f5982f113739",
    "deepnote_cell_height": 61,
    "deepnote_cell_type": "code",
    "tags": []
   },
   "outputs": [],
   "source": []
  },
  {
   "cell_type": "markdown",
   "metadata": {
    "created_in_deepnote_cell": true,
    "deepnote_cell_type": "markdown",
    "tags": []
   },
   "source": [
    "<a style='text-decoration:none;line-height:16px;display:flex;color:#5B5B62;padding:10px;justify-content:end;' href='https://deepnote.com?utm_source=created-in-deepnote-cell&projectId=666a2a70-e768-4ff3-84f1-b0f505faf9dd' target=\"_blank\">\n",
    "<img alt='Created in deepnote.com' style='display:inline;max-height:16px;margin:0px;margin-right:7.5px;' src='data:image/svg+xml;base64,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' > </img>\n",
    "Created in <span style='font-weight:600;margin-left:4px;'>Deepnote</span></a>"
   ]
  }
 ],
 "metadata": {
  "celltoolbar": "Tags",
  "colab": {
   "collapsed_sections": [],
   "name": "robot_painter.ipynb",
   "provenance": []
  },
  "deepnote": {},
  "deepnote_execution_queue": [],
  "deepnote_notebook_id": "c85250b9-2e9c-4e44-a253-7de8cb454893",
  "kernelspec": {
   "display_name": "env",
   "language": "python",
   "name": "env"
  },
  "language_info": {
   "codemirror_mode": {
    "name": "ipython",
    "version": 3
   },
   "file_extension": ".py",
   "mimetype": "text/x-python",
   "name": "python",
   "nbconvert_exporter": "python",
   "pygments_lexer": "ipython3",
   "version": "3.8.10"
  },
  "vscode": {
   "interpreter": {
    "hash": "b0fa6594d8f4cbf19f97940f81e996739fb7646882a419484c72d19e05852a7e"
   }
  }
 },
 "nbformat": 4,
 "nbformat_minor": 1
}
