{
 "cells": [
  {
   "cell_type": "markdown",
   "id": "50e95fb0",
   "metadata": {},
   "source": [
    "# Bricklayer Robot"
   ]
  },
  {
   "cell_type": "code",
   "execution_count": 2,
   "id": "1d4a4493",
   "metadata": {},
   "outputs": [
    {
     "name": "stdout",
     "output_type": "stream",
     "text": [
      "The autoreload extension is already loaded. To reload it, use:\n",
      "  %reload_ext autoreload\n"
     ]
    },
    {
     "name": "stderr",
     "output_type": "stream",
     "text": [
      "/home/nikita/env/lib/python3.10/site-packages/mpld3/mplexporter/renderers/base.py:4: DeprecationWarning: The distutils package is deprecated and slated for removal in Python 3.12. Use setuptools or check PEP 632 for potential alternatives\n",
      "  from distutils.version import LooseVersion\n",
      "INFO:drake:Meshcat listening for connections at http://localhost:7000\n"
     ]
    },
    {
     "name": "stdout",
     "output_type": "stream",
     "text": [
      "Working in directory  /home/nikita/MIT_6_4212/project\n"
     ]
    }
   ],
   "source": [
    "# Extensions: magic to avoid re-loading modified .py modules all the time\n",
    "%load_ext autoreload\n",
    "%autoreload 2\n",
    "\n",
    "# Bookkeeping\n",
    "import sys\n",
    "import shutil\n",
    "import os as os\n",
    "import matplotlib.pyplot as plt\n",
    "\n",
    "# Custom project classes and functions\n",
    "from iiwa import *\n",
    "from Trajectory import *\n",
    "from TrajectoryBuilder import *\n",
    "from Visualizer import *\n",
    "from BrickPlanner import *\n",
    "from HighPerformanceTrajectoryBuilder import *\n",
    "\n",
    "# Some paths\n",
    "kProjectDir = os.getcwd()\n",
    "print(\"Working in directory \", kProjectDir)\n",
    "\n",
    "# Hack: move our model packages to the manipulation/ folder to allow Drake to find them\n",
    "shutil.copyfile(kProjectDir + \"/models/brick.dmd.yaml\", kProjectDir + \"/../manipulation/manipulation/models/brick.dmd.yaml\")\n",
    "shutil.copyfile(kProjectDir + \"/models/real_brick.sdf\", kProjectDir + \"/../manipulation/manipulation/models/real_brick.sdf\")\n",
    "shutil.copyfile(kProjectDir + \"/models/ground_model.sdf\", kProjectDir + \"/../manipulation/manipulation/models/ground_model.sdf\")\n",
    "\n",
    "# Start the visualizer.\n",
    "meshcat = StartMeshcat()"
   ]
  },
  {
   "cell_type": "code",
   "execution_count": 13,
   "id": "962781ac",
   "metadata": {},
   "outputs": [],
   "source": [
    "# System configs\n",
    "# Brick configuration\n",
    "kNumberOfBricks =  50 # @param\n",
    "# Brick dimensions, must be consistent with the geometry in models/real_brick.sdf\n",
    "kBrickGeom = np.array([0.075, 0.1, 0.05]) # @param\n",
    "\n",
    "# Brick warehouse config\n",
    "kWhLocation = np.array([2.5, 2.5, 0.15]) # location of the warehouse (corner), # @param\n",
    "kWhSize = np.array([6, 6, 10]) # size of the warehouse grid in cells, # @param\n",
    "if (kWhSize.prod() < kNumberOfBricks):\n",
    "    assert False, \"The warehouse is too small to fit all bricks\""
   ]
  },
  {
   "cell_type": "code",
   "execution_count": null,
   "id": "2ab1cd3a",
   "metadata": {},
   "outputs": [],
   "source": []
  },
  {
   "cell_type": "code",
   "execution_count": 14,
   "id": "26b4d21c",
   "metadata": {},
   "outputs": [
    {
     "name": "stdout",
     "output_type": "stream",
     "text": [
      "Parsing floorplan:  \n",
      "|- - - - - - - - |\n",
      "|                |\n",
      "|                |\n",
      "|                |\n",
      "|                |- - - |\n",
      "|                |      |\n",
      "|                |      |\n",
      "|                |- - - |\n",
      "|                |\n",
      "|- - - - - - - - |\n",
      "\n",
      "Bricks planned, total bricked needed:  46\n"
     ]
    }
   ],
   "source": [
    "# Generate bricks\n",
    "floorplan = \"\"\"\n",
    "|\n",
    "|\n",
    "|\n",
    "\"\"\"\n",
    "\n",
    "floorplan_0 = \"\"\"\n",
    "|- - - - - |\n",
    "|          |\n",
    "|          |\n",
    "|          |\n",
    "|- - - - - |\n",
    "\"\"\"\n",
    "\n",
    "floorplan_1 = \"\"\"\n",
    "|- - - - - - - - |\n",
    "|                |\n",
    "|                |\n",
    "|                |\n",
    "|                |\n",
    "|                |\n",
    "|                |\n",
    "|                |\n",
    "|                |\n",
    "|- - - - - - - - |\n",
    "\"\"\"\n",
    "\n",
    "floorplan_2 = \"\"\"\n",
    "|- - - - - - - - |\n",
    "|                |\n",
    "|                |\n",
    "|                |\n",
    "|                |- - - |\n",
    "|                |      |\n",
    "|                |      |\n",
    "|                |- - - |\n",
    "|                |\n",
    "|- - - - - - - - |\n",
    "\"\"\"\n",
    "\n",
    "kHeight = 1 # @param\n",
    "kGap = 0.005 # @param\n",
    "planer = Planner(floorplan_2, kBrickGeom, kGap, kHeight)\n",
    "planer.shift(-0.55, -0.45)\n",
    "total_bricks_needed = planer.get_total_bricks_n()\n",
    "if (total_bricks_needed > kNumberOfBricks):\n",
    "    assert False, \"There is not enough bricks to cover the building\"\n",
    "print(\"Bricks planned, total bricked needed: \", total_bricks_needed)\n",
    "\n",
    "# Visualize floorplan\n",
    "vis = Visualizer(meshcat, kBrickGeom)\n",
    "vis.clear_vis()\n",
    "vis.visualize_plan(np.array(planer.get_brick_poses()))"
   ]
  },
  {
   "cell_type": "code",
   "execution_count": 39,
   "id": "bb636bd8",
   "metadata": {},
   "outputs": [],
   "source": [
    "# Robot setup\n",
    "kNumRobots = 1\n",
    "kArms = [\n",
    "         np.array([0, 0, 0]),\n",
    "         np.array([-0.5, 1.0, 0])\n",
    "        ]\n",
    "kBrickSources = [\n",
    "                 RigidTransform(np.array([0.6, 0.0, kBrickGeom[2]/2])),\n",
    "                 RigidTransform(np.array([0.0, 1.0, kBrickGeom[2]/2]))\n",
    "                ]\n",
    "\n",
    "ilyich = IIWA_Ilyich(meshcat, kNumberOfBricks, kBrickGeom, kArms, None)"
   ]
  },
  {
   "cell_type": "code",
   "execution_count": 40,
   "id": "e39b799c",
   "metadata": {
    "scrolled": false
   },
   "outputs": [
    {
     "name": "stdout",
     "output_type": "stream",
     "text": [
      "q0 in calibration point is  [ 0.14557608  0.67413625 -0.22359343 -1.39006593  0.15704599  1.09444912\n",
      "  1.46900663  0.          0.        ]\n",
      "Initializing HPC trajectory builder with  20  workers on  192  core machine\n",
      "Covered bricks:  [0, 1, 2, 3, 4, 5, 6, 7, 10, 12, 13, 14, 15, 16, 17, 18, 19, 22, 23, 25, 26, 28, 29, 30, 31, 34, 35, 36, 37, 38, 39, 40, 41, 42, 43, 44, 45]\n",
      "Failed bricks: [8, 9, 11, 20, 21, 24, 27, 32, 33]\n",
      "q0 in calibration point is  [ 0.15244708  0.45644639 -0.19379517 -1.7365921   0.10379735  0.95790411\n",
      "  1.48881621  0.          0.        ]\n",
      "Initializing HPC trajectory builder with  20  workers on  192  core machine\n",
      "Covered bricks:  [8, 9, 11, 20, 21, 24, 27, 32, 33]\n",
      "Failed bricks: []\n"
     ]
    }
   ],
   "source": [
    "# Build trajectories for robots\n",
    "def build_trajectories_for_robot(robot_id, bricks):\n",
    "    X_WBrickSource = kBrickSources[robot_id]\n",
    "    robot_pose = RigidTransform(RollPitchYaw(0, 0, 0), kArms[robot_id])\n",
    "    X_WG = ilyich.get_X_WG()[robot_id]\n",
    "\n",
    "    # Build initial trajectory and get q0 in the calibration point\n",
    "    # np.array([ 0., 0.6, 0., 0.0, 0.0, 1, 0.0, 0., 0.])\n",
    "    trj_builder = TrajectoryBuilder(X_WBrickSource)\n",
    "    trj_builder.gen_initial_traj(X_WG)\n",
    "    res, q0 = trj_builder.solve_IK(np.array([ 0., 0.0, 0., 0.0, 0.0, 0.0, 0.0, 0., 0.]), robot_pose)\n",
    "    assert res == True, \"Failed to solve IK for the initial trajectory\"\n",
    "    print(\"q0 in calibration point is \", q0)\n",
    "\n",
    "    # Build other trajectories\n",
    "    kNumWorkers = 20 # @Param\n",
    "    hpc_trj_builder = HighPerformanceTrajectoryBuilder(planer,\n",
    "                                                       X_WBrickSource,\n",
    "                                                       bricks,\n",
    "                                                       kNumWorkers,\n",
    "                                                       q0,\n",
    "                                                       robot_pose)\n",
    "    covered_bricks, failed_bricks = hpc_trj_builder.solve(trj_builder)\n",
    "    print(\"Covered bricks: \", covered_bricks)\n",
    "    print(\"Failed bricks:\", failed_bricks)\n",
    "\n",
    "    # Speed-up a bit\n",
    "    trj_builder.get_trajectories().slow_down(0.5)\n",
    "\n",
    "    # Make trajectories for iiwa with IK\n",
    "    return trj_builder.get_trajectories().form_iiwa_traj_q(), covered_bricks, failed_bricks\n",
    "\n",
    "# Visualize coverage\n",
    "def visualize_coverage(covered_bricks, failed_bricks, covered_color, clear=True):\n",
    "    # Visualize coverage\n",
    "    vis = Visualizer(meshcat, kBrickGeom)\n",
    "    if clear:\n",
    "        vis.clear_vis()\n",
    "    vis.visualize_coverage(planer.get_brick_poses()[covered_bricks],\n",
    "                           planer.get_brick_poses()[failed_bricks],\n",
    "                           covered_color)\n",
    "\n",
    "    # Visualize all trajectories\n",
    "    for b_id in covered_bricks:\n",
    "        points = trj_builder.get_trajectory_points_for_brick(b_id)\n",
    "        vis.visualize_traj(points, b_id)\n",
    "\n",
    "# Do 1st robot\n",
    "final_trajectories = []\n",
    "\n",
    "(traj, finger_traj), covered_bricks, failed_bricks = build_trajectories_for_robot(0, range(0, total_bricks_needed))\n",
    "visualize_coverage(covered_bricks, failed_bricks, Rgba(0.61, 1, 0.60), clear=True)\n",
    "final_trajectories.append((traj, finger_traj))\n",
    "\n",
    "# Do 2nd robot\n",
    "(traj_1, finger_traj_1), covered_bricks_1, failed_bricks_1 = build_trajectories_for_robot(1, failed_bricks)\n",
    "visualize_coverage(covered_bricks_1, failed_bricks_1, Rgba(1, 1, 0.60), clear=False)\n",
    "final_trajectories.append((traj_1, finger_traj_1))"
   ]
  },
  {
   "cell_type": "code",
   "execution_count": null,
   "id": "ca84a895",
   "metadata": {},
   "outputs": [],
   "source": []
  },
  {
   "cell_type": "code",
   "execution_count": null,
   "id": "95971a48",
   "metadata": {},
   "outputs": [],
   "source": []
  },
  {
   "cell_type": "code",
   "execution_count": null,
   "id": "827a5afd",
   "metadata": {},
   "outputs": [],
   "source": []
  },
  {
   "cell_type": "code",
   "execution_count": null,
   "id": "dcdfcfff",
   "metadata": {},
   "outputs": [],
   "source": []
  },
  {
   "cell_type": "code",
   "execution_count": null,
   "id": "7ffd5784",
   "metadata": {},
   "outputs": [],
   "source": []
  },
  {
   "cell_type": "code",
   "execution_count": null,
   "id": "1633332d",
   "metadata": {},
   "outputs": [],
   "source": []
  },
  {
   "cell_type": "code",
   "execution_count": 34,
   "id": "52479c81",
   "metadata": {},
   "outputs": [
    {
     "name": "stderr",
     "output_type": "stream",
     "text": [
      "/home/nikita/MIT_6_4212/project/iiwa.py:163: DrakeDeprecationWarning: (Deprecated) See ForcedPublish() \n",
      "*/ (Deprecated.)\n",
      "\n",
      "Deprecated:\n",
      "    Use ForcedPublish() instead This will be removed from Drake on or\n",
      "    after 2023-03-01.\n",
      "  self.diagram.Publish(context)\n"
     ]
    }
   ],
   "source": [
    "# Create robot\n",
    "ilyich = IIWA_Ilyich(meshcat, kNumberOfBricks, kBrickGeom, kArms, final_trajectories)\n",
    "\n",
    "# Create default context\n",
    "context = ilyich.CreateDefaultContext()\n",
    "\n",
    "# Put all bricks in the warehouse\n",
    "ilyich.put_bricks_in_warehouse(context, kWhLocation, kWhSize, kNumberOfBricks)"
   ]
  },
  {
   "cell_type": "code",
   "execution_count": 35,
   "id": "5170fce3",
   "metadata": {},
   "outputs": [
    {
     "ename": "KeyboardInterrupt",
     "evalue": "",
     "output_type": "error",
     "traceback": [
      "\u001b[0;31m---------------------------------------------------------------------------\u001b[0m",
      "\u001b[0;31mKeyboardInterrupt\u001b[0m                         Traceback (most recent call last)",
      "Cell \u001b[0;32mIn [35], line 19\u001b[0m\n\u001b[1;32m     16\u001b[0m ilyich\u001b[38;5;241m.\u001b[39munlock_brick(context, i)\n\u001b[1;32m     18\u001b[0m \u001b[38;5;66;03m# Manipulate the brick to target\u001b[39;00m\n\u001b[0;32m---> 19\u001b[0m sim, ctx \u001b[38;5;241m=\u001b[39m \u001b[43milyich\u001b[49m\u001b[38;5;241;43m.\u001b[39;49m\u001b[43mwork\u001b[49m\u001b[43m(\u001b[49m\u001b[43msim\u001b[49m\u001b[43m,\u001b[49m\u001b[43m \u001b[49m\u001b[43mctx\u001b[49m\u001b[43m,\u001b[49m\u001b[43m \u001b[49m\u001b[43msim_duration\u001b[49m\u001b[38;5;241;43m=\u001b[39;49m\u001b[43mtrj_builder\u001b[49m\u001b[38;5;241;43m.\u001b[39;49m\u001b[43mget_trajectories\u001b[49m\u001b[43m(\u001b[49m\u001b[43m)\u001b[49m\u001b[38;5;241;43m.\u001b[39;49m\u001b[43mget_breakpoints\u001b[49m\u001b[43m(\u001b[49m\u001b[43m)\u001b[49m\u001b[43m[\u001b[49m\u001b[43mi\u001b[49m\u001b[38;5;241;43m+\u001b[39;49m\u001b[38;5;241;43m1\u001b[39;49m\u001b[43m]\u001b[49m\u001b[43m)\u001b[49m\n\u001b[1;32m     21\u001b[0m \u001b[38;5;66;03m# Lock brick\u001b[39;00m\n\u001b[1;32m     22\u001b[0m ilyich\u001b[38;5;241m.\u001b[39mlock_brick(context, i)\n",
      "File \u001b[0;32m~/MIT_6_4212/project/iiwa.py:254\u001b[0m, in \u001b[0;36mIIWA_Ilyich.work\u001b[0;34m(self, simulator, context, sim_duration)\u001b[0m\n\u001b[1;32m    251\u001b[0m     simulator\u001b[38;5;241m.\u001b[39mset_target_realtime_rate(\u001b[38;5;241m1.0\u001b[39m)\n\u001b[1;32m    253\u001b[0m duration \u001b[38;5;241m=\u001b[39m sim_duration \u001b[38;5;28;01mif\u001b[39;00m running_as_notebook \u001b[38;5;28;01melse\u001b[39;00m \u001b[38;5;241m0.01\u001b[39m\n\u001b[0;32m--> 254\u001b[0m \u001b[43msimulator\u001b[49m\u001b[38;5;241;43m.\u001b[39;49m\u001b[43mAdvanceTo\u001b[49m\u001b[43m(\u001b[49m\u001b[43mduration\u001b[49m\u001b[43m)\u001b[49m\n\u001b[1;32m    256\u001b[0m \u001b[38;5;28;01mreturn\u001b[39;00m (simulator, context)\n",
      "\u001b[0;31mKeyboardInterrupt\u001b[0m: "
     ]
    }
   ],
   "source": [
    "#\n",
    "# Move\n",
    "#\n",
    "# Move to calibration point and calibrate\n",
    "sim, ctx = ilyich.work(None, context, sim_duration=trj_builder.get_trajectories().get_breakpoints()[0])\n",
    "\n",
    "# Continue for all bricks\n",
    "for i, b_id in enumerate(covered_bricks):\n",
    "    # Show trajectory\n",
    "    points = trj_builder.get_trajectory_points_for_brick(b_id)\n",
    "    vis.clear_traj()\n",
    "    vis.visualize_traj(points)\n",
    "\n",
    "    # Teleport the next new brick from the warehouse and unlock it\n",
    "    ilyich.move_brick(context, X_WBrickSource, i)\n",
    "    ilyich.unlock_brick(context, i)\n",
    "\n",
    "    # Manipulate the brick to target\n",
    "    sim, ctx = ilyich.work(sim, ctx, sim_duration=trj_builder.get_trajectories().get_breakpoints()[i+1])\n",
    "\n",
    "    # Lock brick\n",
    "    ilyich.lock_brick(context, i)"
   ]
  },
  {
   "cell_type": "code",
   "execution_count": null,
   "id": "580ced7d",
   "metadata": {},
   "outputs": [],
   "source": []
  },
  {
   "cell_type": "code",
   "execution_count": null,
   "id": "a21754b9",
   "metadata": {},
   "outputs": [],
   "source": []
  },
  {
   "cell_type": "code",
   "execution_count": null,
   "id": "aff12473",
   "metadata": {},
   "outputs": [],
   "source": []
  },
  {
   "cell_type": "code",
   "execution_count": null,
   "id": "c5ab98de",
   "metadata": {},
   "outputs": [],
   "source": []
  }
 ],
 "metadata": {
  "kernelspec": {
   "display_name": "Python 3 (ipykernel)",
   "language": "python",
   "name": "python3"
  },
  "language_info": {
   "codemirror_mode": {
    "name": "ipython",
    "version": 3
   },
   "file_extension": ".py",
   "mimetype": "text/x-python",
   "name": "python",
   "nbconvert_exporter": "python",
   "pygments_lexer": "ipython3",
   "version": "3.10.6"
  }
 },
 "nbformat": 4,
 "nbformat_minor": 5
}
