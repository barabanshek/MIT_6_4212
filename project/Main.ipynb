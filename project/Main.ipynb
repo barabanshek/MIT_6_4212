{
 "cells": [
  {
   "cell_type": "markdown",
   "id": "50e95fb0",
   "metadata": {},
   "source": [
    "# Bricklayer Robot"
   ]
  },
  {
   "cell_type": "code",
   "execution_count": 1,
   "id": "1d4a4493",
   "metadata": {},
   "outputs": [],
   "source": [
    "# Bookkeeping\n",
    "# Python path for the local Drake and Manipulation\n",
    "import sys\n",
    "sys.path.append('/home/nikita/env/lib/python3.8/site-packages')\n",
    "sys.path.append('/home/nikita/robotics/manipulation')\n",
    "sys.path.append('/home/nikita/robotics')\n",
    "\n",
    "# Cool stuff\n",
    "import shutil\n",
    "import os as os\n",
    "import matplotlib.pyplot as plt\n",
    "import mpld3\n",
    "import numpy as np\n",
    "from IPython.display import HTML, display\n",
    "from manipulation import running_as_notebook, FindResource\n",
    "from manipulation.meshcat_utils import AddMeshcatTriad\n",
    "from manipulation.scenarios import MakeManipulationStation\n",
    "from pydrake.all import (AddMultibodyPlantSceneGraph, AngleAxis, BasicVector,\n",
    "                         ConstantVectorSource, DiagramBuilder,\n",
    "                         FindResourceOrThrow, Integrator, JacobianWrtVariable,\n",
    "                         LeafSystem, MeshcatVisualizer,\n",
    "                         MeshcatVisualizerParams, MultibodyPlant,\n",
    "                         MultibodyPositionToGeometryPose, Parser,\n",
    "                         PiecewisePose, Quaternion, RigidTransform,\n",
    "                         RollPitchYaw, RotationMatrix, SceneGraph, Simulator,\n",
    "                         StartMeshcat, TrajectorySource, GenerateHtml, GetDrakePath, PiecewisePolynomial)"
   ]
  },
  {
   "cell_type": "code",
   "execution_count": 2,
   "id": "e8f322e6",
   "metadata": {},
   "outputs": [
    {
     "name": "stdout",
     "output_type": "stream",
     "text": [
      "Working in directory  /home/nikita/robotics/project\n"
     ]
    }
   ],
   "source": [
    "# Some paths\n",
    "kProjectDir = os.getcwd()\n",
    "print(\"Working in directory \", kProjectDir)"
   ]
  },
  {
   "cell_type": "code",
   "execution_count": 3,
   "id": "3800e2fa",
   "metadata": {},
   "outputs": [
    {
     "data": {
      "text/plain": [
       "'/home/nikita/robotics/manipulation/manipulation/models/ground_model.sdf'"
      ]
     },
     "execution_count": 3,
     "metadata": {},
     "output_type": "execute_result"
    }
   ],
   "source": [
    "# Hack: move our model packages to the manipulation/ folder to allow Drake to find them\n",
    "shutil.copyfile(kProjectDir + \"/models/brick.dmd.yaml\", \"/home/nikita/robotics/manipulation/manipulation/models/brick.dmd.yaml\")\n",
    "shutil.copyfile(kProjectDir + \"/models/real_brick.sdf\", \"/home/nikita/robotics/manipulation/manipulation/models/real_brick.sdf\")\n",
    "shutil.copyfile(kProjectDir + \"/models/ground_model.sdf\", \"/home/nikita/robotics/manipulation/manipulation/models/ground_model.sdf\")"
   ]
  },
  {
   "cell_type": "code",
   "execution_count": 4,
   "id": "74e55826",
   "metadata": {},
   "outputs": [
    {
     "name": "stderr",
     "output_type": "stream",
     "text": [
      "INFO:drake:Meshcat listening for connections at http://localhost:7000\n"
     ]
    }
   ],
   "source": [
    "# Start the visualizer.\n",
    "meshcat = StartMeshcat()"
   ]
  },
  {
   "cell_type": "code",
   "execution_count": 5,
   "id": "962781ac",
   "metadata": {},
   "outputs": [],
   "source": [
    "# System configs\n",
    "# Brick source\n",
    "X_WBrickSource = RigidTransform(np.array([0.5, 0.5, 0.05]))\n",
    "X_WBrickTarget = RigidTransform(np.array([-0.3, 0.3, 0.15]))"
   ]
  },
  {
   "cell_type": "code",
   "execution_count": 6,
   "id": "ff7a2914",
   "metadata": {},
   "outputs": [],
   "source": [
    "# iiwa robot class\n",
    "class IIWA_Painter():\n",
    "    def __init__(self, traj_in=None):\n",
    "        builder = DiagramBuilder()\n",
    "\n",
    "        # set up the system of manipulation station\n",
    "        self.station = MakeManipulationStation(filename=FindResource(kProjectDir + \"/models/construction.dmd.yaml\"))\n",
    "        builder.AddSystem(self.station)\n",
    "\n",
    "        # set up plant\n",
    "        self.plant = self.station.GetSubsystemByName(\"plant\")\n",
    "        \n",
    "        #self.plant.SetDefaultFreeBodyPose(self.plant.GetBodyByName(\"base_link\", self.plant.GetModelInstanceByName(\"brick0\")), RigidTransform(np.array([0.5, 0.5, 0.0])))\n",
    "\n",
    "        # optionally add trajectory source\n",
    "        if traj_in is not None:\n",
    "            # traj and PseudoInverseController\n",
    "            traj = traj_in[0]\n",
    "            traj_V_G = traj.MakeDerivative()\n",
    "            V_G_source = builder.AddSystem(TrajectorySource(traj_V_G))\n",
    "            self.controller = builder.AddSystem(\n",
    "                PseudoInverseController(self.plant))\n",
    "            builder.Connect(V_G_source.get_output_port(),\n",
    "                            self.controller.GetInputPort(\"V_G\"))\n",
    "\n",
    "            # integrator and controller\n",
    "            self.integrator = builder.AddSystem(Integrator(7))\n",
    "            builder.Connect(self.controller.get_output_port(),\n",
    "                            self.integrator.get_input_port())\n",
    "            builder.Connect(self.integrator.get_output_port(),\n",
    "                            self.station.GetInputPort(\"iiwa_position\"))\n",
    "            builder.Connect(\n",
    "                self.station.GetOutputPort(\"iiwa_position_measured\"),\n",
    "                self.controller.GetInputPort(\"iiwa_position\"))\n",
    "\n",
    "            # and trajectory source for the grip fingers as well\n",
    "            finger_traj = traj_in[1]\n",
    "            wsg_source = builder.AddSystem(TrajectorySource(finger_traj))\n",
    "            wsg_source.set_name(\"wsg_command\")\n",
    "            builder.Connect(wsg_source.get_output_port(), self.station.GetInputPort(\"wsg_position\"))\n",
    "\n",
    "        # visualization\n",
    "        params = MeshcatVisualizerParams()\n",
    "        params.delete_on_initialization_event = False\n",
    "        self.visualizer = MeshcatVisualizer.AddToBuilder(\n",
    "            builder, self.station.GetOutputPort(\"query_object\"), meshcat, params)\n",
    "\n",
    "        # build and add diagram\n",
    "        self.diagram = builder.Build()    \n",
    "        self.gripper_frame = self.plant.GetFrameByName('body')\n",
    "        self.world_frame = self.plant.world_frame()\n",
    "\n",
    "        # resolve context\n",
    "        context = self.CreateDefaultContext()\n",
    "        self.diagram.Publish(context)\n",
    "\n",
    "    # Helper to visualize frame\n",
    "    def visualize_frame(self, name, X_WF, length=0.15, radius=0.006):\n",
    "        AddMeshcatTriad(meshcat, \"painter/\" + name,\n",
    "                        length=length, radius=radius, X_PT=X_WF)\n",
    "\n",
    "    # Helper to create default context\n",
    "    def CreateDefaultContext(self):\n",
    "        context = self.diagram.CreateDefaultContext()\n",
    "        plant_context = self.diagram.GetMutableSubsystemContext(\n",
    "            self.plant, context)\n",
    "        station_context = self.diagram.GetMutableSubsystemContext(\n",
    "            self.station, context)\n",
    "\n",
    "        # provide initial states\n",
    "        q0 = np.array([ 1.40666193e-05,  1.56461165e-01, -3.82761069e-05,\n",
    "                       -1.32296976e+00, -6.29097287e-06,  1.61181157e+00, -2.66900985e-05])\n",
    "        iiwa = self.plant.GetModelInstanceByName(\"iiwa\")\n",
    "        self.plant.SetPositions(plant_context, iiwa, q0)\n",
    "        self.plant.SetVelocities(plant_context, iiwa, np.zeros(7))\n",
    "        wsg = self.plant.GetModelInstanceByName(\"wsg\")\n",
    "        self.plant.SetPositions(plant_context, wsg, [-0.05, 0.05])\n",
    "        self.plant.SetVelocities(plant_context, wsg, [0, 0])        \n",
    "\n",
    "        if hasattr(self, 'integrator'):\n",
    "            self.integrator.set_integral_value(\n",
    "                self.integrator.GetMyMutableContextFromRoot(context), q0)\n",
    "\n",
    "        return context\n",
    "    \n",
    "    # Helper to get current grip position\n",
    "    def get_X_WG(self, context=None):\n",
    "\n",
    "        if not context:\n",
    "            context = self.CreateDefaultContext()\n",
    "        plant_context = self.plant.GetMyMutableContextFromRoot(context)\n",
    "        X_WG = self.plant.CalcRelativeTransform(\n",
    "                    plant_context,\n",
    "                    frame_A=self.world_frame,\n",
    "                    frame_B=self.gripper_frame)\n",
    "        return X_WG\n",
    "    \n",
    "    # Generate new brick\n",
    "    def gen_brick(self, context, X_WBrickSource):\n",
    "        plant_context = self.plant.GetMyMutableContextFromRoot(context)\n",
    "        brick_body = self.plant.GetBodyByName(\"base_link\", self.plant.GetModelInstanceByName(\"brick0\"))\n",
    "        self.plant.SetFreeBodyPose(plant_context, brick_body, X_WBrickSource)\n",
    "        self.visualize_frame(\"brick_source\", X_WBrickSource)\n",
    "\n",
    "    # Run simulation\n",
    "    def paint(self, simulator, context, sim_duration=20.0):\n",
    "        if context == None:\n",
    "            context = self.CreateDefaultContext()\n",
    "        \n",
    "        if simulator == None:\n",
    "            simulator = Simulator(self.diagram, context)\n",
    "            simulator.set_target_realtime_rate(1.0)\n",
    "\n",
    "        duration = sim_duration if running_as_notebook else 0.01\n",
    "        simulator.AdvanceTo(duration)\n",
    "        \n",
    "        return (simulator, context)\n",
    "\n",
    "# PseudoInverseController class\n",
    "class PseudoInverseController(LeafSystem):\n",
    "    def __init__(self, plant):\n",
    "        LeafSystem.__init__(self)\n",
    "        self._plant = plant\n",
    "        self._plant_context = plant.CreateDefaultContext()\n",
    "        self._iiwa = plant.GetModelInstanceByName(\"iiwa\")\n",
    "        self._G = plant.GetBodyByName(\"body\").body_frame()\n",
    "        self._W = plant.world_frame()\n",
    "\n",
    "        self.V_G_port = self.DeclareVectorInputPort(\"V_G\", BasicVector(6))\n",
    "        self.q_port = self.DeclareVectorInputPort(\"iiwa_position\", BasicVector(7))\n",
    "        self.DeclareVectorOutputPort(\"iiwa_velocity\", BasicVector(7),\n",
    "                                     self.CalcOutput)\n",
    "        self.iiwa_start = plant.GetJointByName(\"iiwa_joint_1\").velocity_start()\n",
    "        self.iiwa_end = plant.GetJointByName(\"iiwa_joint_7\").velocity_start()\n",
    "\n",
    "    def CalcOutput(self, context, output):\n",
    "        V_G = self.V_G_port.Eval(context)\n",
    "        q = self.q_port.Eval(context)\n",
    "        self._plant.SetPositions(self._plant_context, self._iiwa, q)\n",
    "        J_G = self._plant.CalcJacobianSpatialVelocity(\n",
    "            self._plant_context, JacobianWrtVariable.kV,\n",
    "            self._G, [0,0,0], self._W, self._W)\n",
    "        J_G = J_G[:,self.iiwa_start:self.iiwa_end+1] # Only iiwa terms.\n",
    "        v = np.linalg.pinv(J_G).dot(V_G) #important\n",
    "        output.SetFromVector(v)\n"
   ]
  },
  {
   "cell_type": "code",
   "execution_count": 7,
   "id": "c87a6688",
   "metadata": {},
   "outputs": [],
   "source": [
    "# Helper function\n",
    "def merge_traj(traj_a, traj_b):\n",
    "    traj = traj_a\n",
    "    base_t = traj[-1][0] + 1\n",
    "    for trj in traj_b:\n",
    "        traj.append([base_t + trj[0], trj[1], trj[2]])\n",
    "    return traj"
   ]
  },
  {
   "cell_type": "code",
   "execution_count": 8,
   "id": "2ab1cd3a",
   "metadata": {},
   "outputs": [],
   "source": [
    "# Instantiate the robot\n",
    "painter = IIWA_Painter()"
   ]
  },
  {
   "cell_type": "code",
   "execution_count": 9,
   "id": "e39b799c",
   "metadata": {},
   "outputs": [],
   "source": [
    "# Visualize the grip frame\n",
    "painter.visualize_frame('gripper_current', painter.get_X_WG())"
   ]
  },
  {
   "cell_type": "code",
   "execution_count": 10,
   "id": "f05723d3",
   "metadata": {},
   "outputs": [],
   "source": [
    "# "
   ]
  },
  {
   "cell_type": "code",
   "execution_count": 11,
   "id": "c201bd81",
   "metadata": {},
   "outputs": [],
   "source": [
    "# Setup trajectories\n",
    "# Init pose\n",
    "X_WG_init = painter.get_X_WG()\n",
    "\n",
    "# Grip poses\n",
    "X_BrickSourcePreG = RigidTransform(RotationMatrix.MakeXRotation(-np.pi/2),\n",
    "                                   np.array([0, 0, 0.35]))\n",
    "X_BrickSourceG = RigidTransform(RotationMatrix.MakeXRotation(-np.pi/2),\n",
    "                                np.array([0, 0, 0.12]))\n",
    "\n",
    "# Target poses\n",
    "X_BrickTargetPreG = RigidTransform(RotationMatrix.MakeXRotation(-np.pi/2),# @ RotationMatrix.MakeYRotation(-np.pi/2),\n",
    "                                   np.array([0, 0, 0.35]))\n",
    "X_BrickTargetG = RigidTransform(RotationMatrix.MakeXRotation(-np.pi/2),# @ RotationMatrix.MakeYRotation(-np.pi/2),\n",
    "                                np.array([0, 0, 0.12]))\n",
    "\n",
    "# Finger poses\n",
    "finger_opened = np.array([0.15]);\n",
    "finger_closed = np.array([0.05]);\n",
    "\n",
    "# Define trajectories: [time, pose, grip_pose]\n",
    "traj_initial = [[0, X_WG_init, finger_opened]]\n",
    "\n",
    "traj_grab_brick = [[2, X_WBrickSource @ X_BrickSourcePreG, finger_opened],\n",
    "                   [4, X_WBrickSource @ X_BrickSourceG,   finger_opened],\n",
    "                   [6, X_WBrickSource @ X_BrickSourceG,   finger_closed]]\n",
    "\n",
    "traj_place_brick = [[2, X_WBrickTarget @ X_BrickTargetPreG, finger_closed],\n",
    "                    [4, X_WBrickTarget @ X_BrickTargetG,    finger_closed],\n",
    "                    [6, X_WBrickTarget @ X_BrickTargetG,   finger_opened]]\n",
    "\n",
    "trajectories = merge_traj(merge_traj(traj_initial, traj_grab_brick), traj_place_brick)\n",
    "t = [trajectories[-1][0]]\n",
    "for i in range(1, 6):\n",
    "    trajectories = merge_traj(trajectories, merge_traj(traj_grab_brick, traj_place_brick))\n",
    "    t.append(trajectories[-1][0])\n",
    "\n",
    "traj = PiecewisePose.MakeLinear(np.array([t[0] for t in trajectories]),\n",
    "                                np.array([t[1] for t in trajectories]))\n",
    "\n",
    "traj_wsg_command = PiecewisePolynomial.FirstOrderHold(\n",
    "        [trajectories[0][0], trajectories[1][0]],\n",
    "        np.hstack([[trajectories[0][2]], [trajectories[1][2]]]))\n",
    "for i in range(2, len(trajectories)):\n",
    "    traj_wsg_command.AppendFirstOrderSegment(trajectories[i][0], trajectories[i][2])\n",
    "\n",
    "# Move\n",
    "painter = IIWA_Painter([traj, traj_wsg_command])"
   ]
  },
  {
   "cell_type": "code",
   "execution_count": null,
   "id": "5170fce3",
   "metadata": {},
   "outputs": [],
   "source": [
    "# Move\n",
    "context = painter.CreateDefaultContext()\n",
    "\n",
    "painter.gen_brick(context, X_WBrickSource)\n",
    "sim, ctx = painter.paint(None, context, sim_duration=t[0])\n",
    "\n",
    "for i in range(1, 6):\n",
    "    painter.gen_brick(ctx, X_WBrickSource)\n",
    "    sim, ctx = painter.paint(sim, ctx, sim_duration=t[i])"
   ]
  },
  {
   "cell_type": "code",
   "execution_count": null,
   "id": "580ced7d",
   "metadata": {},
   "outputs": [],
   "source": []
  },
  {
   "cell_type": "code",
   "execution_count": null,
   "id": "a21754b9",
   "metadata": {},
   "outputs": [],
   "source": []
  }
 ],
 "metadata": {
  "kernelspec": {
   "display_name": "env",
   "language": "python",
   "name": "env"
  },
  "language_info": {
   "codemirror_mode": {
    "name": "ipython",
    "version": 3
   },
   "file_extension": ".py",
   "mimetype": "text/x-python",
   "name": "python",
   "nbconvert_exporter": "python",
   "pygments_lexer": "ipython3",
   "version": "3.8.10"
  }
 },
 "nbformat": 4,
 "nbformat_minor": 5
}
