{
 "cells": [
  {
   "cell_type": "markdown",
   "id": "50e95fb0",
   "metadata": {},
   "source": [
    "# Bricklayer Robot"
   ]
  },
  {
   "cell_type": "code",
   "execution_count": 1,
   "id": "1d4a4493",
   "metadata": {},
   "outputs": [
    {
     "name": "stderr",
     "output_type": "stream",
     "text": [
      "/home/nikita/env/lib/python3.10/site-packages/mpld3/mplexporter/renderers/base.py:4: DeprecationWarning: The distutils package is deprecated and slated for removal in Python 3.12. Use setuptools or check PEP 632 for potential alternatives\n",
      "  from distutils.version import LooseVersion\n",
      "INFO:drake:Meshcat listening for connections at http://localhost:7000\n"
     ]
    },
    {
     "name": "stdout",
     "output_type": "stream",
     "text": [
      "Working in directory  /home/nikita/MIT_6_4212/project\n"
     ]
    }
   ],
   "source": [
    "# Extensions: magic to avoid re-loading modified .py modules all the time\n",
    "%load_ext autoreload\n",
    "%autoreload 2\n",
    "\n",
    "# Bookkeeping\n",
    "import sys\n",
    "import shutil\n",
    "import os as os\n",
    "import matplotlib.pyplot as plt\n",
    "\n",
    "# Custom project classes and functions\n",
    "from iiwa import *\n",
    "from Trajectory import *\n",
    "from TrajectoryBuilder import *\n",
    "from Visualizer import *\n",
    "\n",
    "# Some paths\n",
    "kProjectDir = os.getcwd()\n",
    "print(\"Working in directory \", kProjectDir)\n",
    "\n",
    "# Hack: move our model packages to the manipulation/ folder to allow Drake to find them\n",
    "shutil.copyfile(kProjectDir + \"/models/brick.dmd.yaml\", kProjectDir + \"/../manipulation/manipulation/models/brick.dmd.yaml\")\n",
    "shutil.copyfile(kProjectDir + \"/models/real_brick.sdf\", kProjectDir + \"/../manipulation/manipulation/models/real_brick.sdf\")\n",
    "shutil.copyfile(kProjectDir + \"/models/ground_model.sdf\", kProjectDir + \"/../manipulation/manipulation/models/ground_model.sdf\")\n",
    "\n",
    "# Start the visualizer.\n",
    "meshcat = StartMeshcat()"
   ]
  },
  {
   "cell_type": "code",
   "execution_count": 2,
   "id": "962781ac",
   "metadata": {},
   "outputs": [],
   "source": [
    "# System configs\n",
    "# Brick configuration\n",
    "kNumberOfBricks =  40 # @param\n",
    "# Brick dimensions, must be consistent with the geometry in models/real_brick.sdf\n",
    "kBrickGeom = np.array([0.075, 0.1, 0.05]) # @param\n",
    "\n",
    "# Brick warehouse config\n",
    "kWhLocation = np.array([2.5, 2.5, 0.15]) # location of the warehouse (corner), # @param\n",
    "kWhSize = np.array([5, 5, 5]) # size of the warehouse grid in cells, # @param\n",
    "if (kWhSize.prod() < kNumberOfBricks):\n",
    "    assert False, \"The warehouse is too small to fit all bricks\"\n",
    "\n",
    "# Brick source\n",
    "X_WBrickSource = RigidTransform(np.array([0.5, 0.5, kBrickGeom[2]/2])) # @param"
   ]
  },
  {
   "cell_type": "code",
   "execution_count": 3,
   "id": "2ab1cd3a",
   "metadata": {},
   "outputs": [],
   "source": [
    "# Instantiate the robot (TODO: remove it from here)\n",
    "ilyich = IIWA_Ilyich(meshcat, kNumberOfBricks, kBrickGeom)"
   ]
  },
  {
   "cell_type": "code",
   "execution_count": 4,
   "id": "e39b799c",
   "metadata": {},
   "outputs": [
    {
     "name": "stdout",
     "output_type": "stream",
     "text": [
      "q0 in calibration point is  [-2.01456465 -1.18269787  2.05091819 -0.82894531  1.04389826  1.6124684\n",
      "  0.99042727  0.          0.        ]\n",
      "Failed to solve IK for trajectory point:  place brick #5 approach (0.0)\n",
      "Failed to solve IK for trajectory point:  place brick #5 approach (0.5)\n",
      "Failed to solve IK for trajectory point:  place brick #5 withdraw (3.5)\n",
      "Failed to solve IK for trajectory point:  move_back #5 time: 0.0\n",
      "Failed to solve IK for trajectory point:  place brick #8 approach (0.0)\n",
      "Failed to solve IK for trajectory point:  place brick #8 approach (0.5)\n",
      "Failed to solve IK for trajectory point:  place brick #8 approach (1.0)\n",
      "Failed to solve IK for trajectory point:  place brick #8 approach (1.5)\n",
      "Failed to solve IK for trajectory point:  place brick #8 approach (2.0)\n",
      "Failed to solve IK for trajectory point:  place brick #8 withdraw (2.0)\n",
      "Failed to solve IK for trajectory point:  place brick #8 withdraw (2.5)\n",
      "Failed to solve IK for trajectory point:  place brick #8 withdraw (3.0)\n",
      "Failed to solve IK for trajectory point:  place brick #8 withdraw (3.5)\n",
      "Failed to solve IK for trajectory point:  move_back #8 time: 0.0\n",
      "Failed to solve IK for trajectory point:  place brick #11 approach (0.0)\n",
      "Failed to solve IK for trajectory point:  place brick #11 approach (0.5)\n",
      "Failed to solve IK for trajectory point:  place brick #11 approach (1.0)\n",
      "Failed to solve IK for trajectory point:  place brick #11 approach (1.5)\n",
      "Failed to solve IK for trajectory point:  place brick #11 approach (2.0)\n",
      "Failed to solve IK for trajectory point:  place brick #11 approach (2.5)\n",
      "Failed to solve IK for trajectory point:  place brick #11 approach (3.0)\n",
      "Failed to solve IK for trajectory point:  place brick #11 withdraw (1.0)\n",
      "Failed to solve IK for trajectory point:  place brick #11 withdraw (1.5)\n",
      "Failed to solve IK for trajectory point:  place brick #11 withdraw (2.0)\n",
      "Failed to solve IK for trajectory point:  place brick #11 withdraw (2.5)\n",
      "Failed to solve IK for trajectory point:  place brick #11 withdraw (3.0)\n",
      "Failed to solve IK for trajectory point:  place brick #11 withdraw (3.5)\n",
      "Failed to solve IK for trajectory point:  move_back #11 time: 0.0\n",
      "Failed to solve IK for trajectory point:  move #14 time: 1.9000000000000001\n",
      "Failed to solve IK for trajectory point:  place brick #14 approach (0.0)\n",
      "Failed to solve IK for trajectory point:  place brick #14 approach (0.5)\n",
      "Failed to solve IK for trajectory point:  place brick #14 approach (1.0)\n",
      "Failed to solve IK for trajectory point:  place brick #14 approach (1.5)\n",
      "Failed to solve IK for trajectory point:  place brick #14 approach (2.0)\n",
      "Failed to solve IK for trajectory point:  place brick #14 approach (2.5)\n",
      "Failed to solve IK for trajectory point:  place brick #14 approach (3.0)\n",
      "Failed to solve IK for trajectory point:  place brick #14 approach (3.5)\n",
      "Failed to solve IK for trajectory point:  place brick #14 finger open 1\n",
      "Failed to solve IK for trajectory point:  place brick #14 finger open 2\n",
      "Failed to solve IK for trajectory point:  place brick #14 withdraw (0.0)\n",
      "Failed to solve IK for trajectory point:  place brick #14 withdraw (0.5)\n",
      "Failed to solve IK for trajectory point:  place brick #14 withdraw (1.0)\n",
      "Failed to solve IK for trajectory point:  place brick #14 withdraw (1.5)\n",
      "Failed to solve IK for trajectory point:  place brick #14 withdraw (2.0)\n",
      "Failed to solve IK for trajectory point:  place brick #14 withdraw (2.5)\n",
      "Failed to solve IK for trajectory point:  place brick #14 withdraw (3.0)\n",
      "Failed to solve IK for trajectory point:  place brick #14 withdraw (3.5)\n",
      "Failed to solve IK for trajectory point:  move_back #14 time: 0.0\n",
      "Failed to solve IK for trajectory point:  move_back #14 time: 0.1\n",
      "Covered bricks:  [0, 1, 2, 3, 4, 6, 7, 9, 10, 12, 13, 15, 16, 17, 18, 19, 20, 21, 22, 23, 24, 25, 26, 27, 28, 29]\n",
      "Failed bricks: [5, 8, 11, 14]\n"
     ]
    }
   ],
   "source": [
    "# Build trajectories\n",
    "# Build initial trajectory and get q0 in the calibration point\n",
    "trj_builder = TrajectoryBuilder(ilyich, X_WBrickSource)\n",
    "trj_builder.gen_initial_traj()\n",
    "err = trj_builder.solve_IK(np.array([ 0., 0.6, 0., 0.0, 0.0, 1, 0.0, 0., 0.]))\n",
    "assert err == 0, \"Failed to solve IK for the initial trajectory\"\n",
    "\n",
    "q0 = trj_builder.get_trajectories().get_traj()[-1][7]\n",
    "print(\"q0 in calibration point is \", q0)\n",
    "\n",
    "# Build trajectories for the bricks\n",
    "kNumberOfBricks = 30\n",
    "\n",
    "# Layout\n",
    "targets = [np.array([-0.3, 0.4, 0.025])]\n",
    "z = 0\n",
    "y = 0\n",
    "for i in range (1, 15):\n",
    "    #\n",
    "    if i % 3 == 0:\n",
    "        y = 0\n",
    "        z = z + 0.05 + 0.0001\n",
    "    else:\n",
    "        y = y + 0.100 + 0.001\n",
    "    #\n",
    "    targets.append(np.array([-0.3, 0.4 + y, 0.025 + z]))\n",
    "\n",
    "targets.append(np.array([0.0, 0.4, 0.025]))\n",
    "z = 0\n",
    "y = 0\n",
    "for i in range (1, 15):\n",
    "    #\n",
    "    if i % 3 == 0:\n",
    "        y = 0\n",
    "        z = z + 0.05 + 0.0001\n",
    "    else:\n",
    "        y = y + 0.100 + 0.001\n",
    "    #\n",
    "    targets.append(np.array([0.0, 0.4 + y, 0.025 + z]))\n",
    "\n",
    "covered_bricks = []\n",
    "failed_bricks = []\n",
    "for i in range(0, kNumberOfBricks):\n",
    "    trj_builder_for_brick = TrajectoryBuilder(ilyich, X_WBrickSource)\n",
    "    X_WBrickTarget = RigidTransform(targets[i])\n",
    "\n",
    "    # Generate trajectory for brick\n",
    "    trj_builder_for_brick.gen_grab_brick_traj(i)\n",
    "    trj_builder_for_brick.gen_move_to_place_traj(X_WBrickTarget, i)\n",
    "    trj_builder_for_brick.gen_place_brick_traj(X_WBrickTarget, i)\n",
    "    trj_builder_for_brick.gen_return_to_source_traj(X_WBrickTarget, i)\n",
    "    \n",
    "    # Solve IK for the trajectories\n",
    "    if not trj_builder_for_brick.solve_IK(q0) == 0:\n",
    "        failed_bricks.append(i)\n",
    "    else:\n",
    "        # Append trajectories\n",
    "        covered_bricks.append(i)\n",
    "        trj_builder.merge(trj_builder_for_brick)\n",
    "\n",
    "# Print stat\n",
    "print(\"Covered bricks: \", covered_bricks)\n",
    "print(\"Failed bricks:\", failed_bricks)\n",
    "\n",
    "# Speed-up a bit\n",
    "trj_builder.get_trajectories().slow_down(0.5)\n",
    "\n",
    "#trj_builder.get_trajectories().dump_trajectories([True, True, False, True, False, False])\n",
    "\n",
    "# Make trajectories for iiwa with IK\n",
    "# Form iiwa trajectories with IK\n",
    "traj, finger_traj = trj_builder.get_trajectories().form_iiwa_traj_q()"
   ]
  },
  {
   "cell_type": "code",
   "execution_count": null,
   "id": "827a5afd",
   "metadata": {},
   "outputs": [],
   "source": []
  },
  {
   "cell_type": "code",
   "execution_count": 5,
   "id": "7ffd5784",
   "metadata": {},
   "outputs": [],
   "source": [
    "# Visualize coverage\n",
    "vis = Visualizer(meshcat, kBrickGeom)\n",
    "vis.clear_vis()\n",
    "vis.visualize_coverage(np.array(targets)[covered_bricks], np.array(targets)[failed_bricks])"
   ]
  },
  {
   "cell_type": "code",
   "execution_count": 6,
   "id": "52479c81",
   "metadata": {},
   "outputs": [],
   "source": [
    "# Create robot\n",
    "ilyich = IIWA_Ilyich(meshcat, kNumberOfBricks, kBrickGeom, [traj, finger_traj])\n",
    "\n",
    "# Create default context\n",
    "context = ilyich.CreateDefaultContext()\n",
    "\n",
    "# Put all bricks in the warehouse\n",
    "ilyich.put_bricks_in_warehouse(context, kWhLocation, kWhSize, kNumberOfBricks)"
   ]
  },
  {
   "cell_type": "code",
   "execution_count": null,
   "id": "5170fce3",
   "metadata": {},
   "outputs": [
    {
     "name": "stdout",
     "output_type": "stream",
     "text": [
      "calibration q0=  [-2.02815498 -1.14158472  2.05572357 -0.82358082  1.00977052  1.6180047\n",
      "  0.9271012 ]\n"
     ]
    }
   ],
   "source": [
    "#\n",
    "# Move\n",
    "#\n",
    "# Move to calibration point and calibrate\n",
    "sim, ctx = ilyich.work(None, context, sim_duration=trj_builder.get_trajectories().get_breakpoints()[0])\n",
    "q0 = ilyich.get_q0(ctx)\n",
    "print(\"calibration q0= \", q0)\n",
    "\n",
    "# Continue for all bricks\n",
    "for i in range(0, len(covered_bricks)):\n",
    "    # Teleport the next new brick from the warehouse and unlock it\n",
    "    ilyich.move_brick(context, X_WBrickSource, i)\n",
    "    ilyich.unlock_brick(context, i)\n",
    "\n",
    "    # Manipulate the brick to target\n",
    "    sim, ctx = ilyich.work(sim, ctx, sim_duration=trj_builder.get_trajectories().get_breakpoints()[i+1])\n",
    "    \n",
    "    # Lock brick\n",
    "    ilyich.lock_brick(context, i)"
   ]
  },
  {
   "cell_type": "code",
   "execution_count": null,
   "id": "580ced7d",
   "metadata": {},
   "outputs": [],
   "source": []
  },
  {
   "cell_type": "code",
   "execution_count": null,
   "id": "a21754b9",
   "metadata": {},
   "outputs": [],
   "source": []
  },
  {
   "cell_type": "code",
   "execution_count": null,
   "id": "aff12473",
   "metadata": {},
   "outputs": [],
   "source": []
  },
  {
   "cell_type": "code",
   "execution_count": null,
   "id": "c5ab98de",
   "metadata": {},
   "outputs": [],
   "source": []
  }
 ],
 "metadata": {
  "kernelspec": {
   "display_name": "Python 3 (ipykernel)",
   "language": "python",
   "name": "python3"
  },
  "language_info": {
   "codemirror_mode": {
    "name": "ipython",
    "version": 3
   },
   "file_extension": ".py",
   "mimetype": "text/x-python",
   "name": "python",
   "nbconvert_exporter": "python",
   "pygments_lexer": "ipython3",
   "version": "3.10.6"
  }
 },
 "nbformat": 4,
 "nbformat_minor": 5
}
