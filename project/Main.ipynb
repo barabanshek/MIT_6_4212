{
 "cells": [
  {
   "cell_type": "markdown",
   "id": "50e95fb0",
   "metadata": {},
   "source": [
    "# Bricklayer Robot"
   ]
  },
  {
   "cell_type": "code",
   "execution_count": 1,
   "id": "1d4a4493",
   "metadata": {},
   "outputs": [
    {
     "name": "stderr",
     "output_type": "stream",
     "text": [
      "/home/nikita/env/lib/python3.10/site-packages/mpld3/mplexporter/renderers/base.py:4: DeprecationWarning: The distutils package is deprecated and slated for removal in Python 3.12. Use setuptools or check PEP 632 for potential alternatives\n",
      "  from distutils.version import LooseVersion\n",
      "INFO:drake:Meshcat listening for connections at http://localhost:7000\n"
     ]
    },
    {
     "name": "stdout",
     "output_type": "stream",
     "text": [
      "Working in directory  /home/nikita/MIT_6_4212/project\n"
     ]
    }
   ],
   "source": [
    "# Extensions: magic to avoid re-loading modified .py modules all the time\n",
    "%load_ext autoreload\n",
    "%autoreload 2\n",
    "\n",
    "# Bookkeeping\n",
    "import sys\n",
    "import shutil\n",
    "import os as os\n",
    "import matplotlib.pyplot as plt\n",
    "\n",
    "# Custom project classes and functions\n",
    "from iiwa import *\n",
    "from Trajectory import *\n",
    "from TrajectoryBuilder import *\n",
    "from Visualizer import *\n",
    "from BrickPlanner import *\n",
    "\n",
    "# Some paths\n",
    "kProjectDir = os.getcwd()\n",
    "print(\"Working in directory \", kProjectDir)\n",
    "\n",
    "# Hack: move our model packages to the manipulation/ folder to allow Drake to find them\n",
    "shutil.copyfile(kProjectDir + \"/models/brick.dmd.yaml\", kProjectDir + \"/../manipulation/manipulation/models/brick.dmd.yaml\")\n",
    "shutil.copyfile(kProjectDir + \"/models/real_brick.sdf\", kProjectDir + \"/../manipulation/manipulation/models/real_brick.sdf\")\n",
    "shutil.copyfile(kProjectDir + \"/models/ground_model.sdf\", kProjectDir + \"/../manipulation/manipulation/models/ground_model.sdf\")\n",
    "\n",
    "# Start the visualizer.\n",
    "meshcat = StartMeshcat()"
   ]
  },
  {
   "cell_type": "code",
   "execution_count": 2,
   "id": "962781ac",
   "metadata": {},
   "outputs": [],
   "source": [
    "# System configs\n",
    "# Brick configuration\n",
    "kNumberOfBricks =  100 # @param\n",
    "# Brick dimensions, must be consistent with the geometry in models/real_brick.sdf\n",
    "kBrickGeom = np.array([0.075, 0.1, 0.05]) # @param\n",
    "\n",
    "# Brick warehouse config\n",
    "kWhLocation = np.array([2.5, 2.5, 0.15]) # location of the warehouse (corner), # @param\n",
    "kWhSize = np.array([5, 5, 10]) # size of the warehouse grid in cells, # @param\n",
    "if (kWhSize.prod() < kNumberOfBricks):\n",
    "    assert False, \"The warehouse is too small to fit all bricks\"\n",
    "\n",
    "# Brick source\n",
    "X_WBrickSource = RigidTransform(np.array([0.5, 0.5, kBrickGeom[2]/2])) # @param"
   ]
  },
  {
   "cell_type": "code",
   "execution_count": 3,
   "id": "2ab1cd3a",
   "metadata": {},
   "outputs": [],
   "source": [
    "# Instantiate the robot (TODO: remove it from here)\n",
    "ilyich = IIWA_Ilyich(meshcat, kNumberOfBricks, kBrickGeom)"
   ]
  },
  {
   "cell_type": "code",
   "execution_count": 117,
   "id": "26b4d21c",
   "metadata": {},
   "outputs": [
    {
     "name": "stdout",
     "output_type": "stream",
     "text": [
      "Parsing floorplan:  \n",
      "|- - - - - - - |\n",
      "|              |\n",
      "|              |\n",
      "|              |\n",
      "|              |\n",
      "|              |\n",
      "|              |\n",
      "|- - - - - - - |\n",
      "\n",
      "Bricks planned, total bricked needed:  90\n"
     ]
    }
   ],
   "source": [
    "# Generate bricks\n",
    "floorplan = \"\"\"\n",
    "|\n",
    "|\n",
    "|\n",
    "\"\"\"\n",
    "\n",
    "floorplan_0 = \"\"\"\n",
    "|- - - - - |\n",
    "|          |\n",
    "|          |\n",
    "|          |\n",
    "|- - - - - |\n",
    "\"\"\"\n",
    "\n",
    "floorplan_1 = \"\"\"\n",
    "|- - - - - |\n",
    "|          |\n",
    "|- - -     |\n",
    "      |    |\n",
    "      |    |\n",
    "|- - -     |\n",
    "|          |\n",
    "|- - - - - |\n",
    "\"\"\"\n",
    "\n",
    "floorplan_2 = \"\"\"\n",
    "|- - - - - - - |\n",
    "|              |\n",
    "|              |\n",
    "|              |\n",
    "|              |\n",
    "|              |\n",
    "|              |\n",
    "|- - - - - - - |\n",
    "\"\"\"\n",
    "\n",
    "kHeight = 3 # @param\n",
    "kGap = 0.005 # @param\n",
    "planer = Planner(floorplan_2, kBrickGeom, kGap, kHeight)\n",
    "#planer.shift(0.35, -0.4)\n",
    "#planer.shift(-0.3, 0.4)\n",
    "planer.shift(-0.4, -0.4)\n",
    "total_bricks_needed = planer.get_total_bricks_n()\n",
    "if (total_bricks_needed > kNumberOfBricks):\n",
    "    assert False, \"There is not enough bricks to cover the building\"\n",
    "print(\"Bricks planned, total bricked needed: \", total_bricks_needed)\n",
    "\n",
    "# Visualize floorplan\n",
    "vis = Visualizer(meshcat, kBrickGeom)\n",
    "vis.clear_vis()\n",
    "vis.visualize_plan(np.array(planer.get_brick_poses()))"
   ]
  },
  {
   "cell_type": "code",
   "execution_count": 125,
   "id": "e39b799c",
   "metadata": {
    "scrolled": false
   },
   "outputs": [
    {
     "name": "stdout",
     "output_type": "stream",
     "text": [
      "q0 in calibration point is  [ 0.80359504  0.93880586 -0.0410699  -0.90370434  0.03449171  1.29982102\n",
      "  2.34144667  0.          0.        ]\n",
      "Failed to solve IK for trajectory point:  grab brick #0 withdraw\n",
      "Failed to solve IK for trajectory point:  grab brick #1 withdraw\n",
      "Failed to solve IK for trajectory point:  grab brick #2 withdraw\n",
      "Failed to solve IK for trajectory point:  grab brick #3 withdraw\n",
      "Failed to solve IK for trajectory point:  grab brick #4 withdraw\n",
      "Failed to solve IK for trajectory point:  grab brick #5 withdraw\n",
      "Failed to solve IK for trajectory point:  grab brick #6 withdraw\n",
      "Failed to solve IK for trajectory point:  place brick #7 approach\n",
      "Failed to solve IK for trajectory point:  place brick #8 turn\n",
      "Failed to solve IK for trajectory point:  grab brick #9 withdraw\n",
      "Failed to solve IK for trajectory point:  grab brick #11 withdraw\n",
      "Failed to solve IK for trajectory point:  grab brick #13 withdraw\n",
      "Failed to solve IK for trajectory point:  grab brick #15 withdraw\n",
      "Failed to solve IK for trajectory point:  place brick #25 approach\n",
      "Failed to solve IK for trajectory point:  grab brick #30 withdraw\n",
      "Failed to solve IK for trajectory point:  grab brick #31 withdraw\n",
      "Failed to solve IK for trajectory point:  grab brick #32 withdraw\n",
      "Failed to solve IK for trajectory point:  grab brick #33 withdraw\n",
      "Failed to solve IK for trajectory point:  grab brick #34 withdraw\n",
      "Failed to solve IK for trajectory point:  grab brick #35 withdraw\n",
      "Failed to solve IK for trajectory point:  place brick #37 approach\n",
      "Failed to solve IK for trajectory point:  grab brick #39 withdraw\n",
      "Failed to solve IK for trajectory point:  place brick #40 turn\n",
      "Failed to solve IK for trajectory point:  grab brick #41 withdraw\n",
      "Failed to solve IK for trajectory point:  grab brick #43 withdraw\n",
      "Failed to solve IK for trajectory point:  grab brick #45 withdraw\n",
      "Failed to solve IK for trajectory point:  place brick #55 approach\n",
      "Failed to solve IK for trajectory point:  grab brick #60 withdraw\n",
      "Failed to solve IK for trajectory point:  grab brick #61 withdraw\n",
      "Failed to solve IK for trajectory point:  grab brick #62 withdraw\n",
      "Failed to solve IK for trajectory point:  grab brick #63 withdraw\n",
      "Failed to solve IK for trajectory point:  grab brick #64 withdraw\n",
      "Failed to solve IK for trajectory point:  grab brick #65 withdraw\n",
      "Failed to solve IK for trajectory point:  place brick #66 approach\n",
      "Failed to solve IK for trajectory point:  grab brick #67 withdraw\n",
      "Failed to solve IK for trajectory point:  grab brick #69 withdraw\n",
      "Failed to solve IK for trajectory point:  place brick #70 turn\n",
      "Failed to solve IK for trajectory point:  grab brick #71 withdraw\n",
      "Failed to solve IK for trajectory point:  grab brick #73 withdraw\n",
      "Failed to solve IK for trajectory point:  grab brick #75 withdraw\n",
      "Failed to solve IK for trajectory point:  place brick #85 approach\n",
      "Covered bricks:  [10, 12, 14, 16, 17, 18, 19, 20, 21, 22, 23, 24, 26, 27, 28, 29, 36, 38, 42, 44, 46, 47, 48, 49, 50, 51, 52, 53, 54, 56, 57, 58, 59, 68, 72, 74, 76, 77, 78, 79, 80, 81, 82, 83, 84, 86, 87, 88, 89]\n",
      "Failed bricks: [0, 1, 2, 3, 4, 5, 6, 7, 8, 9, 11, 13, 15, 25, 30, 31, 32, 33, 34, 35, 37, 39, 40, 41, 43, 45, 55, 60, 61, 62, 63, 64, 65, 66, 67, 69, 70, 71, 73, 75, 85]\n"
     ]
    }
   ],
   "source": [
    "# Build trajectories\n",
    "# Build initial trajectory and get q0 in the calibration point\n",
    "trj_builder = TrajectoryBuilder(ilyich, X_WBrickSource)\n",
    "trj_builder.gen_initial_traj()\n",
    "#err = trj_builder.solve_IK(np.array([ 0., 0.6, 0., 0.0, 0.0, 1, 0.0, 0., 0.]))\n",
    "err = trj_builder.solve_IK(np.array([ 0., 0.0, 0., 0.0, 0.0, 0.0, 0.0, 0., 0.]))\n",
    "assert err == 0, \"Failed to solve IK for the initial trajectory\"\n",
    "\n",
    "q0 = trj_builder.get_trajectories().get_qs(-1)\n",
    "print(\"q0 in calibration point is \", q0)\n",
    "\n",
    "covered_bricks = []\n",
    "failed_bricks = []\n",
    "for i in range(0, total_bricks_needed):\n",
    "    b = planer.get_brick_poses()[i]\n",
    "    trj_builder_for_brick = TrajectoryBuilder(ilyich, X_WBrickSource)\n",
    "    R = RotationMatrix()#RotationMatrix.MakeYRotation(-np.pi/2)# if b[3] == 0 else RotationMatrix()\n",
    "    X_WBrickTarget = RigidTransform(R, b[:3])\n",
    "\n",
    "    # Generate trajectory for brick\n",
    "    trj_builder_for_brick.gen_grab_brick_traj(i)\n",
    "    trj_builder_for_brick.gen_move_to_place_traj(X_WBrickTarget, i)\n",
    "    trj_builder_for_brick.gen_place_brick_traj(X_WBrickTarget, b[3], i)\n",
    "    trj_builder_for_brick.gen_return_to_source_traj(X_WBrickTarget, i)\n",
    "    \n",
    "    #trj_builder_for_brick.get_trajectories().dump_trajectories([True, False, False, False, True, False, False, False])\n",
    "    #assert False\n",
    "    \n",
    "    # Solve IK for the trajectories\n",
    "    if not trj_builder_for_brick.solve_IK(q0) == 0:\n",
    "        failed_bricks.append(i)\n",
    "    else:\n",
    "        # Append trajectories\n",
    "        covered_bricks.append(i)\n",
    "        trj_builder.merge(trj_builder_for_brick)\n",
    "\n",
    "# Print stat\n",
    "print(\"Covered bricks: \", covered_bricks)\n",
    "print(\"Failed bricks:\", failed_bricks)\n",
    "\n",
    "# Speed-up a bit\n",
    "trj_builder.get_trajectories().slow_down(0.5)\n",
    "\n",
    "#trj_builder.get_trajectories().dump_trajectories([True, False, False, True, False, False])\n",
    "#trj_builder.get_trajectories().dump_breakpoints()\n",
    "\n",
    "# Make trajectories for iiwa with IK\n",
    "# Form iiwa trajectories with IK\n",
    "traj, finger_traj = trj_builder.get_trajectories().form_iiwa_traj_q()"
   ]
  },
  {
   "cell_type": "code",
   "execution_count": null,
   "id": "827a5afd",
   "metadata": {},
   "outputs": [],
   "source": []
  },
  {
   "cell_type": "code",
   "execution_count": null,
   "id": "dcdfcfff",
   "metadata": {},
   "outputs": [],
   "source": []
  },
  {
   "cell_type": "code",
   "execution_count": 126,
   "id": "7ffd5784",
   "metadata": {},
   "outputs": [],
   "source": [
    "# Visualize coverage\n",
    "vis = Visualizer(meshcat, kBrickGeom)\n",
    "vis.clear_vis()\n",
    "vis.visualize_coverage(planer.get_brick_poses()[covered_bricks], planer.get_brick_poses()[failed_bricks])"
   ]
  },
  {
   "cell_type": "code",
   "execution_count": 124,
   "id": "52479c81",
   "metadata": {},
   "outputs": [],
   "source": [
    "# Create robot\n",
    "ilyich = IIWA_Ilyich(meshcat, kNumberOfBricks, kBrickGeom, [traj, finger_traj])\n",
    "\n",
    "# Create default context\n",
    "context = ilyich.CreateDefaultContext()\n",
    "\n",
    "# Put all bricks in the warehouse\n",
    "ilyich.put_bricks_in_warehouse(context, kWhLocation, kWhSize, kNumberOfBricks)"
   ]
  },
  {
   "cell_type": "code",
   "execution_count": 80,
   "id": "5170fce3",
   "metadata": {},
   "outputs": [
    {
     "name": "stdout",
     "output_type": "stream",
     "text": [
      "calibration q0=  [ 0.81022284  0.93236537 -0.03797645 -0.92926263  0.02982955  1.28169101\n",
      "  2.36057716]\n"
     ]
    },
    {
     "ename": "KeyboardInterrupt",
     "evalue": "",
     "output_type": "error",
     "traceback": [
      "\u001b[0;31m---------------------------------------------------------------------------\u001b[0m",
      "\u001b[0;31mKeyboardInterrupt\u001b[0m                         Traceback (most recent call last)",
      "Cell \u001b[0;32mIn [80], line 16\u001b[0m\n\u001b[1;32m     13\u001b[0m ilyich\u001b[38;5;241m.\u001b[39munlock_brick(context, i)\n\u001b[1;32m     15\u001b[0m \u001b[38;5;66;03m# Manipulate the brick to target\u001b[39;00m\n\u001b[0;32m---> 16\u001b[0m sim, ctx \u001b[38;5;241m=\u001b[39m \u001b[43milyich\u001b[49m\u001b[38;5;241;43m.\u001b[39;49m\u001b[43mwork\u001b[49m\u001b[43m(\u001b[49m\u001b[43msim\u001b[49m\u001b[43m,\u001b[49m\u001b[43m \u001b[49m\u001b[43mctx\u001b[49m\u001b[43m,\u001b[49m\u001b[43m \u001b[49m\u001b[43msim_duration\u001b[49m\u001b[38;5;241;43m=\u001b[39;49m\u001b[43mtrj_builder\u001b[49m\u001b[38;5;241;43m.\u001b[39;49m\u001b[43mget_trajectories\u001b[49m\u001b[43m(\u001b[49m\u001b[43m)\u001b[49m\u001b[38;5;241;43m.\u001b[39;49m\u001b[43mget_breakpoints\u001b[49m\u001b[43m(\u001b[49m\u001b[43m)\u001b[49m\u001b[43m[\u001b[49m\u001b[43mi\u001b[49m\u001b[38;5;241;43m+\u001b[39;49m\u001b[38;5;241;43m1\u001b[39;49m\u001b[43m]\u001b[49m\u001b[43m)\u001b[49m\n\u001b[1;32m     18\u001b[0m \u001b[38;5;66;03m# Lock brick\u001b[39;00m\n\u001b[1;32m     19\u001b[0m ilyich\u001b[38;5;241m.\u001b[39mlock_brick(context, i)\n",
      "File \u001b[0;32m~/MIT_6_4212/project/iiwa.py:216\u001b[0m, in \u001b[0;36mIIWA_Ilyich.work\u001b[0;34m(self, simulator, context, sim_duration)\u001b[0m\n\u001b[1;32m    213\u001b[0m     simulator\u001b[38;5;241m.\u001b[39mset_target_realtime_rate(\u001b[38;5;241m1.0\u001b[39m)\n\u001b[1;32m    215\u001b[0m duration \u001b[38;5;241m=\u001b[39m sim_duration \u001b[38;5;28;01mif\u001b[39;00m running_as_notebook \u001b[38;5;28;01melse\u001b[39;00m \u001b[38;5;241m0.01\u001b[39m\n\u001b[0;32m--> 216\u001b[0m \u001b[43msimulator\u001b[49m\u001b[38;5;241;43m.\u001b[39;49m\u001b[43mAdvanceTo\u001b[49m\u001b[43m(\u001b[49m\u001b[43mduration\u001b[49m\u001b[43m)\u001b[49m\n\u001b[1;32m    218\u001b[0m \u001b[38;5;28;01mreturn\u001b[39;00m (simulator, context)\n",
      "\u001b[0;31mKeyboardInterrupt\u001b[0m: "
     ]
    }
   ],
   "source": [
    "#\n",
    "# Move\n",
    "#\n",
    "# Move to calibration point and calibrate\n",
    "sim, ctx = ilyich.work(None, context, sim_duration=trj_builder.get_trajectories().get_breakpoints()[0])\n",
    "q0 = ilyich.get_q0(ctx)\n",
    "print(\"calibration q0= \", q0)\n",
    "\n",
    "# Continue for all bricks\n",
    "for i in range(0, len(covered_bricks)):\n",
    "    # Teleport the next new brick from the warehouse and unlock it\n",
    "    ilyich.move_brick(context, X_WBrickSource, i)\n",
    "    ilyich.unlock_brick(context, i)\n",
    "\n",
    "    # Manipulate the brick to target\n",
    "    sim, ctx = ilyich.work(sim, ctx, sim_duration=trj_builder.get_trajectories().get_breakpoints()[i+1])\n",
    "    \n",
    "    # Lock brick\n",
    "    ilyich.lock_brick(context, i)"
   ]
  },
  {
   "cell_type": "code",
   "execution_count": null,
   "id": "580ced7d",
   "metadata": {},
   "outputs": [],
   "source": []
  },
  {
   "cell_type": "code",
   "execution_count": null,
   "id": "a21754b9",
   "metadata": {},
   "outputs": [],
   "source": []
  },
  {
   "cell_type": "code",
   "execution_count": null,
   "id": "aff12473",
   "metadata": {},
   "outputs": [],
   "source": []
  },
  {
   "cell_type": "code",
   "execution_count": null,
   "id": "c5ab98de",
   "metadata": {},
   "outputs": [],
   "source": []
  }
 ],
 "metadata": {
  "kernelspec": {
   "display_name": "Python 3 (ipykernel)",
   "language": "python",
   "name": "python3"
  },
  "language_info": {
   "codemirror_mode": {
    "name": "ipython",
    "version": 3
   },
   "file_extension": ".py",
   "mimetype": "text/x-python",
   "name": "python",
   "nbconvert_exporter": "python",
   "pygments_lexer": "ipython3",
   "version": "3.10.6"
  }
 },
 "nbformat": 4,
 "nbformat_minor": 5
}
