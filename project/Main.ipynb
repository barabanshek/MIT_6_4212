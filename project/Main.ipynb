{
 "cells": [
  {
   "cell_type": "markdown",
   "id": "50e95fb0",
   "metadata": {},
   "source": [
    "# Bricklayer Robot"
   ]
  },
  {
   "cell_type": "code",
   "execution_count": 1,
   "id": "1d4a4493",
   "metadata": {},
   "outputs": [
    {
     "name": "stderr",
     "output_type": "stream",
     "text": [
      "/home/nikita/env/lib/python3.10/site-packages/mpld3/mplexporter/renderers/base.py:4: DeprecationWarning: The distutils package is deprecated and slated for removal in Python 3.12. Use setuptools or check PEP 632 for potential alternatives\n",
      "  from distutils.version import LooseVersion\n",
      "INFO:drake:Meshcat listening for connections at http://localhost:7000\n"
     ]
    },
    {
     "name": "stdout",
     "output_type": "stream",
     "text": [
      "Working in directory  /home/nikita/MIT_6_4212/project\n"
     ]
    }
   ],
   "source": [
    "# Extensions: magic to avoid re-loading modified .py modules all the time\n",
    "%load_ext autoreload\n",
    "%autoreload 2\n",
    "\n",
    "# Bookkeeping\n",
    "import sys\n",
    "import shutil\n",
    "import os as os\n",
    "import matplotlib.pyplot as plt\n",
    "\n",
    "# Custom project classes and functions\n",
    "from iiwa import *\n",
    "from Trajectory import *\n",
    "from TrajectoryBuilder import *\n",
    "from Visualizer import *\n",
    "from BrickPlanner import *\n",
    "\n",
    "# Some paths\n",
    "kProjectDir = os.getcwd()\n",
    "print(\"Working in directory \", kProjectDir)\n",
    "\n",
    "# Hack: move our model packages to the manipulation/ folder to allow Drake to find them\n",
    "shutil.copyfile(kProjectDir + \"/models/brick.dmd.yaml\", kProjectDir + \"/../manipulation/manipulation/models/brick.dmd.yaml\")\n",
    "shutil.copyfile(kProjectDir + \"/models/real_brick.sdf\", kProjectDir + \"/../manipulation/manipulation/models/real_brick.sdf\")\n",
    "shutil.copyfile(kProjectDir + \"/models/ground_model.sdf\", kProjectDir + \"/../manipulation/manipulation/models/ground_model.sdf\")\n",
    "\n",
    "# Start the visualizer.\n",
    "meshcat = StartMeshcat()"
   ]
  },
  {
   "cell_type": "code",
   "execution_count": 2,
   "id": "962781ac",
   "metadata": {},
   "outputs": [],
   "source": [
    "# System configs\n",
    "# Brick configuration\n",
    "kNumberOfBricks =  100 # @param\n",
    "# Brick dimensions, must be consistent with the geometry in models/real_brick.sdf\n",
    "kBrickGeom = np.array([0.075, 0.1, 0.05]) # @param\n",
    "\n",
    "# Brick warehouse config\n",
    "kWhLocation = np.array([2.5, 2.5, 0.15]) # location of the warehouse (corner), # @param\n",
    "kWhSize = np.array([5, 5, 10]) # size of the warehouse grid in cells, # @param\n",
    "if (kWhSize.prod() < kNumberOfBricks):\n",
    "    assert False, \"The warehouse is too small to fit all bricks\"\n",
    "\n",
    "# Brick source\n",
    "X_WBrickSource = RigidTransform(np.array([0.5, 0.5, kBrickGeom[2]/2])) # @param"
   ]
  },
  {
   "cell_type": "code",
   "execution_count": 3,
   "id": "2ab1cd3a",
   "metadata": {},
   "outputs": [],
   "source": [
    "# Instantiate the robot (TODO: remove it from here)\n",
    "ilyich = IIWA_Ilyich(meshcat, kNumberOfBricks, kBrickGeom)"
   ]
  },
  {
   "cell_type": "code",
   "execution_count": 4,
   "id": "26b4d21c",
   "metadata": {},
   "outputs": [
    {
     "name": "stdout",
     "output_type": "stream",
     "text": [
      "Parsing floorplan:  \n",
      "|- - - - - |\n",
      "|          |\n",
      "|          |\n",
      "|          |\n",
      "|- - - - - |\n",
      "\n",
      "Bricks planned, total bricked needed:  80\n"
     ]
    }
   ],
   "source": [
    "# Generate bricks\n",
    "floorplan = \"\"\"\n",
    "|\n",
    "|\n",
    "|\n",
    "\"\"\"\n",
    "\n",
    "floorplan_0 = \"\"\"\n",
    "|- - - - - |\n",
    "|          |\n",
    "|          |\n",
    "|          |\n",
    "|- - - - - |\n",
    "\"\"\"\n",
    "\n",
    "floorplan_1 = \"\"\"\n",
    "|- - - - - |\n",
    "|          |\n",
    "|- - -     |\n",
    "      |    |\n",
    "      |    |\n",
    "|- - -     |\n",
    "|          |\n",
    "|- - - - - |\n",
    "\"\"\"\n",
    "\n",
    "kHeight = 4 # @param\n",
    "kGap = 0.005 # @param\n",
    "planer = Planner(floorplan_0, kBrickGeom, kGap, kHeight)\n",
    "#planer.shift(0.3, -0.4)\n",
    "planer.shift(-0.3, 0.4)\n",
    "total_bricks_needed = planer.get_total_bricks_n()\n",
    "if (total_bricks_needed > kNumberOfBricks):\n",
    "    assert False, \"There is not enough bricks to cover the building\"\n",
    "print(\"Bricks planned, total bricked needed: \", total_bricks_needed)\n",
    "\n",
    "# Visualize floorplan\n",
    "vis = Visualizer(meshcat, kBrickGeom)\n",
    "vis.clear_vis()\n",
    "vis.visualize_plan(np.array(planer.get_brick_poses()))"
   ]
  },
  {
   "cell_type": "code",
   "execution_count": 21,
   "id": "e39b799c",
   "metadata": {
    "scrolled": false
   },
   "outputs": [
    {
     "name": "stdout",
     "output_type": "stream",
     "text": [
      "q0 in calibration point is  [-1.93320504 -1.19064451  1.96134951 -0.90370488  1.03431084  1.52267948\n",
      "  1.96527926  0.          0.        ]\n",
      "Failed to solve IK for trajectory point:  grab brick #3 withdraw\n",
      "Failed to solve IK for trajectory point:  grab brick #4 withdraw\n",
      "Failed to solve IK for trajectory point:  grab brick #5 withdraw\n",
      "Failed to solve IK for trajectory point:  grab brick #6 withdraw\n",
      "Failed to solve IK for trajectory point:  grab brick #8 withdraw\n",
      "Failed to solve IK for trajectory point:  grab brick #10 withdraw\n",
      "Failed to solve IK for trajectory point:  grab brick #12 withdraw\n",
      "Failed to solve IK for trajectory point:  grab brick #17 withdraw\n",
      "Failed to solve IK for trajectory point:  grab brick #18 withdraw\n",
      "Failed to solve IK for trajectory point:  grab brick #19 withdraw\n",
      "Failed to solve IK for trajectory point:  grab brick #23 withdraw\n",
      "Failed to solve IK for trajectory point:  grab brick #24 withdraw\n",
      "Failed to solve IK for trajectory point:  grab brick #25 withdraw\n",
      "Failed to solve IK for trajectory point:  grab brick #26 withdraw\n",
      "Failed to solve IK for trajectory point:  grab brick #28 withdraw\n",
      "Failed to solve IK for trajectory point:  grab brick #30 withdraw\n",
      "Failed to solve IK for trajectory point:  grab brick #32 withdraw\n",
      "Failed to solve IK for trajectory point:  grab brick #37 withdraw\n",
      "Failed to solve IK for trajectory point:  grab brick #38 withdraw\n",
      "Failed to solve IK for trajectory point:  grab brick #39 withdraw\n",
      "Failed to solve IK for trajectory point:  grab brick #43 withdraw\n",
      "Failed to solve IK for trajectory point:  grab brick #44 withdraw\n",
      "Failed to solve IK for trajectory point:  grab brick #45 withdraw\n",
      "Failed to solve IK for trajectory point:  grab brick #46 withdraw\n",
      "Failed to solve IK for trajectory point:  grab brick #48 withdraw\n",
      "Failed to solve IK for trajectory point:  grab brick #50 withdraw\n",
      "Failed to solve IK for trajectory point:  grab brick #52 withdraw\n",
      "Failed to solve IK for trajectory point:  grab brick #57 withdraw\n",
      "Failed to solve IK for trajectory point:  grab brick #58 withdraw\n",
      "Failed to solve IK for trajectory point:  grab brick #59 withdraw\n",
      "Failed to solve IK for trajectory point:  grab brick #63 withdraw\n",
      "Failed to solve IK for trajectory point:  grab brick #64 withdraw\n",
      "Failed to solve IK for trajectory point:  grab brick #65 withdraw\n",
      "Failed to solve IK for trajectory point:  grab brick #66 withdraw\n",
      "Failed to solve IK for trajectory point:  grab brick #68 withdraw\n",
      "Failed to solve IK for trajectory point:  grab brick #70 withdraw\n",
      "Failed to solve IK for trajectory point:  grab brick #72 withdraw\n",
      "Failed to solve IK for trajectory point:  grab brick #77 withdraw\n",
      "Failed to solve IK for trajectory point:  grab brick #78 withdraw\n",
      "Failed to solve IK for trajectory point:  grab brick #79 withdraw\n",
      "Covered bricks:  [0, 1, 2, 7, 9, 11, 13, 14, 15, 16, 20, 21, 22, 27, 29, 31, 33, 34, 35, 36, 40, 41, 42, 47, 49, 51, 53, 54, 55, 56, 60, 61, 62, 67, 69, 71, 73, 74, 75, 76]\n",
      "Failed bricks: [3, 4, 5, 6, 8, 10, 12, 17, 18, 19, 23, 24, 25, 26, 28, 30, 32, 37, 38, 39, 43, 44, 45, 46, 48, 50, 52, 57, 58, 59, 63, 64, 65, 66, 68, 70, 72, 77, 78, 79]\n"
     ]
    }
   ],
   "source": [
    "# Build trajectories\n",
    "# Build initial trajectory and get q0 in the calibration point\n",
    "trj_builder = TrajectoryBuilder(ilyich, X_WBrickSource)\n",
    "trj_builder.gen_initial_traj()\n",
    "err = trj_builder.solve_IK(np.array([ 0., 0.6, 0., 0.0, 0.0, 1, 0.0, 0., 0.]))\n",
    "assert err == 0, \"Failed to solve IK for the initial trajectory\"\n",
    "\n",
    "q0 = trj_builder.get_trajectories().get_traj()[-1][7]\n",
    "print(\"q0 in calibration point is \", q0)\n",
    "\n",
    "covered_bricks = []\n",
    "failed_bricks = []\n",
    "for i in range(0, total_bricks_needed):\n",
    "    b = planer.get_brick_poses()[i]\n",
    "    trj_builder_for_brick = TrajectoryBuilder(ilyich, X_WBrickSource)\n",
    "    R = RotationMatrix()#RotationMatrix.MakeYRotation(-np.pi/2)# if b[3] == 0 else RotationMatrix()\n",
    "    X_WBrickTarget = RigidTransform(R, b[:3])\n",
    "\n",
    "    # Generate trajectory for brick\n",
    "    trj_builder_for_brick.gen_grab_brick_traj(i)\n",
    "    trj_builder_for_brick.gen_move_to_place_traj(X_WBrickTarget, i)\n",
    "    trj_builder_for_brick.gen_place_brick_traj(X_WBrickTarget, b[3], i)\n",
    "    trj_builder_for_brick.gen_return_to_source_traj(X_WBrickTarget, i)\n",
    "    \n",
    "    #trj_builder_for_brick.get_trajectories().dump_trajectories([True, False, False, False, True, False, False, False])\n",
    "    #assert False\n",
    "    \n",
    "    # Solve IK for the trajectories\n",
    "    if not trj_builder_for_brick.solve_IK(q0) == 0:\n",
    "        failed_bricks.append(i)\n",
    "    else:\n",
    "        # Append trajectories\n",
    "        covered_bricks.append(i)\n",
    "        trj_builder.merge(trj_builder_for_brick)\n",
    "\n",
    "# Print stat\n",
    "print(\"Covered bricks: \", covered_bricks)\n",
    "print(\"Failed bricks:\", failed_bricks)\n",
    "\n",
    "# Speed-up a bit\n",
    "trj_builder.get_trajectories().slow_down(0.5)\n",
    "\n",
    "#trj_builder.get_trajectories().dump_trajectories([True, True, False, True, False, False])\n",
    "#trj_builder.get_trajectories().dump_breakpoints()\n",
    "\n",
    "# Make trajectories for iiwa with IK\n",
    "# Form iiwa trajectories with IK\n",
    "traj, finger_traj = trj_builder.get_trajectories().form_iiwa_traj_q()"
   ]
  },
  {
   "cell_type": "code",
   "execution_count": null,
   "id": "827a5afd",
   "metadata": {},
   "outputs": [],
   "source": []
  },
  {
   "cell_type": "code",
   "execution_count": null,
   "id": "998c3b8c",
   "metadata": {},
   "outputs": [],
   "source": []
  },
  {
   "cell_type": "code",
   "execution_count": 22,
   "id": "7ffd5784",
   "metadata": {},
   "outputs": [],
   "source": [
    "# Visualize coverage\n",
    "vis = Visualizer(meshcat, kBrickGeom)\n",
    "vis.clear_vis()\n",
    "vis.visualize_coverage(planer.get_brick_poses()[covered_bricks], planer.get_brick_poses()[failed_bricks])"
   ]
  },
  {
   "cell_type": "code",
   "execution_count": 23,
   "id": "52479c81",
   "metadata": {},
   "outputs": [],
   "source": [
    "# Create robot\n",
    "ilyich = IIWA_Ilyich(meshcat, kNumberOfBricks, kBrickGeom, [traj, finger_traj])\n",
    "\n",
    "# Create default context\n",
    "context = ilyich.CreateDefaultContext()\n",
    "\n",
    "# Put all bricks in the warehouse\n",
    "ilyich.put_bricks_in_warehouse(context, kWhLocation, kWhSize, kNumberOfBricks)"
   ]
  },
  {
   "cell_type": "code",
   "execution_count": null,
   "id": "5170fce3",
   "metadata": {},
   "outputs": [
    {
     "name": "stdout",
     "output_type": "stream",
     "text": [
      "calibration q0=  [-1.9231655  -1.19603933  1.96565034 -0.92901083  1.04525136  1.51849541\n",
      "  1.96497403]\n"
     ]
    }
   ],
   "source": [
    "#\n",
    "# Move\n",
    "#\n",
    "# Move to calibration point and calibrate\n",
    "sim, ctx = ilyich.work(None, context, sim_duration=trj_builder.get_trajectories().get_breakpoints()[0])\n",
    "q0 = ilyich.get_q0(ctx)\n",
    "print(\"calibration q0= \", q0)\n",
    "\n",
    "# Continue for all bricks\n",
    "for i in range(0, len(covered_bricks)):\n",
    "    # Teleport the next new brick from the warehouse and unlock it\n",
    "    ilyich.move_brick(context, X_WBrickSource, i)\n",
    "    ilyich.unlock_brick(context, i)\n",
    "\n",
    "    # Manipulate the brick to target\n",
    "    sim, ctx = ilyich.work(sim, ctx, sim_duration=trj_builder.get_trajectories().get_breakpoints()[i+1])\n",
    "    \n",
    "    # Lock brick\n",
    "    ilyich.lock_brick(context, i)"
   ]
  },
  {
   "cell_type": "code",
   "execution_count": null,
   "id": "580ced7d",
   "metadata": {},
   "outputs": [],
   "source": []
  },
  {
   "cell_type": "code",
   "execution_count": null,
   "id": "a21754b9",
   "metadata": {},
   "outputs": [],
   "source": []
  },
  {
   "cell_type": "code",
   "execution_count": null,
   "id": "aff12473",
   "metadata": {},
   "outputs": [],
   "source": []
  },
  {
   "cell_type": "code",
   "execution_count": null,
   "id": "c5ab98de",
   "metadata": {},
   "outputs": [],
   "source": []
  }
 ],
 "metadata": {
  "kernelspec": {
   "display_name": "Python 3 (ipykernel)",
   "language": "python",
   "name": "python3"
  },
  "language_info": {
   "codemirror_mode": {
    "name": "ipython",
    "version": 3
   },
   "file_extension": ".py",
   "mimetype": "text/x-python",
   "name": "python",
   "nbconvert_exporter": "python",
   "pygments_lexer": "ipython3",
   "version": "3.10.6"
  }
 },
 "nbformat": 4,
 "nbformat_minor": 5
}
