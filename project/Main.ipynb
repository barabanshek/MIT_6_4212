{
 "cells": [
  {
   "cell_type": "markdown",
   "id": "50e95fb0",
   "metadata": {},
   "source": [
    "# Bricklayer Robot"
   ]
  },
  {
   "cell_type": "code",
   "execution_count": 1,
   "id": "1d4a4493",
   "metadata": {},
   "outputs": [
    {
     "name": "stderr",
     "output_type": "stream",
     "text": [
      "/home/nikita/env/lib/python3.10/site-packages/mpld3/mplexporter/renderers/base.py:4: DeprecationWarning: The distutils package is deprecated and slated for removal in Python 3.12. Use setuptools or check PEP 632 for potential alternatives\n",
      "  from distutils.version import LooseVersion\n",
      "INFO:drake:Meshcat listening for connections at http://localhost:7000\n"
     ]
    },
    {
     "name": "stdout",
     "output_type": "stream",
     "text": [
      "Working in directory  /home/nikita/MIT_6_4212/project\n"
     ]
    }
   ],
   "source": [
    "# Extensions: magic to avoid re-loading modified .py modules all the time\n",
    "%load_ext autoreload\n",
    "%autoreload 2\n",
    "\n",
    "# Bookkeeping\n",
    "import sys\n",
    "import shutil\n",
    "import os as os\n",
    "import matplotlib.pyplot as plt\n",
    "\n",
    "# Custom project classes and functions\n",
    "from iiwa import *\n",
    "from Trajectory import *\n",
    "from TrajectoryBuilder import *\n",
    "from Visualizer import *\n",
    "from BrickPlanner import *\n",
    "from HighPerformanceTrajectoryBuilder import *\n",
    "\n",
    "# Some paths\n",
    "kProjectDir = os.getcwd()\n",
    "print(\"Working in directory \", kProjectDir)\n",
    "\n",
    "# Hack: move our model packages to the manipulation/ folder to allow Drake to find them\n",
    "shutil.copyfile(kProjectDir + \"/models/brick.dmd.yaml\", kProjectDir + \"/../manipulation/manipulation/models/brick.dmd.yaml\")\n",
    "shutil.copyfile(kProjectDir + \"/models/real_brick.sdf\", kProjectDir + \"/../manipulation/manipulation/models/real_brick.sdf\")\n",
    "shutil.copyfile(kProjectDir + \"/models/ground_model.sdf\", kProjectDir + \"/../manipulation/manipulation/models/ground_model.sdf\")\n",
    "\n",
    "# Start the visualizer.\n",
    "meshcat = StartMeshcat()"
   ]
  },
  {
   "cell_type": "code",
   "execution_count": 2,
   "id": "962781ac",
   "metadata": {},
   "outputs": [],
   "source": [
    "# System configs\n",
    "# Brick configuration\n",
    "kNumberOfBricks =  50 # @param\n",
    "# Brick dimensions, must be consistent with the geometry in models/real_brick.sdf\n",
    "kBrickGeom = np.array([0.075, 0.1, 0.05]) # @param\n",
    "\n",
    "# Brick warehouse config\n",
    "kWhLocation = np.array([2.5, 2.5, 0.15]) # location of the warehouse (corner), # @param\n",
    "kWhSize = np.array([6, 6, 10]) # size of the warehouse grid in cells, # @param\n",
    "if (kWhSize.prod() < kNumberOfBricks):\n",
    "    assert False, \"The warehouse is too small to fit all bricks\""
   ]
  },
  {
   "cell_type": "code",
   "execution_count": null,
   "id": "2ab1cd3a",
   "metadata": {},
   "outputs": [],
   "source": []
  },
  {
   "cell_type": "code",
   "execution_count": 3,
   "id": "26b4d21c",
   "metadata": {},
   "outputs": [
    {
     "name": "stdout",
     "output_type": "stream",
     "text": [
      "Parsing floorplan:  \n",
      "- - - - - - - \n",
      "\n",
      "Bricks planned, total bricked needed:  7\n"
     ]
    }
   ],
   "source": [
    "# Generate bricks\n",
    "floorplan = \"\"\"\n",
    "- - - - - - - \n",
    "\"\"\"\n",
    "\n",
    "floorplan_0 = \"\"\"\n",
    "|- - - - - |\n",
    "|          |\n",
    "|          |\n",
    "|          |\n",
    "|- - - - - |\n",
    "\"\"\"\n",
    "\n",
    "floorplan_1 = \"\"\"\n",
    "|- - - - - - - - |\n",
    "|                |\n",
    "|                |\n",
    "|                |\n",
    "|                |\n",
    "|                |\n",
    "|                |\n",
    "|                |\n",
    "|                |\n",
    "|- - - - - - - - |\n",
    "\"\"\"\n",
    "\n",
    "floorplan_2 = \"\"\"\n",
    "|- - - - - - - - |\n",
    "|                |\n",
    "|                |\n",
    "|                |\n",
    "|                |- - - |\n",
    "|                |      |\n",
    "|                |      |\n",
    "|                |- - - |\n",
    "|                |\n",
    "|- - - - - - - - |\n",
    "\"\"\"\n",
    "\n",
    "kHeight = 1 # @param\n",
    "kGap = 0.005 # @param\n",
    "planer = Planner(floorplan, kBrickGeom, kGap, kHeight)\n",
    "#planer.shift(-0.55, -0.45)\n",
    "planer.shift(-0.55, -0.2)\n",
    "total_bricks_needed = planer.get_total_bricks_n()\n",
    "if (total_bricks_needed > kNumberOfBricks):\n",
    "    assert False, \"There is not enough bricks to cover the building\"\n",
    "print(\"Bricks planned, total bricked needed: \", total_bricks_needed)\n",
    "\n",
    "# Visualize floorplan\n",
    "vis = Visualizer(meshcat, kBrickGeom)\n",
    "vis.clear_vis()\n",
    "vis.visualize_plan(np.array(planer.get_brick_poses()))"
   ]
  },
  {
   "cell_type": "code",
   "execution_count": 4,
   "id": "7f227c42",
   "metadata": {},
   "outputs": [
    {
     "name": "stderr",
     "output_type": "stream",
     "text": [
      "/home/nikita/MIT_6_4212/project/iiwa.py:148: DrakeDeprecationWarning: (Deprecated) See ForcedPublish() \n",
      "*/ (Deprecated.)\n",
      "\n",
      "Deprecated:\n",
      "    Use ForcedPublish() instead This will be removed from Drake on or\n",
      "    after 2023-03-01.\n",
      "  self.diagram.Publish(context)\n"
     ]
    }
   ],
   "source": [
    "# Robot setup\n",
    "kNumRobots = 1\n",
    "kArms = [\n",
    "         np.array([0, 0, 0]),\n",
    "         np.array([-0.5, 1.0, 0])\n",
    "        ]\n",
    "kBrickSources = [\n",
    "                 RigidTransform(np.array([0.6, 0.0, kBrickGeom[2]/2])),\n",
    "                 RigidTransform(np.array([0.0, 1.0, kBrickGeom[2]/2]))\n",
    "                ]\n",
    "\n",
    "ilyich = IIWA_Ilyich(meshcat, kNumberOfBricks, kBrickGeom, kArms, None)"
   ]
  },
  {
   "cell_type": "code",
   "execution_count": 9,
   "id": "e39b799c",
   "metadata": {
    "scrolled": false
   },
   "outputs": [
    {
     "name": "stdout",
     "output_type": "stream",
     "text": [
      "q0 in calibration point is  [ 0.14557608  0.67413625 -0.22359343 -1.39006593  0.15704599  1.09444912\n",
      "  1.46900663  0.          0.        ]\n",
      "Initializing HPC trajectory builder with  20  workers on  192  core machine\n",
      "Covered bricks:  [0, 1, 2, 3, 4]\n",
      "Failed bricks: [5, 6]\n",
      "q0 in calibration point is  [ 0.15244708  0.45644639 -0.19379517 -1.7365921   0.10379735  0.95790411\n",
      "  1.48881621  0.          0.        ]\n",
      "Initializing HPC trajectory builder with  20  workers on  192  core machine\n",
      "Covered bricks:  [5, 6]\n",
      "Failed bricks: []\n"
     ]
    }
   ],
   "source": [
    "# Build trajectories for robots\n",
    "def build_trajectories_for_robot(robot_id, bricks):\n",
    "    X_WBrickSource = kBrickSources[robot_id]\n",
    "    robot_pose = RigidTransform(RollPitchYaw(0, 0, 0), kArms[robot_id])\n",
    "    X_WG = ilyich.get_X_WG()[robot_id]\n",
    "\n",
    "    # Build initial trajectory and get q0 in the calibration point\n",
    "    # np.array([ 0., 0.6, 0., 0.0, 0.0, 1, 0.0, 0., 0.])\n",
    "    trj_builder = TrajectoryBuilder(X_WBrickSource)\n",
    "    trj_builder.gen_initial_traj(X_WG)\n",
    "    res, q0 = trj_builder.solve_IK(np.array([ 0., 0.0, 0., 0.0, 0.0, 0.0, 0.0, 0., 0.]), robot_pose)\n",
    "    assert res == True, \"Failed to solve IK for the initial trajectory\"\n",
    "    print(\"q0 in calibration point is \", q0)\n",
    "\n",
    "    # Build other trajectories\n",
    "    kNumWorkers = 20 # @Param\n",
    "    hpc_trj_builder = HighPerformanceTrajectoryBuilder(planer,\n",
    "                                                       X_WBrickSource,\n",
    "                                                       bricks,\n",
    "                                                       kNumWorkers,\n",
    "                                                       q0,\n",
    "                                                       robot_pose)\n",
    "    covered_bricks, failed_bricks = hpc_trj_builder.solve(trj_builder)\n",
    "    print(\"Covered bricks: \", covered_bricks)\n",
    "    print(\"Failed bricks:\", failed_bricks)\n",
    "\n",
    "    # Speed-up a bit\n",
    "    trj_builder.get_trajectories().slow_down(0.5)\n",
    "\n",
    "    # Make trajectories for iiwa with IK\n",
    "    return trj_builder, covered_bricks, failed_bricks\n",
    "\n",
    "# Visualize coverage\n",
    "def visualize_coverage(trj_builder, covered_bricks, failed_bricks, covered_color, clear=True):\n",
    "    # Visualize coverage\n",
    "    vis = Visualizer(meshcat, kBrickGeom)\n",
    "    if clear:\n",
    "        vis.clear_vis()\n",
    "    vis.visualize_coverage(planer.get_brick_poses()[covered_bricks],\n",
    "                           planer.get_brick_poses()[failed_bricks],\n",
    "                           covered_color)\n",
    "\n",
    "    # Visualize all trajectories\n",
    "    for b_id in covered_bricks:\n",
    "        points = trj_builder.get_trajectory_points_for_brick(b_id)\n",
    "        vis.visualize_traj(points, b_id)\n",
    "\n",
    "# Do 1st robot\n",
    "trj_builder, covered_bricks, failed_bricks = build_trajectories_for_robot(0, range(0, total_bricks_needed))\n",
    "visualize_coverage(trj_builder, covered_bricks, failed_bricks, Rgba(0.61, 1, 0.60), clear=True)\n",
    "\n",
    "# Do 2nd robot\n",
    "trj_builder_1, covered_bricks_1, failed_bricks_1 = build_trajectories_for_robot(1, failed_bricks)\n",
    "visualize_coverage(trj_builder_1, covered_bricks_1, failed_bricks_1, Rgba(1, 1, 0.60), clear=False)"
   ]
  },
  {
   "cell_type": "code",
   "execution_count": 10,
   "id": "0cf63018",
   "metadata": {},
   "outputs": [],
   "source": [
    "# Align trajectories\n",
    "all_covered_bricks = covered_bricks + covered_bricks_1\n",
    "\n",
    "trajectories_0 = trj_builder.get_trajectories().get_traj()\n",
    "trajectories_1 = trj_builder_1.get_trajectories().get_traj()\n",
    "trj_0 = Trajectory()\n",
    "trj_1 = Trajectory()\n",
    "breakpoints = []\n",
    "wall_clock_time = 0\n",
    "for b in all_covered_bricks:\n",
    "    traj_b = list(filter(lambda x: (x[3] == b), trajectories_0))\n",
    "    if not traj_b == []:\n",
    "        for bb in traj_b:\n",
    "            time = bb[0]\n",
    "            bb[0] = wall_clock_time + bb[0]\n",
    "            trj_0.append_point_simple(bb)\n",
    "            wall_clock_time = wall_clock_time + time\n",
    "        breakpoints.append((0, wall_clock_time))\n",
    "    else:\n",
    "        traj_b = list(filter(lambda x: (x[3] == b), trajectories_1))\n",
    "        if not traj_b == []:\n",
    "            for bb in traj_b:\n",
    "                time = bb[0]\n",
    "                bb[0] = wall_clock_time + bb[0]\n",
    "                trj_1.append_point_simple(bb)\n",
    "                wall_clock_time = wall_clock_time + time\n",
    "            breakpoints.append((1, wall_clock_time))\n",
    "\n",
    "#trj_0.dump_trajectories([True, False, False, True, False, False, False])\n",
    "#print(\"------\")\n",
    "#trj_1.dump_trajectories([True, False, False, True, False, False, False])\n",
    "\n",
    "final_trajectories = []\n",
    "final_trajectories.append(trj_0.form_iiwa_traj_q())\n",
    "final_trajectories.append(trj_1.form_iiwa_traj_q())"
   ]
  },
  {
   "cell_type": "code",
   "execution_count": null,
   "id": "2f5ccec9",
   "metadata": {},
   "outputs": [],
   "source": []
  },
  {
   "cell_type": "code",
   "execution_count": null,
   "id": "827a5afd",
   "metadata": {},
   "outputs": [],
   "source": []
  },
  {
   "cell_type": "code",
   "execution_count": null,
   "id": "dcdfcfff",
   "metadata": {},
   "outputs": [],
   "source": []
  },
  {
   "cell_type": "code",
   "execution_count": null,
   "id": "7ffd5784",
   "metadata": {},
   "outputs": [],
   "source": []
  },
  {
   "cell_type": "code",
   "execution_count": null,
   "id": "1633332d",
   "metadata": {},
   "outputs": [],
   "source": []
  },
  {
   "cell_type": "code",
   "execution_count": 14,
   "id": "52479c81",
   "metadata": {},
   "outputs": [],
   "source": [
    "# Create robot\n",
    "ilyich = IIWA_Ilyich(meshcat, kNumberOfBricks, kBrickGeom, kArms, final_trajectories)\n",
    "\n",
    "# Create default context\n",
    "context = ilyich.CreateDefaultContext()\n",
    "\n",
    "# Put all bricks in the warehouse\n",
    "ilyich.put_bricks_in_warehouse(context, kWhLocation, kWhSize, kNumberOfBricks)"
   ]
  },
  {
   "cell_type": "code",
   "execution_count": null,
   "id": "5170fce3",
   "metadata": {},
   "outputs": [],
   "source": [
    "#\n",
    "# Move\n",
    "#\n",
    "sim = None\n",
    "ctx = context\n",
    "\n",
    "# Continue for all bricks\n",
    "for i, b_id in enumerate(all_covered_bricks):\n",
    "    # Show trajectory\n",
    "    points = trj_builder.get_trajectory_points_for_brick(b_id)\n",
    "    vis.clear_traj()\n",
    "    vis.visualize_traj(points)\n",
    "\n",
    "    # Teleport the next new brick from the warehouse and unlock it\n",
    "    ilyich.move_brick(context, kBrickSources[breakpoints[i][0]], i)    \n",
    "    ilyich.unlock_brick(context, i)\n",
    "\n",
    "    # Manipulate the brick to target\n",
    "    sim, ctx = ilyich.work(sim, ctx, sim_duration=breakpoints[i][1])\n",
    "\n",
    "    # Lock brick\n",
    "    ilyich.lock_brick(context, i)"
   ]
  },
  {
   "cell_type": "code",
   "execution_count": null,
   "id": "580ced7d",
   "metadata": {},
   "outputs": [],
   "source": []
  },
  {
   "cell_type": "code",
   "execution_count": null,
   "id": "a21754b9",
   "metadata": {},
   "outputs": [],
   "source": []
  },
  {
   "cell_type": "code",
   "execution_count": null,
   "id": "aff12473",
   "metadata": {},
   "outputs": [],
   "source": []
  },
  {
   "cell_type": "code",
   "execution_count": null,
   "id": "c5ab98de",
   "metadata": {},
   "outputs": [],
   "source": []
  }
 ],
 "metadata": {
  "kernelspec": {
   "display_name": "Python 3 (ipykernel)",
   "language": "python",
   "name": "python3"
  },
  "language_info": {
   "codemirror_mode": {
    "name": "ipython",
    "version": 3
   },
   "file_extension": ".py",
   "mimetype": "text/x-python",
   "name": "python",
   "nbconvert_exporter": "python",
   "pygments_lexer": "ipython3",
   "version": "3.10.6"
  }
 },
 "nbformat": 4,
 "nbformat_minor": 5
}
