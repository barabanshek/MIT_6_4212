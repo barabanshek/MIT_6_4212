{
 "cells": [
  {
   "cell_type": "markdown",
   "id": "50e95fb0",
   "metadata": {},
   "source": [
    "# Bricklayer Robot"
   ]
  },
  {
   "cell_type": "code",
   "execution_count": 21,
   "id": "1d4a4493",
   "metadata": {},
   "outputs": [],
   "source": [
    "# Bookkeeping\n",
    "# Python path for the local Drake and Manipulation\n",
    "import sys\n",
    "sys.path.append('/home/nikita/env/lib/python3.8/site-packages')\n",
    "sys.path.append('/home/nikita/robotics/manipulation')\n",
    "sys.path.append('/home/nikita/robotics')\n",
    "\n",
    "# Cool stuff\n",
    "import shutil\n",
    "import os as os\n",
    "import matplotlib.pyplot as plt\n",
    "import mpld3\n",
    "import numpy as np\n",
    "from IPython.display import HTML, display\n",
    "from manipulation import running_as_notebook, FindResource\n",
    "from manipulation.meshcat_utils import AddMeshcatTriad\n",
    "from manipulation.scenarios import MakeManipulationStation\n",
    "from pydrake.all import (AddMultibodyPlantSceneGraph, AngleAxis, BasicVector,\n",
    "                         ConstantVectorSource, DiagramBuilder,\n",
    "                         FindResourceOrThrow, Integrator, JacobianWrtVariable,\n",
    "                         LeafSystem, MeshcatVisualizer,\n",
    "                         MeshcatVisualizerParams, MultibodyPlant,\n",
    "                         MultibodyPositionToGeometryPose, Parser,\n",
    "                         PiecewisePose, Quaternion, RigidTransform,\n",
    "                         RollPitchYaw, RotationMatrix, SceneGraph, Simulator,\n",
    "                         StartMeshcat, TrajectorySource, GenerateHtml, GetDrakePath, PiecewisePolynomial)"
   ]
  },
  {
   "cell_type": "code",
   "execution_count": 22,
   "id": "e8f322e6",
   "metadata": {},
   "outputs": [
    {
     "name": "stdout",
     "output_type": "stream",
     "text": [
      "Working in directory  /home/nikita/robotics/project\n"
     ]
    }
   ],
   "source": [
    "# Some paths\n",
    "kProjectDir = os.getcwd()\n",
    "print(\"Working in directory \", kProjectDir)"
   ]
  },
  {
   "cell_type": "code",
   "execution_count": 23,
   "id": "3800e2fa",
   "metadata": {},
   "outputs": [
    {
     "data": {
      "text/plain": [
       "'/home/nikita/robotics/manipulation/manipulation/models/ground_model.sdf'"
      ]
     },
     "execution_count": 23,
     "metadata": {},
     "output_type": "execute_result"
    }
   ],
   "source": [
    "# Hack: move our model packages to the manipulation/ folder to allow Drake to find it\n",
    "shutil.copyfile(kProjectDir + \"/models/brick.dmd.yaml\", \"/home/nikita/robotics/manipulation/manipulation/models/brick.dmd.yaml\")\n",
    "shutil.copyfile(kProjectDir + \"/models/real_brick.sdf\", \"/home/nikita/robotics/manipulation/manipulation/models/real_brick.sdf\")\n",
    "shutil.copyfile(kProjectDir + \"/models/ground_model.sdf\", \"/home/nikita/robotics/manipulation/manipulation/models/ground_model.sdf\")"
   ]
  },
  {
   "cell_type": "code",
   "execution_count": 24,
   "id": "74e55826",
   "metadata": {},
   "outputs": [
    {
     "name": "stderr",
     "output_type": "stream",
     "text": [
      "INFO:drake:Meshcat listening for connections at http://localhost:7003\n"
     ]
    }
   ],
   "source": [
    "# Start the visualizer.\n",
    "meshcat = StartMeshcat()"
   ]
  },
  {
   "cell_type": "code",
   "execution_count": 25,
   "id": "ff7a2914",
   "metadata": {},
   "outputs": [],
   "source": [
    "# iiwa robot class\n",
    "# This class is based on the standard ManipulationStation system from the class.\n",
    "# However, I have replaced the model with our brick environment as defined in construction.dmd.yaml\n",
    "class IIWA_Painter():\n",
    "    def __init__(self, traj=None, finger_traj=None):\n",
    "        builder = DiagramBuilder()\n",
    "        # set up the system of manipulation station\n",
    "        self.station = MakeManipulationStation(filename=FindResource(kProjectDir + \"/models/construction.dmd.yaml\"))\n",
    "        \n",
    "        builder.AddSystem(self.station)\n",
    "        self.plant = self.station.GetSubsystemByName(\"plant\")\n",
    "        \n",
    "        self.plant.SetDefaultFreeBodyPose(self.plant.GetBodyByName(\"base_link\", self.plant.GetModelInstanceByName(\"brick0\")), RigidTransform(np.array([0.5, 0.5, 0.0])))\n",
    "\n",
    "        # optionally add trajectory source\n",
    "        if traj is not None:\n",
    "            traj_V_G = traj.MakeDerivative()\n",
    "            V_G_source = builder.AddSystem(TrajectorySource(traj_V_G))\n",
    "            self.controller = builder.AddSystem(\n",
    "                PseudoInverseController(self.plant))\n",
    "            builder.Connect(V_G_source.get_output_port(),\n",
    "                            self.controller.GetInputPort(\"V_G\"))\n",
    "\n",
    "            self.integrator = builder.AddSystem(Integrator(7))\n",
    "            builder.Connect(self.controller.get_output_port(),\n",
    "                            self.integrator.get_input_port())\n",
    "            builder.Connect(self.integrator.get_output_port(),\n",
    "                            self.station.GetInputPort(\"iiwa_position\"))\n",
    "            builder.Connect(\n",
    "                self.station.GetOutputPort(\"iiwa_position_measured\"),\n",
    "                self.controller.GetInputPort(\"iiwa_position\"))\n",
    "\n",
    "            #traj_wsg_command = MakeGripperCommandTrajectory(times)\n",
    "            wsg_source = builder.AddSystem(TrajectorySource(finger_traj))\n",
    "            wsg_source.set_name(\"wsg_command\")\n",
    "            builder.Connect(wsg_source.get_output_port(), self.station.GetInputPort(\"wsg_position\"))\n",
    "\n",
    "        params = MeshcatVisualizerParams()\n",
    "        params.delete_on_initialization_event = False\n",
    "        self.visualizer = MeshcatVisualizer.AddToBuilder(\n",
    "            builder, self.station.GetOutputPort(\"query_object\"), meshcat, params)\n",
    "\n",
    "        #wsg_position = builder.AddSystem(ConstantVectorSource([0.2]))\n",
    "        #builder.Connect(wsg_position.get_output_port(),\n",
    "        #                self.station.GetInputPort(\"wsg_position\"))\n",
    "\n",
    "        self.diagram = builder.Build()    \n",
    "        self.gripper_frame = self.plant.GetFrameByName('body')\n",
    "        self.world_frame = self.plant.world_frame()\n",
    "\n",
    "        context = self.CreateDefaultContext()\n",
    "        self.diagram.Publish(context)\n",
    "\n",
    "    def visualize_frame(self, name, X_WF, length=0.15, radius=0.006):\n",
    "        \"\"\"\n",
    "        visualize imaginary frame that are not attached to existing bodies\n",
    "        \n",
    "        Input: \n",
    "            name: the name of the frame (str)\n",
    "            X_WF: a RigidTransform to from frame F to world.\n",
    "        \n",
    "        Frames whose names already exist will be overwritten by the new frame\n",
    "        \"\"\"\n",
    "        AddMeshcatTriad(meshcat, \"painter/\" + name,\n",
    "                        length=length, radius=radius, X_PT=X_WF)\n",
    "\n",
    "    def CreateDefaultContext(self):\n",
    "        context = self.diagram.CreateDefaultContext()\n",
    "        plant_context = self.diagram.GetMutableSubsystemContext(\n",
    "            self.plant, context)\n",
    "        station_context = self.diagram.GetMutableSubsystemContext(\n",
    "            self.station, context)\n",
    "\n",
    "        # provide initial states\n",
    "        q0 = np.array([ 1.40666193e-05,  1.56461165e-01, -3.82761069e-05,\n",
    "                       -1.32296976e+00, -6.29097287e-06,  1.61181157e+00, -2.66900985e-05])\n",
    "        # set the joint positions of the kuka arm\n",
    "        iiwa = self.plant.GetModelInstanceByName(\"iiwa\")\n",
    "        self.plant.SetPositions(plant_context, iiwa, q0)\n",
    "        self.plant.SetVelocities(plant_context, iiwa, np.zeros(7))\n",
    "        wsg = self.plant.GetModelInstanceByName(\"wsg\")\n",
    "        self.plant.SetPositions(plant_context, wsg, [-0.05, 0.05])\n",
    "        self.plant.SetVelocities(plant_context, wsg, [0, 0])        \n",
    "\n",
    "        if hasattr(self, 'integrator'):\n",
    "            self.integrator.set_integral_value(\n",
    "                self.integrator.GetMyMutableContextFromRoot(context), q0)\n",
    "\n",
    "        return context\n",
    "\n",
    "\n",
    "    def get_X_WG(self, context=None):\n",
    "\n",
    "        if not context:\n",
    "            context = self.CreateDefaultContext()\n",
    "        plant_context = self.plant.GetMyMutableContextFromRoot(context)\n",
    "        X_WG = self.plant.CalcRelativeTransform(\n",
    "                    plant_context,\n",
    "                    frame_A=self.world_frame,\n",
    "                    frame_B=self.gripper_frame)\n",
    "        return X_WG\n",
    "\n",
    "    def paint(self, simulator, context, sim_duration=20.0):\n",
    "        if simulator == None:\n",
    "            context = self.CreateDefaultContext()\n",
    "            simulator = Simulator(self.diagram, context)\n",
    "            simulator.set_target_realtime_rate(1.0)\n",
    "\n",
    "            duration = sim_duration if running_as_notebook else 0.01\n",
    "            simulator.AdvanceTo(duration)\n",
    "        else:\n",
    "            duration = sim_duration if running_as_notebook else 0.01\n",
    "            simulator.AdvanceTo(duration)\n",
    "        \n",
    "        return (simulator, context)\n",
    "\n",
    "class PseudoInverseController(LeafSystem):\n",
    "    \"\"\"\n",
    "    same controller seen in-class\n",
    "    \"\"\"\n",
    "    def __init__(self, plant):\n",
    "        LeafSystem.__init__(self)\n",
    "        self._plant = plant\n",
    "        self._plant_context = plant.CreateDefaultContext()\n",
    "        self._iiwa = plant.GetModelInstanceByName(\"iiwa\")\n",
    "        self._G = plant.GetBodyByName(\"body\").body_frame()\n",
    "        self._W = plant.world_frame()\n",
    "\n",
    "        self.V_G_port = self.DeclareVectorInputPort(\"V_G\", BasicVector(6))\n",
    "        self.q_port = self.DeclareVectorInputPort(\"iiwa_position\", BasicVector(7))\n",
    "        self.DeclareVectorOutputPort(\"iiwa_velocity\", BasicVector(7),\n",
    "                                     self.CalcOutput)\n",
    "        self.iiwa_start = plant.GetJointByName(\"iiwa_joint_1\").velocity_start()\n",
    "        self.iiwa_end = plant.GetJointByName(\"iiwa_joint_7\").velocity_start()\n",
    "\n",
    "    def CalcOutput(self, context, output):\n",
    "        V_G = self.V_G_port.Eval(context)\n",
    "        q = self.q_port.Eval(context)\n",
    "        self._plant.SetPositions(self._plant_context, self._iiwa, q)\n",
    "        J_G = self._plant.CalcJacobianSpatialVelocity(\n",
    "            self._plant_context, JacobianWrtVariable.kV,\n",
    "            self._G, [0,0,0], self._W, self._W)\n",
    "        J_G = J_G[:,self.iiwa_start:self.iiwa_end+1] # Only iiwa terms.\n",
    "        v = np.linalg.pinv(J_G).dot(V_G) #important\n",
    "        output.SetFromVector(v)\n"
   ]
  },
  {
   "cell_type": "code",
   "execution_count": 26,
   "id": "2ab1cd3a",
   "metadata": {},
   "outputs": [],
   "source": [
    "# Instantiate the robot\n",
    "painter = IIWA_Painter()"
   ]
  },
  {
   "cell_type": "code",
   "execution_count": 27,
   "id": "e39b799c",
   "metadata": {},
   "outputs": [],
   "source": [
    "# Visualize the grip frame\n",
    "painter.visualize_frame('gripper_current', painter.get_X_WG())\n",
    "\n",
    "context = painter.CreateDefaultContext()\n",
    "plant_context = painter.plant.GetMyMutableContextFromRoot(context)\n",
    "X_PF = painter.station.GetSubsystemByName(\"plant\").GetFrameByName('base_link', painter.plant.GetModelInstanceByName(\"brick0\")).CalcPoseInWorld(plant_context)\n",
    "painter.visualize_frame('brick_current', X_PF)"
   ]
  },
  {
   "cell_type": "code",
   "execution_count": 40,
   "id": "c201bd81",
   "metadata": {},
   "outputs": [],
   "source": [
    "# Move grip to the brick\n",
    "X_WG_init = painter.get_X_WG()\n",
    "\n",
    "X_WG_target = RigidTransform(RotationMatrix.MakeXRotation(-np.pi/2), np.array([-0.3, 0.3, 0.3]))\n",
    "\n",
    "finger_opened = np.array([0.12]);\n",
    "finger_closed = np.array([0.05]);\n",
    "key_finger_poses = np.array([finger_opened, finger_closed, finger_opened])\n",
    "\n",
    "G_T = RigidTransform(RotationMatrix.MakeXRotation(-np.pi/2), np.array([0, 0, 0.15]))\n",
    "key_frame_poses = [X_WG_init, X_PF @ G_T, X_PF @ G_T, X_WG_target, X_WG_target, X_PF @ RigidTransform(np.array([0, 0, 0.1])) @ G_T, X_PF @ G_T, X_PF @ G_T, X_WG_target, X_WG_target]\n",
    "\n",
    "total_time = 20\n",
    "times = np.linspace(0, total_time, 10)\n",
    "\n",
    "traj = PiecewisePose.MakeLinear(times, key_frame_poses)\n",
    "\n",
    "traj_wsg_command = PiecewisePolynomial.FirstOrderHold(\n",
    "        [times[0], times[1]], np.hstack([[finger_opened], [finger_opened]]))\n",
    "traj_wsg_command.AppendFirstOrderSegment(times[2], finger_closed)\n",
    "traj_wsg_command.AppendFirstOrderSegment(times[3], finger_closed)\n",
    "traj_wsg_command.AppendFirstOrderSegment(times[4], finger_opened)\n",
    "traj_wsg_command.AppendFirstOrderSegment(times[5], finger_opened)\n",
    "traj_wsg_command.AppendFirstOrderSegment(times[6], finger_opened)\n",
    "traj_wsg_command.AppendFirstOrderSegment(times[7], finger_closed)\n",
    "traj_wsg_command.AppendFirstOrderSegment(times[8], finger_closed)\n",
    "traj_wsg_command.AppendFirstOrderSegment(times[9], finger_opened)\n",
    "\n",
    "# Move\n",
    "painter = IIWA_Painter(traj, traj_wsg_command)"
   ]
  },
  {
   "cell_type": "code",
   "execution_count": null,
   "id": "5170fce3",
   "metadata": {},
   "outputs": [],
   "source": [
    "# Move\n",
    "sim, ctx = painter.paint(None, None, sim_duration=times[4])"
   ]
  },
  {
   "cell_type": "code",
   "execution_count": null,
   "id": "580ced7d",
   "metadata": {},
   "outputs": [],
   "source": [
    "#\n",
    "plant_context = painter.plant.GetMyMutableContextFromRoot(ctx)\n",
    "painter.plant.SetFreeBodyPose(plant_context, painter.plant.GetBodyByName(\"base_link\", painter.plant.GetModelInstanceByName(\"brick1\")), RigidTransform(np.array([0.5, 0.5, 0])))\n",
    "\n",
    "sim, ctx = painter.paint(sim, ctx, sim_duration=total_time)"
   ]
  },
  {
   "cell_type": "code",
   "execution_count": null,
   "id": "a21754b9",
   "metadata": {},
   "outputs": [],
   "source": []
  }
 ],
 "metadata": {
  "kernelspec": {
   "display_name": "env",
   "language": "python",
   "name": "env"
  },
  "language_info": {
   "codemirror_mode": {
    "name": "ipython",
    "version": 3
   },
   "file_extension": ".py",
   "mimetype": "text/x-python",
   "name": "python",
   "nbconvert_exporter": "python",
   "pygments_lexer": "ipython3",
   "version": "3.8.10"
  }
 },
 "nbformat": 4,
 "nbformat_minor": 5
}
