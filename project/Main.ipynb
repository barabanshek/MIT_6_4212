{
 "cells": [
  {
   "cell_type": "markdown",
   "id": "50e95fb0",
   "metadata": {},
   "source": [
    "# Bricklayer Robot"
   ]
  },
  {
   "cell_type": "code",
   "execution_count": 1,
   "id": "1d4a4493",
   "metadata": {},
   "outputs": [
    {
     "name": "stderr",
     "output_type": "stream",
     "text": [
      "/home/nikita/env/lib/python3.10/site-packages/mpld3/mplexporter/renderers/base.py:4: DeprecationWarning: The distutils package is deprecated and slated for removal in Python 3.12. Use setuptools or check PEP 632 for potential alternatives\n",
      "  from distutils.version import LooseVersion\n",
      "INFO:drake:Meshcat listening for connections at http://localhost:7000\n"
     ]
    },
    {
     "name": "stdout",
     "output_type": "stream",
     "text": [
      "Working in directory  /home/nikita/MIT_6_4212/project\n"
     ]
    }
   ],
   "source": [
    "# Extensions: magic to avoid re-loading modified .py modules all the time\n",
    "%load_ext autoreload\n",
    "%autoreload 2\n",
    "\n",
    "# Bookkeeping\n",
    "import sys\n",
    "import shutil\n",
    "import os as os\n",
    "import matplotlib.pyplot as plt\n",
    "\n",
    "# Custom project classes and functions\n",
    "from iiwa import *\n",
    "from Trajectory import *\n",
    "from TrajectoryBuilder import *\n",
    "from Visualizer import *\n",
    "from BrickPlanner import *\n",
    "\n",
    "# Some paths\n",
    "kProjectDir = os.getcwd()\n",
    "print(\"Working in directory \", kProjectDir)\n",
    "\n",
    "# Hack: move our model packages to the manipulation/ folder to allow Drake to find them\n",
    "shutil.copyfile(kProjectDir + \"/models/brick.dmd.yaml\", kProjectDir + \"/../manipulation/manipulation/models/brick.dmd.yaml\")\n",
    "shutil.copyfile(kProjectDir + \"/models/real_brick.sdf\", kProjectDir + \"/../manipulation/manipulation/models/real_brick.sdf\")\n",
    "shutil.copyfile(kProjectDir + \"/models/ground_model.sdf\", kProjectDir + \"/../manipulation/manipulation/models/ground_model.sdf\")\n",
    "\n",
    "# Start the visualizer.\n",
    "meshcat = StartMeshcat()"
   ]
  },
  {
   "cell_type": "code",
   "execution_count": 2,
   "id": "962781ac",
   "metadata": {},
   "outputs": [],
   "source": [
    "# System configs\n",
    "# Brick configuration\n",
    "kNumberOfBricks =  150 # @param\n",
    "# Brick dimensions, must be consistent with the geometry in models/real_brick.sdf\n",
    "kBrickGeom = np.array([0.075, 0.1, 0.05]) # @param\n",
    "\n",
    "# Brick warehouse config\n",
    "kWhLocation = np.array([2.5, 2.5, 0.15]) # location of the warehouse (corner), # @param\n",
    "kWhSize = np.array([5, 5, 10]) # size of the warehouse grid in cells, # @param\n",
    "if (kWhSize.prod() < kNumberOfBricks):\n",
    "    assert False, \"The warehouse is too small to fit all bricks\"\n",
    "\n",
    "# Brick source\n",
    "X_WBrickSource = RigidTransform(np.array([0.6, 0.0, kBrickGeom[2]/2])) # @param"
   ]
  },
  {
   "cell_type": "code",
   "execution_count": 3,
   "id": "2ab1cd3a",
   "metadata": {},
   "outputs": [
    {
     "name": "stderr",
     "output_type": "stream",
     "text": [
      "/home/nikita/MIT_6_4212/project/iiwa.py:117: DrakeDeprecationWarning: (Deprecated) See ForcedPublish() \n",
      "*/ (Deprecated.)\n",
      "\n",
      "Deprecated:\n",
      "    Use ForcedPublish() instead This will be removed from Drake on or\n",
      "    after 2023-03-01.\n",
      "  self.diagram.Publish(context)\n"
     ]
    }
   ],
   "source": [
    "# Instantiate the robot (TODO: remove it from here)\n",
    "ilyich = IIWA_Ilyich(meshcat, kNumberOfBricks, kBrickGeom)"
   ]
  },
  {
   "cell_type": "code",
   "execution_count": 4,
   "id": "26b4d21c",
   "metadata": {},
   "outputs": [
    {
     "name": "stdout",
     "output_type": "stream",
     "text": [
      "Parsing floorplan:  \n",
      "|- - - - - - - - |\n",
      "|                |\n",
      "|                |\n",
      "|                |\n",
      "|                |\n",
      "|                |\n",
      "|                |\n",
      "|                |\n",
      "|                |\n",
      "|- - - - - - - - |\n",
      "\n",
      "Bricks planned, total bricked needed:  108\n"
     ]
    }
   ],
   "source": [
    "# Generate bricks\n",
    "floorplan = \"\"\"\n",
    "|\n",
    "|\n",
    "|\n",
    "\"\"\"\n",
    "\n",
    "floorplan_0 = \"\"\"\n",
    "|- - - - - |\n",
    "|          |\n",
    "|          |\n",
    "|          |\n",
    "|- - - - - |\n",
    "\"\"\"\n",
    "\n",
    "floorplan_1 = \"\"\"\n",
    "|- - - - - |\n",
    "|          |\n",
    "|- - -     |\n",
    "      |    |\n",
    "      |    |\n",
    "|- - -     |\n",
    "|          |\n",
    "|- - - - - |\n",
    "\"\"\"\n",
    "\n",
    "floorplan_2 = \"\"\"\n",
    "|- - - - - - - - |\n",
    "|                |\n",
    "|                |\n",
    "|                |\n",
    "|                |\n",
    "|                |\n",
    "|                |\n",
    "|                |\n",
    "|                |\n",
    "|- - - - - - - - |\n",
    "\"\"\"\n",
    "\n",
    "kHeight = 3 # @param\n",
    "kGap = 0.005 # @param\n",
    "planer = Planner(floorplan_2, kBrickGeom, kGap, kHeight)\n",
    "#planer.shift(0.35, -0.4)\n",
    "#planer.shift(-0.3, 0.4)\n",
    "planer.shift(-0.55, -0.45)\n",
    "total_bricks_needed = planer.get_total_bricks_n()\n",
    "if (total_bricks_needed > kNumberOfBricks):\n",
    "    assert False, \"There is not enough bricks to cover the building\"\n",
    "print(\"Bricks planned, total bricked needed: \", total_bricks_needed)\n",
    "\n",
    "# Visualize floorplan\n",
    "vis = Visualizer(meshcat, kBrickGeom)\n",
    "vis.clear_vis()\n",
    "vis.visualize_plan(np.array(planer.get_brick_poses()))"
   ]
  },
  {
   "cell_type": "code",
   "execution_count": 200,
   "id": "e39b799c",
   "metadata": {
    "scrolled": false
   },
   "outputs": [
    {
     "name": "stdout",
     "output_type": "stream",
     "text": [
      "q0 in calibration point is  [ 0.14557608  0.67413625 -0.22359343 -1.39006593  0.15704599  1.09444912\n",
      "  1.46900663  0.          0.        ]\n",
      "Solving...\n",
      "Failed to construct Move trajectory\n"
     ]
    },
    {
     "ename": "AssertionError",
     "evalue": "",
     "output_type": "error",
     "traceback": [
      "\u001b[0;31m---------------------------------------------------------------------------\u001b[0m",
      "\u001b[0;31mAssertionError\u001b[0m                            Traceback (most recent call last)",
      "Cell \u001b[0;32mIn [200], line 34\u001b[0m\n\u001b[1;32m     31\u001b[0m     \u001b[38;5;28;01mcontinue\u001b[39;00m\n\u001b[1;32m     33\u001b[0m \u001b[38;5;66;03m# Move to place\u001b[39;00m\n\u001b[0;32m---> 34\u001b[0m q, (move_t, move_step) \u001b[38;5;241m=\u001b[39m \u001b[43mtrj_builder_for_brick\u001b[49m\u001b[38;5;241;43m.\u001b[39;49m\u001b[43mgen_move_to_place_traj\u001b[49m\u001b[43m(\u001b[49m\u001b[43mq\u001b[49m\u001b[43m,\u001b[49m\u001b[43m \u001b[49m\u001b[43mX_WBrickTarget\u001b[49m\u001b[43m,\u001b[49m\u001b[43m \u001b[49m\u001b[43mi\u001b[49m\u001b[43m)\u001b[49m\n\u001b[1;32m     36\u001b[0m \u001b[38;5;66;03m# Place\u001b[39;00m\n\u001b[1;32m     37\u001b[0m trj_builder_for_brick\u001b[38;5;241m.\u001b[39mgen_place_brick_traj(X_WBrickTarget, b[\u001b[38;5;241m3\u001b[39m], i)\n",
      "File \u001b[0;32m~/MIT_6_4212/project/TrajectoryBuilder.py:159\u001b[0m, in \u001b[0;36mTrajectoryBuilder.gen_move_to_place_traj\u001b[0;34m(self, q0, X_WBrickTarget, brick_n)\u001b[0m\n\u001b[1;32m    157\u001b[0m \u001b[38;5;28;01mif\u001b[39;00m t \u001b[38;5;241m==\u001b[39m \u001b[38;5;28;01mNone\u001b[39;00m:\n\u001b[1;32m    158\u001b[0m     \u001b[38;5;28mprint\u001b[39m(\u001b[38;5;124m\"\u001b[39m\u001b[38;5;124mFailed to construct Move trajectory\u001b[39m\u001b[38;5;124m\"\u001b[39m)\n\u001b[0;32m--> 159\u001b[0m     \u001b[38;5;28;01massert\u001b[39;00m \u001b[38;5;28;01mFalse\u001b[39;00m\n\u001b[1;32m    161\u001b[0m \u001b[38;5;28;01mfor\u001b[39;00m r \u001b[38;5;129;01min\u001b[39;00m t:\n\u001b[1;32m    162\u001b[0m     \u001b[38;5;28mself\u001b[39m\u001b[38;5;241m.\u001b[39mtrajectory\u001b[38;5;241m.\u001b[39mappend_point(step,\n\u001b[1;32m    163\u001b[0m                                  r[\u001b[38;5;241m1\u001b[39m],\n\u001b[1;32m    164\u001b[0m                                  \u001b[38;5;28mself\u001b[39m\u001b[38;5;241m.\u001b[39mfinger_closed,\n\u001b[0;32m   (...)\u001b[0m\n\u001b[1;32m    167\u001b[0m                                  \u001b[38;5;241m0.0\u001b[39m,\n\u001b[1;32m    168\u001b[0m                                  interpolate\u001b[38;5;241m=\u001b[39m\u001b[38;5;28;01mFalse\u001b[39;00m)\n",
      "\u001b[0;31mAssertionError\u001b[0m: "
     ]
    }
   ],
   "source": [
    "# Build trajectories\n",
    "# Build initial trajectory and get q0 in the calibration point\n",
    "trj_builder = TrajectoryBuilder(ilyich, X_WBrickSource)\n",
    "trj_builder.gen_initial_traj()\n",
    "#err = trj_builder.solve_IK(np.array([ 0., 0.6, 0., 0.0, 0.0, 1, 0.0, 0., 0.]))\n",
    "res, q0 = trj_builder.solve_IK(np.array([ 0., 0.0, 0., 0.0, 0.0, 0.0, 0.0, 0., 0.]))\n",
    "assert res == True, \"Failed to solve IK for the initial trajectory\"\n",
    "\n",
    "print(\"q0 in calibration point is \", q0)\n",
    "\n",
    "context = ilyich.CreateDefaultContext()\n",
    "plant_context = ilyich.diagram.GetMutableSubsystemContext(ilyich.plant, context)\n",
    "\n",
    "c_opt = IKOptimizationController()\n",
    "\n",
    "covered_bricks = []\n",
    "failed_bricks = []\n",
    "for i in range(0, 3):#total_bricks_needed):\n",
    "    # Set points\n",
    "    b = planer.get_brick_poses()[i]\n",
    "    X_WBrickTarget = RigidTransform(RotationMatrix(), b[:3])\n",
    "\n",
    "    # Generate trajectory for brick\n",
    "    trj_builder_for_brick = TrajectoryBuilder(ilyich, X_WBrickSource)\n",
    "    # Grab\n",
    "    trj_builder_for_brick.gen_grab_brick_traj(i)\n",
    "    res, q = trj_builder_for_brick.solve_IK(q0)\n",
    "    if res == False:\n",
    "        print(\"Failed to solve IK for brick: \", i)\n",
    "        failed_bricks.append(i)\n",
    "        continue\n",
    "\n",
    "    # Move to place\n",
    "    q, (move_t, move_step) = trj_builder_for_brick.gen_move_to_place_traj(q, X_WBrickTarget, i)\n",
    "\n",
    "    # Place\n",
    "    trj_builder_for_brick.gen_place_brick_traj(X_WBrickTarget, b[3], i)\n",
    "    res, q = trj_builder_for_brick.solve_IK(q0)\n",
    "    if res == False:\n",
    "        print(\"Failed to solve IK for brick: \", i)\n",
    "        failed_bricks.append(i)\n",
    "        continue\n",
    "\n",
    "    # Move back\n",
    "    q, (move_t, move_step) = trj_builder_for_brick.move_back(q, X_WBrickTarget, i)\n",
    "\n",
    "    # Return\n",
    "    #if not bypass_P == P2:\n",
    "    #    trj_builder_for_brick.gen_move_to_place_traj(\n",
    "    #        RigidTransform(np.array([bypass_p[0], bypass_p[1], X_WBrickTarget.translation()[2]])),\n",
    "    #        i)\n",
    "    #trj_builder_for_brick.gen_return_to_source_traj(i)\n",
    "    ## Solve IK for the trajectories\n",
    "    #res, q = trj_builder_for_brick.solve_IK(q0)\n",
    "    #if res == False:\n",
    "    #    # Failed to solve for this bypass, try another one\n",
    "    #    success = False\n",
    "    #    continue\n",
    "    #else:\n",
    "    #    # Solved for this bypass, accept it\n",
    "    #    success = True\n",
    "    #    covered_bricks.append(i)\n",
    "    #    trj_builder.merge(trj_builder_for_brick)\n",
    "    #    break\n",
    "    \n",
    "    covered_bricks.append(i)\n",
    "    trj_builder.merge(trj_builder_for_brick)\n",
    "\n",
    "    #\n",
    "    #assert False, \"Done\"\n",
    "\n",
    "    # Failed bricks \n",
    "    #if success == False:\n",
    "    ##    print(\"Failed to solve IK for brick: \", i)\n",
    "    #    failed_bricks.append(i)\n",
    "\n",
    "# Print stat\n",
    "print(\"Covered bricks: \", covered_bricks)\n",
    "print(\"Failed bricks:\", failed_bricks)\n",
    "\n",
    "# Speed-up a bit\n",
    "trj_builder.get_trajectories().slow_down(0.5)\n",
    "\n",
    "# Make trajectories for iiwa with IK\n",
    "traj, finger_traj = trj_builder.get_trajectories().form_iiwa_traj_q()"
   ]
  },
  {
   "cell_type": "code",
   "execution_count": 186,
   "id": "827a5afd",
   "metadata": {},
   "outputs": [],
   "source": [
    "vis.clear_vis()\n",
    "points = trj_builder.get_trajectory_points_for_brick(1)\n",
    "vis.visualize_traj(points, 1)"
   ]
  },
  {
   "cell_type": "code",
   "execution_count": 162,
   "id": "dcdfcfff",
   "metadata": {},
   "outputs": [
    {
     "name": "stdout",
     "output_type": "stream",
     "text": [
      "[1.000005, 8.20000999999999, 14.90001499999998]\n"
     ]
    }
   ],
   "source": [
    "print(trj_builder.get_trajectories().get_breakpoints())"
   ]
  },
  {
   "cell_type": "code",
   "execution_count": 191,
   "id": "7ffd5784",
   "metadata": {},
   "outputs": [],
   "source": [
    "# Visualize coverage\n",
    "vis = Visualizer(meshcat, kBrickGeom)\n",
    "vis.clear_vis()\n",
    "vis.visualize_coverage(planer.get_brick_poses()[covered_bricks], planer.get_brick_poses()[failed_bricks])\n",
    "\n",
    "# Visualize all trajectories\n",
    "for b_id in covered_bricks:\n",
    "    points = trj_builder.get_trajectory_points_for_brick(b_id)\n",
    "    vis.visualize_traj(points, b_id)"
   ]
  },
  {
   "cell_type": "code",
   "execution_count": null,
   "id": "1633332d",
   "metadata": {},
   "outputs": [],
   "source": []
  },
  {
   "cell_type": "code",
   "execution_count": 187,
   "id": "52479c81",
   "metadata": {},
   "outputs": [],
   "source": [
    "# Create robot\n",
    "ilyich = IIWA_Ilyich(meshcat, kNumberOfBricks, kBrickGeom, [traj, finger_traj])\n",
    "\n",
    "# Create default context\n",
    "context = ilyich.CreateDefaultContext()\n",
    "\n",
    "# Put all bricks in the warehouse\n",
    "ilyich.put_bricks_in_warehouse(context, kWhLocation, kWhSize, kNumberOfBricks)"
   ]
  },
  {
   "cell_type": "code",
   "execution_count": 188,
   "id": "5170fce3",
   "metadata": {},
   "outputs": [
    {
     "name": "stdout",
     "output_type": "stream",
     "text": [
      "calibration q0=  [ 0.14825553  0.66855888 -0.22518602 -1.39959155  0.15436727  1.08739172\n",
      "  1.47879735]\n"
     ]
    },
    {
     "ename": "IndexError",
     "evalue": "list index out of range",
     "output_type": "error",
     "traceback": [
      "\u001b[0;31m---------------------------------------------------------------------------\u001b[0m",
      "\u001b[0;31mIndexError\u001b[0m                                Traceback (most recent call last)",
      "Cell \u001b[0;32mIn [188], line 21\u001b[0m\n\u001b[1;32m     18\u001b[0m ilyich\u001b[38;5;241m.\u001b[39munlock_brick(context, i)\n\u001b[1;32m     20\u001b[0m \u001b[38;5;66;03m# Manipulate the brick to target\u001b[39;00m\n\u001b[0;32m---> 21\u001b[0m sim, ctx \u001b[38;5;241m=\u001b[39m ilyich\u001b[38;5;241m.\u001b[39mwork(sim, ctx, sim_duration\u001b[38;5;241m=\u001b[39m\u001b[43mtrj_builder\u001b[49m\u001b[38;5;241;43m.\u001b[39;49m\u001b[43mget_trajectories\u001b[49m\u001b[43m(\u001b[49m\u001b[43m)\u001b[49m\u001b[38;5;241;43m.\u001b[39;49m\u001b[43mget_breakpoints\u001b[49m\u001b[43m(\u001b[49m\u001b[43m)\u001b[49m\u001b[43m[\u001b[49m\u001b[43mi\u001b[49m\u001b[38;5;241;43m+\u001b[39;49m\u001b[38;5;241;43m1\u001b[39;49m\u001b[43m]\u001b[49m)\n\u001b[1;32m     23\u001b[0m \u001b[38;5;66;03m# Lock brick\u001b[39;00m\n\u001b[1;32m     24\u001b[0m ilyich\u001b[38;5;241m.\u001b[39mlock_brick(context, i)\n",
      "\u001b[0;31mIndexError\u001b[0m: list index out of range"
     ]
    }
   ],
   "source": [
    "#\n",
    "# Move\n",
    "#\n",
    "# Move to calibration point and calibrate\n",
    "sim, ctx = ilyich.work(None, context, sim_duration=trj_builder.get_trajectories().get_breakpoints()[0])\n",
    "q0 = ilyich.get_q0(ctx)\n",
    "print(\"calibration q0= \", q0)\n",
    "\n",
    "# Continue for all bricks\n",
    "for i, b_id in enumerate(covered_bricks):\n",
    "    # Show trajectory\n",
    "    points = trj_builder.get_trajectory_points_for_brick(b_id)\n",
    "    vis.clear_traj()\n",
    "    vis.visualize_traj(points)\n",
    "\n",
    "    # Teleport the next new brick from the warehouse and unlock it\n",
    "    ilyich.move_brick(context, X_WBrickSource, i)\n",
    "    ilyich.unlock_brick(context, i)\n",
    "\n",
    "    # Manipulate the brick to target\n",
    "    sim, ctx = ilyich.work(sim, ctx, sim_duration=trj_builder.get_trajectories().get_breakpoints()[i+1])\n",
    "\n",
    "    # Lock brick\n",
    "    ilyich.lock_brick(context, i)"
   ]
  },
  {
   "cell_type": "code",
   "execution_count": null,
   "id": "580ced7d",
   "metadata": {},
   "outputs": [],
   "source": []
  },
  {
   "cell_type": "code",
   "execution_count": null,
   "id": "a21754b9",
   "metadata": {},
   "outputs": [],
   "source": []
  },
  {
   "cell_type": "code",
   "execution_count": null,
   "id": "aff12473",
   "metadata": {},
   "outputs": [],
   "source": []
  },
  {
   "cell_type": "code",
   "execution_count": null,
   "id": "c5ab98de",
   "metadata": {},
   "outputs": [],
   "source": []
  }
 ],
 "metadata": {
  "kernelspec": {
   "display_name": "Python 3 (ipykernel)",
   "language": "python",
   "name": "python3"
  },
  "language_info": {
   "codemirror_mode": {
    "name": "ipython",
    "version": 3
   },
   "file_extension": ".py",
   "mimetype": "text/x-python",
   "name": "python",
   "nbconvert_exporter": "python",
   "pygments_lexer": "ipython3",
   "version": "3.10.6"
  }
 },
 "nbformat": 4,
 "nbformat_minor": 5
}
