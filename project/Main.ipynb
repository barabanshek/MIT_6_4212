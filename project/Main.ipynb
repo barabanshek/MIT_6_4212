{
 "cells": [
  {
   "cell_type": "markdown",
   "id": "50e95fb0",
   "metadata": {},
   "source": [
    "# Bricklayer Robot"
   ]
  },
  {
   "cell_type": "code",
   "execution_count": 1,
   "id": "1d4a4493",
   "metadata": {},
   "outputs": [
    {
     "name": "stderr",
     "output_type": "stream",
     "text": [
      "INFO:drake:Meshcat listening for connections at http://localhost:7000\n"
     ]
    },
    {
     "name": "stdout",
     "output_type": "stream",
     "text": [
      "Working in directory  /home/nikita/MIT_6_4212/project\n"
     ]
    }
   ],
   "source": [
    "# Extensions: magic to avoid re-loading modified .py modules all the time\n",
    "%load_ext autoreload\n",
    "%autoreload 2\n",
    "\n",
    "# Bookkeeping\n",
    "import sys\n",
    "import shutil\n",
    "import os as os\n",
    "import matplotlib.pyplot as plt\n",
    "\n",
    "# Custom project classes and functions\n",
    "from iiwa import *\n",
    "from Trajectory import *\n",
    "from TrajectoryBuilder import *\n",
    "\n",
    "# Some paths\n",
    "kProjectDir = os.getcwd()\n",
    "print(\"Working in directory \", kProjectDir)\n",
    "\n",
    "# Hack: move our model packages to the manipulation/ folder to allow Drake to find them\n",
    "shutil.copyfile(kProjectDir + \"/models/brick.dmd.yaml\", kProjectDir + \"/../manipulation/manipulation/models/brick.dmd.yaml\")\n",
    "shutil.copyfile(kProjectDir + \"/models/real_brick.sdf\", kProjectDir + \"/../manipulation/manipulation/models/real_brick.sdf\")\n",
    "shutil.copyfile(kProjectDir + \"/models/ground_model.sdf\", kProjectDir + \"/../manipulation/manipulation/models/ground_model.sdf\")\n",
    "\n",
    "# Start the visualizer.\n",
    "meshcat = StartMeshcat()"
   ]
  },
  {
   "cell_type": "code",
   "execution_count": 2,
   "id": "962781ac",
   "metadata": {},
   "outputs": [],
   "source": [
    "# System configs\n",
    "# Number of bricks\n",
    "kNumberOfBricks =  10# @param\n",
    "\n",
    "# Brick warehouse config\n",
    "kWhLocation = np.array([2.5, 2.5, 0.15]) # location of the warehouse (corner), # @param\n",
    "kWhSize = np.array([5, 5, 5]) # size of the warehouse grid in cells, # @param\n",
    "if (kWhSize.prod() < kNumberOfBricks):\n",
    "    assert False, \"The warehouse is too small to fit all bricks\"\n",
    "\n",
    "# Brick source\n",
    "X_WBrickSource = RigidTransform(np.array([0.5, 0.5, 0.05])) # @param"
   ]
  },
  {
   "cell_type": "code",
   "execution_count": 3,
   "id": "2ab1cd3a",
   "metadata": {},
   "outputs": [],
   "source": [
    "# Instantiate the robot (TODO: remove it from here)\n",
    "ilyich = IIWA_Ilyich(meshcat, kNumberOfBricks)"
   ]
  },
  {
   "cell_type": "code",
   "execution_count": 4,
   "id": "e39b799c",
   "metadata": {},
   "outputs": [
    {
     "name": "stdout",
     "output_type": "stream",
     "text": [
      "IK solver: failed to solve for  0  positions\n"
     ]
    }
   ],
   "source": [
    "# Build trajectories\n",
    "trj_builder = TrajectoryBuilder(ilyich, X_WBrickSource)\n",
    "trj_builder.gen_initial_traj()\n",
    "\n",
    "targets = [np.array([-0.3, 0.3, 0.05])]\n",
    "z = 0\n",
    "y = 0\n",
    "for i in range (1, 6):\n",
    "    #\n",
    "    if i % 2 == 0:\n",
    "        y = 0\n",
    "        z = z + 0.1\n",
    "    else:\n",
    "        y = y + 0.170\n",
    "    #\n",
    "    targets.append(np.array([-0.3, 0.3 + y, 0.05 + z]))\n",
    "\n",
    "targets.append(np.array([0.0, 0.4, 0.05]))\n",
    "z = 0\n",
    "y = 0\n",
    "for i in range (1, 6):\n",
    "    #\n",
    "    if i % 3 == 0:\n",
    "        y = 0\n",
    "        z = z + 0.1\n",
    "    else:\n",
    "        y = y + 0.170\n",
    "    #\n",
    "    targets.append(np.array([0.0, 0.4 + y, 0.05 + z]))\n",
    "\n",
    "for i in range(0, kNumberOfBricks):\n",
    "    # Compute destination and orientation\n",
    "    #if i%2:\n",
    "    #    X_WBrickTarget = RigidTransform(np.array([-0.3, -0.3, 0.35]))\n",
    "    #else:\n",
    "    #    X_WBrickTarget = RigidTransform(np.array([-0.3, 0.3, 0.35]))\n",
    "    X_WBrickTarget = RigidTransform(targets[i])\n",
    "\n",
    "    # Generate trajectory\n",
    "    trj_builder.gen_grab_brick_traj(i)\n",
    "    trj_builder.gen_move_to_place_traj(X_WBrickTarget, i)\n",
    "    trj_builder.gen_place_brick_traj(X_WBrickTarget, i)\n",
    "    trj_builder.gen_return_to_source_traj(X_WBrickTarget, i)\n",
    "\n",
    "# Speed-up a bit\n",
    "trj_builder.get_trajectories().slow_down(0.5)\n",
    "\n",
    "#trj_builder.get_trajectories().dump_trajectories([True, True, False, True, False, False])\n",
    "\n",
    "kUseIK = True # controller to use @param\n",
    "if kUseIK:\n",
    "    # Use IK\n",
    "    # Make trajectories for iiwa with IK\n",
    "    trj_builder.solve_IK()\n",
    "    # Form iiwa trajectories with IK\n",
    "    traj, finger_traj = trj_builder.get_trajectories().form_iiwa_traj_q()\n",
    "else:\n",
    "    # Use PseudoInverse controller\n",
    "    # Form iiwa trajectories with IK\n",
    "    traj, finger_traj = trj_builder.get_trajectories().form_iiwa_traj()"
   ]
  },
  {
   "cell_type": "markdown",
   "id": "3a31dd61",
   "metadata": {},
   "source": [
    "#"
   ]
  },
  {
   "cell_type": "code",
   "execution_count": 5,
   "id": "52479c81",
   "metadata": {},
   "outputs": [],
   "source": [
    "# Create robot\n",
    "ilyich = IIWA_Ilyich(meshcat, kNumberOfBricks, [traj, finger_traj])\n",
    "\n",
    "# Create default context\n",
    "context = ilyich.CreateDefaultContext()\n",
    "\n",
    "# Put all bricks in the warehouse\n",
    "ilyich.put_bricks_in_warehouse(context, kWhLocation, kWhSize, kNumberOfBricks)"
   ]
  },
  {
   "cell_type": "code",
   "execution_count": 6,
   "id": "5170fce3",
   "metadata": {},
   "outputs": [
    {
     "name": "stdout",
     "output_type": "stream",
     "text": [
      "calibration q0=  [-1.93518422 -1.18923627  1.91867454 -0.89358737  1.0201813   1.57142632\n",
      "  1.99789302]\n"
     ]
    },
    {
     "ename": "KeyboardInterrupt",
     "evalue": "",
     "output_type": "error",
     "traceback": [
      "\u001b[0;31m---------------------------------------------------------------------------\u001b[0m",
      "\u001b[0;31mKeyboardInterrupt\u001b[0m                         Traceback (most recent call last)",
      "Cell \u001b[0;32mIn [6], line 23\u001b[0m\n\u001b[1;32m     20\u001b[0m ilyich\u001b[38;5;241m.\u001b[39munlock_brick(context, i)\n\u001b[1;32m     22\u001b[0m \u001b[38;5;66;03m# Manipulate the brick to target\u001b[39;00m\n\u001b[0;32m---> 23\u001b[0m sim, ctx \u001b[38;5;241m=\u001b[39m \u001b[43milyich\u001b[49m\u001b[38;5;241;43m.\u001b[39;49m\u001b[43mwork\u001b[49m\u001b[43m(\u001b[49m\u001b[43msim\u001b[49m\u001b[43m,\u001b[49m\u001b[43m \u001b[49m\u001b[43mctx\u001b[49m\u001b[43m,\u001b[49m\u001b[43m \u001b[49m\u001b[43msim_duration\u001b[49m\u001b[38;5;241;43m=\u001b[39;49m\u001b[43mtrj_builder\u001b[49m\u001b[38;5;241;43m.\u001b[39;49m\u001b[43mget_trajectories\u001b[49m\u001b[43m(\u001b[49m\u001b[43m)\u001b[49m\u001b[38;5;241;43m.\u001b[39;49m\u001b[43mget_breakpoints\u001b[49m\u001b[43m(\u001b[49m\u001b[43m)\u001b[49m\u001b[43m[\u001b[49m\u001b[43mi\u001b[49m\u001b[38;5;241;43m+\u001b[39;49m\u001b[38;5;241;43m1\u001b[39;49m\u001b[43m]\u001b[49m\u001b[43m)\u001b[49m\n",
      "File \u001b[0;32m~/MIT_6_4212/project/iiwa.py:216\u001b[0m, in \u001b[0;36mIIWA_Ilyich.work\u001b[0;34m(self, simulator, context, sim_duration)\u001b[0m\n\u001b[1;32m    213\u001b[0m     simulator\u001b[38;5;241m.\u001b[39mset_target_realtime_rate(\u001b[38;5;241m1.0\u001b[39m)\n\u001b[1;32m    215\u001b[0m duration \u001b[38;5;241m=\u001b[39m sim_duration \u001b[38;5;28;01mif\u001b[39;00m running_as_notebook \u001b[38;5;28;01melse\u001b[39;00m \u001b[38;5;241m0.01\u001b[39m\n\u001b[0;32m--> 216\u001b[0m \u001b[43msimulator\u001b[49m\u001b[38;5;241;43m.\u001b[39;49m\u001b[43mAdvanceTo\u001b[49m\u001b[43m(\u001b[49m\u001b[43mduration\u001b[49m\u001b[43m)\u001b[49m\n\u001b[1;32m    218\u001b[0m \u001b[38;5;28;01mreturn\u001b[39;00m (simulator, context)\n",
      "\u001b[0;31mKeyboardInterrupt\u001b[0m: "
     ]
    }
   ],
   "source": [
    "#\n",
    "# Move\n",
    "#\n",
    "# Move to calibration point and calibrate\n",
    "sim, ctx = ilyich.work(None, context, sim_duration=trj_builder.get_trajectories().get_breakpoints()[0])\n",
    "q0 = ilyich.get_q0(ctx)\n",
    "print(\"calibration q0= \", q0)\n",
    "\n",
    "# Continue for all bricks\n",
    "for i in range(0, kNumberOfBricks):\n",
    "    # Reset integrator with calibrated value\n",
    "    ilyich.reset_integrator(ctx, q0)\n",
    "\n",
    "    # Lock prev brick at target (if any)\n",
    "    if (i > 1):\n",
    "        ilyich.lock_brick(context, i - 2)\n",
    "\n",
    "    # Teleport the next new brick from the warehouse and unlock it\n",
    "    ilyich.move_brick(context, X_WBrickSource, i)\n",
    "    ilyich.unlock_brick(context, i)\n",
    "\n",
    "    # Manipulate the brick to target\n",
    "    sim, ctx = ilyich.work(sim, ctx, sim_duration=trj_builder.get_trajectories().get_breakpoints()[i+1])"
   ]
  },
  {
   "cell_type": "code",
   "execution_count": null,
   "id": "580ced7d",
   "metadata": {},
   "outputs": [],
   "source": []
  },
  {
   "cell_type": "code",
   "execution_count": null,
   "id": "a21754b9",
   "metadata": {},
   "outputs": [],
   "source": []
  },
  {
   "cell_type": "code",
   "execution_count": null,
   "id": "aff12473",
   "metadata": {},
   "outputs": [],
   "source": []
  },
  {
   "cell_type": "code",
   "execution_count": null,
   "id": "c5ab98de",
   "metadata": {},
   "outputs": [],
   "source": []
  }
 ],
 "metadata": {
  "kernelspec": {
   "display_name": "Python 3 (ipykernel)",
   "language": "python",
   "name": "python3"
  },
  "language_info": {
   "codemirror_mode": {
    "name": "ipython",
    "version": 3
   },
   "file_extension": ".py",
   "mimetype": "text/x-python",
   "name": "python",
   "nbconvert_exporter": "python",
   "pygments_lexer": "ipython3",
   "version": "3.8.10"
  }
 },
 "nbformat": 4,
 "nbformat_minor": 5
}
