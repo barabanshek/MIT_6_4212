{
 "cells": [
  {
   "cell_type": "markdown",
   "id": "50e95fb0",
   "metadata": {},
   "source": [
    "# Bricklayer Robot"
   ]
  },
  {
   "cell_type": "code",
   "execution_count": 1,
   "id": "1d4a4493",
   "metadata": {},
   "outputs": [
    {
     "name": "stderr",
     "output_type": "stream",
     "text": [
      "INFO:drake:Meshcat listening for connections at http://localhost:7000\n"
     ]
    },
    {
     "name": "stdout",
     "output_type": "stream",
     "text": [
      "Working in directory  /home/nikita/MIT_6_4212/project\n"
     ]
    }
   ],
   "source": [
    "# Extensions: magic to avoid re-loading modified .py modules all the time\n",
    "%load_ext autoreload\n",
    "%autoreload 2\n",
    "\n",
    "# Bookkeeping\n",
    "import sys\n",
    "import shutil\n",
    "import os as os\n",
    "import matplotlib.pyplot as plt\n",
    "\n",
    "# Custom project classes and functions\n",
    "from iiwa import *\n",
    "from Trajectory import *\n",
    "from TrajectoryBuilder import *\n",
    "\n",
    "# Some paths\n",
    "kProjectDir = os.getcwd()\n",
    "print(\"Working in directory \", kProjectDir)\n",
    "\n",
    "# Hack: move our model packages to the manipulation/ folder to allow Drake to find them\n",
    "shutil.copyfile(kProjectDir + \"/models/brick.dmd.yaml\", kProjectDir + \"/../manipulation/manipulation/models/brick.dmd.yaml\")\n",
    "shutil.copyfile(kProjectDir + \"/models/real_brick.sdf\", kProjectDir + \"/../manipulation/manipulation/models/real_brick.sdf\")\n",
    "shutil.copyfile(kProjectDir + \"/models/ground_model.sdf\", kProjectDir + \"/../manipulation/manipulation/models/ground_model.sdf\")\n",
    "\n",
    "# Start the visualizer.\n",
    "meshcat = StartMeshcat()"
   ]
  },
  {
   "cell_type": "code",
   "execution_count": 2,
   "id": "962781ac",
   "metadata": {},
   "outputs": [],
   "source": [
    "# System configs\n",
    "# Brick configuration\n",
    "kNumberOfBricks =  40 # @param\n",
    "# Brick dimensions, must be consistent with the geometry in models/real_brick.sdf\n",
    "kBrickGeom = np.array([0.075, 0.1, 0.05]) # @param\n",
    "\n",
    "# Brick warehouse config\n",
    "kWhLocation = np.array([2.5, 2.5, 0.15]) # location of the warehouse (corner), # @param\n",
    "kWhSize = np.array([5, 5, 5]) # size of the warehouse grid in cells, # @param\n",
    "if (kWhSize.prod() < kNumberOfBricks):\n",
    "    assert False, \"The warehouse is too small to fit all bricks\"\n",
    "\n",
    "# Brick source\n",
    "X_WBrickSource = RigidTransform(np.array([0.5, 0.5, kBrickGeom[2]/2])) # @param"
   ]
  },
  {
   "cell_type": "code",
   "execution_count": 3,
   "id": "2ab1cd3a",
   "metadata": {},
   "outputs": [],
   "source": [
    "# Instantiate the robot (TODO: remove it from here)\n",
    "ilyich = IIWA_Ilyich(meshcat, kNumberOfBricks, kBrickGeom)"
   ]
  },
  {
   "cell_type": "code",
   "execution_count": 7,
   "id": "e39b799c",
   "metadata": {},
   "outputs": [
    {
     "name": "stdout",
     "output_type": "stream",
     "text": [
      "IK solver: failed to solve for  0  positions\n"
     ]
    }
   ],
   "source": [
    "# Build trajectories\n",
    "trj_builder = TrajectoryBuilder(ilyich, X_WBrickSource)\n",
    "trj_builder.gen_initial_traj()\n",
    "\n",
    "kNumberOfBricks = 30\n",
    "\n",
    "targets = [np.array([-0.3, 0.3, 0.025])]\n",
    "z = 0\n",
    "y = 0\n",
    "for i in range (1, 15):\n",
    "    #\n",
    "    if i % 3 == 0:\n",
    "        y = 0\n",
    "        z = z + 0.05 + 0.0001\n",
    "    else:\n",
    "        y = y + 0.100 + 0.001\n",
    "    #\n",
    "    targets.append(np.array([-0.3, 0.3 + y, 0.025 + z]))\n",
    "\n",
    "targets.append(np.array([0.0, 0.4, 0.025]))\n",
    "z = 0\n",
    "y = 0\n",
    "for i in range (1, 15):\n",
    "    #\n",
    "    if i % 3 == 0:\n",
    "        y = 0\n",
    "        z = z + 0.05 + 0.0001\n",
    "    else:\n",
    "        y = y + 0.100 + 0.001\n",
    "    #\n",
    "    targets.append(np.array([0.0, 0.4 + y, 0.025 + z]))\n",
    "\n",
    "for i in range(0, kNumberOfBricks):\n",
    "    # Compute destination and orientation\n",
    "    #if i%2:\n",
    "    #    X_WBrickTarget = RigidTransform(np.array([-0.3, -0.3, 0.35]))\n",
    "    #else:\n",
    "    #    X_WBrickTarget = RigidTransform(np.array([-0.3, 0.3, 0.35]))\n",
    "    X_WBrickTarget = RigidTransform(targets[i])\n",
    "\n",
    "    # Generate trajectory\n",
    "    trj_builder.gen_grab_brick_traj(i)\n",
    "    trj_builder.gen_move_to_place_traj(X_WBrickTarget, i)\n",
    "    trj_builder.gen_place_brick_traj(X_WBrickTarget, i)\n",
    "    trj_builder.gen_return_to_source_traj(X_WBrickTarget, i)\n",
    "\n",
    "# Speed-up a bit\n",
    "trj_builder.get_trajectories().slow_down(0.5)\n",
    "\n",
    "#trj_builder.get_trajectories().dump_trajectories([True, True, False, True, False, False])\n",
    "\n",
    "kUseIK = True # controller to use @param\n",
    "if kUseIK:\n",
    "    # Use IK\n",
    "    # Make trajectories for iiwa with IK\n",
    "    trj_builder.solve_IK()\n",
    "    # Form iiwa trajectories with IK\n",
    "    traj, finger_traj = trj_builder.get_trajectories().form_iiwa_traj_q()\n",
    "else:\n",
    "    # Use PseudoInverse controller\n",
    "    # Form iiwa trajectories with IK\n",
    "    traj, finger_traj = trj_builder.get_trajectories().form_iiwa_traj()"
   ]
  },
  {
   "cell_type": "code",
   "execution_count": 8,
   "id": "52479c81",
   "metadata": {},
   "outputs": [],
   "source": [
    "# Create robot\n",
    "ilyich = IIWA_Ilyich(meshcat, kNumberOfBricks, kBrickGeom, [traj, finger_traj])\n",
    "\n",
    "# Create default context\n",
    "context = ilyich.CreateDefaultContext()\n",
    "\n",
    "# Put all bricks in the warehouse\n",
    "ilyich.put_bricks_in_warehouse(context, kWhLocation, kWhSize, kNumberOfBricks)"
   ]
  },
  {
   "cell_type": "code",
   "execution_count": null,
   "id": "5170fce3",
   "metadata": {},
   "outputs": [
    {
     "name": "stdout",
     "output_type": "stream",
     "text": [
      "calibration q0=  [-1.92353895 -1.22192539  1.91380272 -0.9218909   1.04766395  1.53811877\n",
      "  1.98134717]\n"
     ]
    }
   ],
   "source": [
    "#\n",
    "# Move\n",
    "#\n",
    "# Move to calibration point and calibrate\n",
    "sim, ctx = ilyich.work(None, context, sim_duration=trj_builder.get_trajectories().get_breakpoints()[0])\n",
    "q0 = ilyich.get_q0(ctx)\n",
    "print(\"calibration q0= \", q0)\n",
    "\n",
    "# Continue for all bricks\n",
    "for i in range(0, kNumberOfBricks):\n",
    "    # Reset integrator with calibrated value\n",
    "    ilyich.reset_integrator(ctx, q0)\n",
    "\n",
    "    # Lock prev brick at target (if any)\n",
    "    if (i > 1):\n",
    "        ilyich.lock_brick(context, i - 2)\n",
    "\n",
    "    # Teleport the next new brick from the warehouse and unlock it\n",
    "    ilyich.move_brick(context, X_WBrickSource, i)\n",
    "    ilyich.unlock_brick(context, i)\n",
    "\n",
    "    # Manipulate the brick to target\n",
    "    sim, ctx = ilyich.work(sim, ctx, sim_duration=trj_builder.get_trajectories().get_breakpoints()[i+1])"
   ]
  },
  {
   "cell_type": "code",
   "execution_count": null,
   "id": "580ced7d",
   "metadata": {},
   "outputs": [],
   "source": []
  },
  {
   "cell_type": "code",
   "execution_count": null,
   "id": "a21754b9",
   "metadata": {},
   "outputs": [],
   "source": []
  },
  {
   "cell_type": "code",
   "execution_count": null,
   "id": "aff12473",
   "metadata": {},
   "outputs": [],
   "source": []
  },
  {
   "cell_type": "code",
   "execution_count": null,
   "id": "c5ab98de",
   "metadata": {},
   "outputs": [],
   "source": []
  }
 ],
 "metadata": {
  "kernelspec": {
   "display_name": "Python 3 (ipykernel)",
   "language": "python",
   "name": "python3"
  },
  "language_info": {
   "codemirror_mode": {
    "name": "ipython",
    "version": 3
   },
   "file_extension": ".py",
   "mimetype": "text/x-python",
   "name": "python",
   "nbconvert_exporter": "python",
   "pygments_lexer": "ipython3",
   "version": "3.8.10"
  }
 },
 "nbformat": 4,
 "nbformat_minor": 5
}
