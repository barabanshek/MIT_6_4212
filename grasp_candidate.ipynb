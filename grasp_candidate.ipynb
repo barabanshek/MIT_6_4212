{
 "cells": [
  {
   "cell_type": "markdown",
   "metadata": {
    "cell_id": "74b86ff7839b4711a778052c74dd1d40",
    "deepnote_cell_type": "markdown",
    "id": "VEYe67K6E6j0"
   },
   "source": [
    "## **Grasp Candidate Sampling**\n"
   ]
  },
  {
   "cell_type": "code",
   "execution_count": 8,
   "metadata": {
    "cell_id": "a93ea841985341f7b114e1b2980982a3",
    "deepnote_cell_type": "code",
    "deepnote_to_be_reexecuted": false,
    "execution_millis": 0,
    "execution_start": 1665694291279,
    "id": "v5OrhpSmxkGH",
    "source_hash": "d70fb59a"
   },
   "outputs": [],
   "source": [
    "import numpy as np\n",
    "from manipulation import running_as_notebook\n",
    "from manipulation.meshcat_utils import AddMeshcatTriad\n",
    "from manipulation.mustard_depth_camera_example import MustardPointCloud\n",
    "from manipulation.scenarios import AddMultibodyTriad\n",
    "from manipulation.utils import FindResource, LoadDataResource\n",
    "from pydrake.all import (AddMultibodyPlantSceneGraph, Box, DiagramBuilder,\n",
    "                         FindResourceOrThrow, MeshcatVisualizer, Parser,\n",
    "                         PointCloud, Rgba, RigidTransform, RotationMatrix,\n",
    "                         StartMeshcat, Sphere)\n",
    "from scipy.spatial import KDTree\n"
   ]
  },
  {
   "cell_type": "code",
   "execution_count": 9,
   "metadata": {
    "cell_id": "fc6469024e00446dbb64eaa971241be4",
    "deepnote_cell_type": "code",
    "deepnote_to_be_reexecuted": false,
    "execution_millis": 49,
    "execution_start": 1665694291583,
    "source_hash": "6d42057f"
   },
   "outputs": [
    {
     "name": "stderr",
     "output_type": "stream",
     "text": [
      "INFO:drake:Meshcat listening for connections at http://localhost:7000\n"
     ]
    }
   ],
   "source": [
    "# Start the visualizer.\n",
    "meshcat = StartMeshcat()"
   ]
  },
  {
   "cell_type": "code",
   "execution_count": 10,
   "metadata": {
    "cell_id": "02306c53db7842caba68a5791a623bc1",
    "deepnote_cell_type": "code",
    "deepnote_to_be_reexecuted": false,
    "execution_millis": 3969,
    "execution_start": 1665694294403,
    "source_hash": "f19bb402"
   },
   "outputs": [
    {
     "ename": "RuntimeError",
     "evalue": "error: URI 'package://drake/manipulation/models/ycb/meshes/006_mustard_bottle_textured.obj' resolved to '/home/nikita/env/lib/python3.8/site-packages/pydrake/share/drake/manipulation/models/ycb/meshes/006_mustard_bottle_textured.obj' which does not exist.",
     "output_type": "error",
     "traceback": [
      "\u001b[0;31m---------------------------------------------------------------------------\u001b[0m",
      "\u001b[0;31mRuntimeError\u001b[0m                              Traceback (most recent call last)",
      "Cell \u001b[0;32mIn [10], line 2\u001b[0m\n\u001b[1;32m      1\u001b[0m \u001b[38;5;66;03m# Basic setup\u001b[39;00m\n\u001b[0;32m----> 2\u001b[0m pcd \u001b[38;5;241m=\u001b[39m \u001b[43mMustardPointCloud\u001b[49m\u001b[43m(\u001b[49m\u001b[43mnormals\u001b[49m\u001b[38;5;241;43m=\u001b[39;49m\u001b[38;5;28;43;01mTrue\u001b[39;49;00m\u001b[43m,\u001b[49m\u001b[43m \u001b[49m\u001b[43mdown_sample\u001b[49m\u001b[38;5;241;43m=\u001b[39;49m\u001b[38;5;28;43;01mFalse\u001b[39;49;00m\u001b[43m)\u001b[49m\n\u001b[1;32m      4\u001b[0m meshcat\u001b[38;5;241m.\u001b[39mSetProperty(\u001b[38;5;124m\"\u001b[39m\u001b[38;5;124m/Background\u001b[39m\u001b[38;5;124m\"\u001b[39m, \u001b[38;5;124m\"\u001b[39m\u001b[38;5;124mvisible\u001b[39m\u001b[38;5;124m\"\u001b[39m, \u001b[38;5;28;01mFalse\u001b[39;00m)\n\u001b[1;32m      5\u001b[0m meshcat\u001b[38;5;241m.\u001b[39mSetObject(\u001b[38;5;124m\"\u001b[39m\u001b[38;5;124mcloud\u001b[39m\u001b[38;5;124m\"\u001b[39m, pcd, point_size\u001b[38;5;241m=\u001b[39m\u001b[38;5;241m0.001\u001b[39m)\n",
      "File \u001b[0;32m~/robotics/manipulation/manipulation/mustard_depth_camera_example.py:36\u001b[0m, in \u001b[0;36mMustardPointCloud\u001b[0;34m(normals, down_sample)\u001b[0m\n\u001b[1;32m     35\u001b[0m \u001b[38;5;28;01mdef\u001b[39;00m \u001b[38;5;21mMustardPointCloud\u001b[39m(normals\u001b[38;5;241m=\u001b[39m\u001b[38;5;28;01mFalse\u001b[39;00m, down_sample\u001b[38;5;241m=\u001b[39m\u001b[38;5;28;01mTrue\u001b[39;00m):\n\u001b[0;32m---> 36\u001b[0m     system \u001b[38;5;241m=\u001b[39m \u001b[43mMustardExampleSystem\u001b[49m\u001b[43m(\u001b[49m\u001b[43m)\u001b[49m\n\u001b[1;32m     37\u001b[0m     context \u001b[38;5;241m=\u001b[39m system\u001b[38;5;241m.\u001b[39mCreateDefaultContext()\n\u001b[1;32m     38\u001b[0m     plant \u001b[38;5;241m=\u001b[39m system\u001b[38;5;241m.\u001b[39mGetSubsystemByName(\u001b[38;5;124m\"\u001b[39m\u001b[38;5;124mplant\u001b[39m\u001b[38;5;124m\"\u001b[39m)\n",
      "File \u001b[0;32m~/robotics/manipulation/manipulation/mustard_depth_camera_example.py:17\u001b[0m, in \u001b[0;36mMustardExampleSystem\u001b[0;34m()\u001b[0m\n\u001b[1;32m     15\u001b[0m parser \u001b[38;5;241m=\u001b[39m Parser(plant)\n\u001b[1;32m     16\u001b[0m AddPackagePaths(parser)\n\u001b[0;32m---> 17\u001b[0m \u001b[43mparser\u001b[49m\u001b[38;5;241;43m.\u001b[39;49m\u001b[43mAddAllModelsFromFile\u001b[49m\u001b[43m(\u001b[49m\n\u001b[1;32m     18\u001b[0m \u001b[43m    \u001b[49m\u001b[43mFindResource\u001b[49m\u001b[43m(\u001b[49m\u001b[38;5;124;43m\"\u001b[39;49m\u001b[38;5;124;43mmodels/mustard_w_cameras.dmd.yaml\u001b[39;49m\u001b[38;5;124;43m\"\u001b[39;49m\u001b[43m)\u001b[49m\u001b[43m)\u001b[49m\n\u001b[1;32m     19\u001b[0m plant\u001b[38;5;241m.\u001b[39mFinalize()\n\u001b[1;32m     21\u001b[0m \u001b[38;5;66;03m# Add a visualizer just to help us see the object.\u001b[39;00m\n",
      "\u001b[0;31mRuntimeError\u001b[0m: error: URI 'package://drake/manipulation/models/ycb/meshes/006_mustard_bottle_textured.obj' resolved to '/home/nikita/env/lib/python3.8/site-packages/pydrake/share/drake/manipulation/models/ycb/meshes/006_mustard_bottle_textured.obj' which does not exist."
     ]
    }
   ],
   "source": [
    "# Basic setup\n",
    "pcd = MustardPointCloud(normals=True, down_sample=False)\n",
    "\n",
    "meshcat.SetProperty(\"/Background\", \"visible\", False)\n",
    "meshcat.SetObject(\"cloud\", pcd, point_size=0.001)\n",
    "\n",
    "def setup_grasp_diagram(draw_frames=True):\n",
    "  builder = DiagramBuilder()\n",
    "  plant, scene_graph = AddMultibodyPlantSceneGraph(builder, time_step=0.001)\n",
    "  parser = Parser(plant)\n",
    "  gripper = parser.AddModelFromFile(FindResource(\n",
    "      \"models/schunk_wsg_50_welded_fingers.sdf\"), \"gripper\")\n",
    "  if draw_frames:\n",
    "      AddMultibodyTriad(plant.GetFrameByName(\"body\"), scene_graph)\n",
    "  plant.Finalize()  \n",
    "\n",
    "  meshcat_vis = MeshcatVisualizer.AddToBuilder(builder, scene_graph, meshcat)\n",
    "  diagram = builder.Build()\n",
    "  context = diagram.CreateDefaultContext()\n",
    "\n",
    "  return plant, scene_graph, diagram, context\n",
    "\n",
    "# Now we'll use this as a global variable. \n",
    "drake_params = setup_grasp_diagram()\n",
    "\n",
    "def draw_grasp_candidate(X_G, prefix='gripper', refresh=False):\n",
    "  plant, scene_graph, diagram, context = drake_params\n",
    "  if (refresh):\n",
    "    meshcat.Delete()\n",
    "\n",
    "  plant_context = plant.GetMyContextFromRoot(context)\n",
    "  plant.SetFreeBodyPose(plant_context, \n",
    "                        plant.GetBodyByName(\"body\"), X_G)\n",
    "  diagram.Publish(context)\n",
    "\n",
    "  X_G = plant.GetFreeBodyPose(plant_context,\n",
    "                        plant.GetBodyByName(\"body\"))\n",
    "  \n",
    "def draw_grasp_candidates(X_G, prefix='gripper', draw_frames=True):\n",
    "  builder = DiagramBuilder()\n",
    "  plant, scene_graph = AddMultibodyPlantSceneGraph(builder, time_step=0.001)\n",
    "  parser = Parser(plant)\n",
    "  gripper = parser.AddModelFromFile(FindResource(\n",
    "      \"models/schunk_wsg_50_welded_fingers.sdf\"), \"gripper\")\n",
    "  plant.WeldFrames(plant.world_frame(), plant.GetFrameByName(\"body\"), X_G)\n",
    "  if draw_frames:\n",
    "      AddMultibodyTriad(plant.GetFrameByName(\"body\"), scene_graph)\n",
    "  plant.Finalize()\n",
    "  \n",
    "  meshcat_vis = MeshcatVisualizer.AddToBuilder(builder, scene_graph, meshcat)\n",
    "  diagram = builder.Build()\n",
    "  context = diagram.CreateDefaultContext()\n",
    "  diagram.Publish(context)\n",
    "\n",
    "def compute_sdf(pcd, X_G, visualize=False):\n",
    "  plant, scene_graph, diagram, context = drake_params\n",
    "  plant_context = plant.GetMyContextFromRoot(context)\n",
    "  scene_graph_context = scene_graph.GetMyContextFromRoot(context)\n",
    "  plant.SetFreeBodyPose(plant_context, \n",
    "                        plant.GetBodyByName(\"body\"), X_G)\n",
    "  \n",
    "  if (visualize):\n",
    "      diagram.Publish(context)\n",
    "\n",
    "  query_object = scene_graph.get_query_output_port().Eval(scene_graph_context)\n",
    "\n",
    "  pcd_sdf = np.inf \n",
    "  for pt in pcd.xyzs().T:\n",
    "    distances = query_object.ComputeSignedDistanceToPoint(pt)\n",
    "    for body_index in range(len(distances)):\n",
    "      distance = distances[body_index].distance\n",
    "      if distance < pcd_sdf:\n",
    "        pcd_sdf = distance\n",
    "\n",
    "  return pcd_sdf \n",
    "\n",
    "def check_collision(pcd, X_G, visualize=False):\n",
    "  sdf = compute_sdf(pcd, X_G, visualize)\n",
    "  return (sdf > 0)\n"
   ]
  },
  {
   "cell_type": "markdown",
   "metadata": {
    "cell_id": "d810f4a772a94a0e9bc8c895cacbb214",
    "deepnote_cell_type": "markdown",
    "id": "ZUg7IbDmIyeo"
   },
   "source": [
    "## Grasp Candidate based on Local Curvature \n",
    "\n",
    "This is an implementation-heavy assignment, where we will implement a variation of the grasp candidate sampling algorithm on [this paper](https://arxiv.org/pdf/1706.09911.pdf). from 2017. Parts of the [library](https://github.com/atenpas/gpg) based on the paper, which the authors have named \"Grasp Pose Generator\" (GPG), is used in real grasp selection systems including the one being run at Toyota Research Institute. \n",
    "\n",
    "As opposed to sampling candidate grasp poses using the \"antipodal heuristic\", this sampling algorithm uses a heuristic based on the local curvature. This heursitic can work quite well especially for smoother / symmetrical objects which has relatively consistent curvature characteristics. \n"
   ]
  },
  {
   "cell_type": "markdown",
   "metadata": {
    "cell_id": "8a0cc09c1d86450c906089345f2c4883",
    "deepnote_cell_type": "markdown",
    "id": "1PAeSQRiHRNi"
   },
   "source": [
    "## Computing the Darboux Frame\n",
    "\n",
    "First, let's work on formalizing our notion of a \"local curvature\" by bringing up the [**Darboux Frame**](https://en.wikipedia.org/wiki/Darboux_frame) from differential geometry. It has a fancy French name (after its creator), but the concept is quite simple.\n",
    "\n",
    "Given a point $p\\in\\mathbb{R}^3$ on a differentiable surface $\\mathcal{S}\\subset\\mathbb{R}^3$, we've seen that we can compute the normal vector at point $p$. Let's denote this vector as $n(p)$. \n",
    "\n",
    "The Darboux frame first aligns the $y$-axis with the inward normal vector, and aligns the $x$ and $z$ axis with principal axii of the tangent surface given the curvature. We will define the axis as \n",
    "- x-axis: aligned with the major axis of curvature at point $p$.\n",
    "- y-axis: aligned with the inward normal vector at point $p$.\n",
    "- z-axis: aligned with the minor axis of curvature at point $p$. \n",
    "\n",
    "Where major axis of curvature has a smaller radius of curvature compared to the minor axis. The below figure might clear things up. \n",
    "\n",
    "<img src=\"https://raw.githubusercontent.com/RussTedrake/manipulation/master/figures/exercises/darboux_frame.png\" width=\"400\">"
   ]
  },
  {
   "cell_type": "markdown",
   "metadata": {
    "cell_id": "5283293bf19943a383327425b6c49646",
    "deepnote_cell_type": "markdown",
    "id": "J5WdmM8hQkQ7"
   },
   "source": [
    "Below, your job is to compute the RigidTransform from the world to the Darboux frame of a specific point on the pointcloud. \n",
    "\n",
    "Here is a simple outline of the algorithm that we've seeen in class:\n",
    "1. Compute the set of points $\\mathcal{S}$ around the given point using [`kdtree.query`](https://docs.scipy.org/doc/scipy/reference/generated/scipy.spatial.KDTree.query.html), with `ball_radius` as the distance upper bound.  \n",
    "2. Compute the $3\\times3$ matrix with sum of outer-products of the normal vectors. \n",
    "$$\\mathbf{N}=\\sum_{p\\in\\mathcal{S}} n(p)n^T(p)$$\n",
    "3. Run eigen decomposition and get the eigenvectors using `np.linalg.eig`. Denote the eigen vectors as $[v_1, v_2, v_3]$, in order of decreasing corresponding eigenvalues. Convince yourself that:\n",
    "- $v_1$ is the normal vector,\n",
    "- $v_2$ is the major tangent vector, \n",
    "- $v_3$ is the minor tangent vector. \n",
    "Note that `np.linalg.eig` does **not** necessarily return the eigenvectors in the correct order. (The function `np.argsort` may come in handy.)\n",
    "4. If $v_1$ is heading outwards (same direction as $n(p)$), negate $v_1$. (You can check this using the dot product.)\n",
    "5. Using $v_1,v_2,v_3$, construct the Rotation matrix by horizontally stacking the vertical vectors: $\\mathbf{R} = [v_2 | v_1 | v_3]$\n",
    "6. If the rotation is improper, negate $v_2$. (You can check this by checking the sign of the determinant.)\n",
    "5. Return a `RigidTransform` that has the rotation set as defined in the figure above, and translation defined at the desired point.\n",
    "\n",
    "The [textbook example on normal estimation](https://manipulation.csail.mit.edu/clutter.html#normal_estimation) may be useful to reference in this problem.\n",
    "\n",
    "NOTE: Convince yourself of the following: if you knew the orthonormal basis vectors of a frame ${}^W[i,j,k]$, then the Rotation matrix of of that frame with respect to the world ${}^W\\mathbf{R}^F$ can be computed by horizontally stacking the vertical vectors ($[i|j|k]$). Why would this be? (This doesn't necessarily mean the eigenvector matrix is always a rotation matrix due to improper rotations)"
   ]
  },
  {
   "cell_type": "code",
   "execution_count": 6,
   "metadata": {
    "cell_id": "23eee46c7743474585a7a7db490b37ee",
    "deepnote_cell_type": "code",
    "deepnote_to_be_reexecuted": false,
    "execution_millis": 0,
    "execution_start": 1665694952123,
    "id": "WRuwFwcuTQtw",
    "source_hash": "33989537"
   },
   "outputs": [],
   "source": [
    "def compute_darboux_frame(index, pcd, kdtree, ball_radius=0.002, max_nn=50):\n",
    "    \"\"\"\n",
    "    Given a index of the pointcloud, return a RigidTransform from world to the \n",
    "    Darboux frame at that point.\n",
    "    Args: \n",
    "    - index (int): index of the pointcloud. \n",
    "    - pcd (PointCloud object): pointcloud of the object.\n",
    "    - kdtree (scipy.spatial.KDTree object): kd tree to use for nn search. \n",
    "    - ball_radius (float): ball_radius used for nearest-neighbors search \n",
    "    - max_nn (int): maximum number of points considered in nearest-neighbors search. \n",
    "    \"\"\"\n",
    "    points = pcd.xyzs() # 3xN np array of points\n",
    "    normals = pcd.normals() # 3xN np array of normals\n",
    "\n",
    "    #print(index)\n",
    "\n",
    "    query = points[:, index]\n",
    "    meshcat.SetObject(\"query\", Sphere(0.001), Rgba(0, 1, 0))\n",
    "    meshcat.SetTransform(\"query\", RigidTransform(query))\n",
    "    dd, ii = kdtree.query(x=query, k=max_nn, distance_upper_bound=ball_radius)\n",
    "    neighbors = (dd != np.inf) * ii\n",
    "    neighbors = neighbors[neighbors != 0]\n",
    "    #print(neighbors.shape)\n",
    "\n",
    "    n_normals = normals[:, neighbors]\n",
    "    #print(n_normals.shape[1])\n",
    "\n",
    "    W = np.zeros((3,3))\n",
    "    for i in range (0, n_normals.shape[1]):\n",
    "        W = W + np.outer(n_normals[:,i], n_normals[:,i].T)\n",
    "    #print(W.shape)\n",
    "\n",
    "    w, V = np.linalg.eigh(W)\n",
    "    #print(\"w=\", w)\n",
    "    #print(\"V=\", V)\n",
    "\n",
    "    w_sorted = np.argsort(w)[::-1]\n",
    "    V_sorted = V[:, w_sorted]\n",
    "    #print(\"V_sorted=\", V_sorted)\n",
    "\n",
    "    if V_sorted[:, 0].dot(normals[:, index]) > 0:\n",
    "        V_sorted[:, 0] = -V_sorted[:, 0]\n",
    "\n",
    "    # we also make z axis to point in the same direction as z of the world frame -> only this way all tests pass\n",
    "    if V_sorted[:, 2].dot(np.array([0,0,1])) < 0:\n",
    "        V_sorted[:, 2] = -V_sorted[:, 2]\n",
    "\n",
    "    #print(\"V_sorted_negated=\", V_sorted)\n",
    "\n",
    "    R = np.hstack((np.reshape(V_sorted[:, 1], (3,1)), np.reshape(V_sorted[:, 0], (3,1)), np.reshape(V_sorted[:, 2], (3,1))))\n",
    "    #print(\"R=\", R)\n",
    "    #print(\"det(R)= \", np.linalg.det(R))\n",
    "    if (np.linalg.det(R)) < 0:\n",
    "        R[:, 0] = -R[:, 0]\n",
    "\n",
    "    for i in neighbors:\n",
    "        meshcat.SetObject(\"query_\" + str(i), Sphere(0.0005), Rgba(1, 1, 0))\n",
    "        meshcat.SetTransform(\"query_\" + str(i), RigidTransform(points[:, i]))\n",
    "        meshcat.SetLineSegments(\n",
    "            \"down_sampled_normals_\" + str(i), points[:, i],\n",
    "            points[:, i] + 0.01 * normals[:, i])\n",
    "    \n",
    "    return RigidTransform(RotationMatrix(R), query)"
   ]
  },
  {
   "cell_type": "markdown",
   "metadata": {
    "cell_id": "c561e83a84ac4c07bb98454d10300926",
    "deepnote_cell_type": "markdown",
    "id": "O3Nmr31JUZPB"
   },
   "source": [
    "You can check your work by running the cell below and looking at the frame visualization in Meshcat. "
   ]
  },
  {
   "cell_type": "code",
   "execution_count": 7,
   "metadata": {
    "cell_id": "7d87490f9bba41a78c0dca707a423e9d",
    "deepnote_cell_type": "code",
    "deepnote_to_be_reexecuted": false,
    "execution_millis": 740,
    "execution_start": 1665694952527,
    "id": "TcNpDwGiZw1n",
    "source_hash": "3bae22c"
   },
   "outputs": [
    {
     "ename": "NameError",
     "evalue": "name 'pcd' is not defined",
     "output_type": "error",
     "traceback": [
      "\u001b[0;31m---------------------------------------------------------------------------\u001b[0m",
      "\u001b[0;31mNameError\u001b[0m                                 Traceback (most recent call last)",
      "Cell \u001b[0;32mIn [7], line 6\u001b[0m\n\u001b[1;32m      3\u001b[0m meshcat\u001b[38;5;241m.\u001b[39mDelete() \n\u001b[1;32m      5\u001b[0m \u001b[38;5;66;03m# Build KD tree.\u001b[39;00m\n\u001b[0;32m----> 6\u001b[0m kdtree \u001b[38;5;241m=\u001b[39m KDTree(\u001b[43mpcd\u001b[49m\u001b[38;5;241m.\u001b[39mxyzs()\u001b[38;5;241m.\u001b[39mT)\n\u001b[1;32m      7\u001b[0m X_WP \u001b[38;5;241m=\u001b[39m compute_darboux_frame(index, pcd, kdtree)\n\u001b[1;32m      8\u001b[0m \u001b[38;5;28mprint\u001b[39m(X_WP\u001b[38;5;241m.\u001b[39mGetAsMatrix4())\n",
      "\u001b[0;31mNameError\u001b[0m: name 'pcd' is not defined"
     ]
    }
   ],
   "source": [
    "# 151, 11121 are pretty good verifiers of the implementation. , 1000\n",
    "index = 5\n",
    "meshcat.Delete() \n",
    "\n",
    "# Build KD tree.\n",
    "kdtree = KDTree(pcd.xyzs().T)\n",
    "X_WP = compute_darboux_frame(index, pcd, kdtree)\n",
    "print(X_WP.GetAsMatrix4())\n",
    "meshcat.SetObject(\"cloud\", pcd)\n",
    "AddMeshcatTriad(meshcat, \"frame\", length=0.025, radius=0.001, X_PT=X_WP)"
   ]
  },
  {
   "cell_type": "markdown",
   "metadata": {
    "cell_id": "c4dee1992d0e45b3af132b726793ca44",
    "deepnote_cell_type": "markdown",
    "id": "HrdDJyHzU4W_"
   },
   "source": [
    "## Collision Line Search \n",
    "\n",
    "Now we wish to align our gripper frame with the Darboux frame that we found, but naively doing it will result in collision / being too far from the object.\n",
    "\n",
    "An important heuristic that is used in the GPG work is that grasps are more stable when contact area is maximized. For that, we would need the gripper to be as inwards as possible towards the object but avoid collisions.\n",
    "\n",
    "To implement this, we will use a line search along a grid along the y-axis, and find the **maximum** value of $y$ (remember that our $y$ is towards the inwards normal) that results in no-collision. \n",
    "\n",
    "We've given you the grid you should search over, and the function `distance=compute_sdf(pcd, X_WG)` that will return the signed distance function between the set of pointclouds, and the gripper, given the transform `X_WG`. You are required to use this to detect the presence of collisions. \n",
    "\n",
    "Finally, if there is no value of $y$ that results in no collisions, you should return `np.nan` for the signed distance, and `None` for the rigid transform. "
   ]
  },
  {
   "cell_type": "code",
   "execution_count": 30,
   "metadata": {
    "cell_id": "ffbf58f2fcf649b28155fde575d29c60",
    "deepnote_cell_type": "code",
    "deepnote_to_be_reexecuted": false,
    "execution_millis": 2,
    "execution_start": 1665694953202,
    "id": "tUgWtIoDW-x2",
    "source_hash": "a8804e1b"
   },
   "outputs": [],
   "source": [
    "# Compute static rotation between the frame and the gripper. \n",
    "def find_minimum_distance(pcd, X_WG):\n",
    "  \"\"\"\n",
    "  By doing line search, compute the maximum allowable distance along the y axis before penetration.\n",
    "  Return the maximum distance, as well as the new transform.\n",
    "  Args:\n",
    "    - pcd (PointCloud object): pointcloud of the object.\n",
    "    - X_WG (Drake RigidTransform object): RigidTransform. You can expect this to be the return from compute_darboux_frame.  \n",
    "  Return:\n",
    "    - Tuple (signed_distance, X_WGnew) where\n",
    "    - signed_distance (float): signed distance between gripper and object pointcloud at X_WGnew. \n",
    "    - X_WGnew: New rigid transform that moves X_WG along the y axis while maximizing the y-translation subject to no collision. \n",
    "    If there is no value of y that results in no collisions, return (np.nan, None). \n",
    "  \"\"\"\n",
    "  y_grid = np.linspace(-0.05, 0.05, 10) # do not modify \n",
    "\n",
    "  best_y = y_grid[0]\n",
    "  best_distance = np.nan\n",
    "  best_X_WF = None\n",
    "  for y in y_grid:\n",
    "      X_WF = RigidTransform(RotationMatrix(np.identity(3)), np.array([0, y, 0]))\n",
    "      distance=compute_sdf(pcd, X_WG @ X_WF)\n",
    "      if distance >= 0:\n",
    "          best_y = y\n",
    "          best_distance = distance\n",
    "          best_X_WF = X_WG @ X_WF\n",
    "      else:\n",
    "          break\n",
    "\n",
    "  # modify here. \n",
    "  signed_distance = best_distance # modify here \n",
    "  X_WGnew = best_X_WF # modify here\n",
    "\n",
    "  return signed_distance, X_WGnew"
   ]
  },
  {
   "cell_type": "markdown",
   "metadata": {
    "cell_id": "e43f7b9a8fff49649d5b348ae29427a2",
    "deepnote_cell_type": "markdown",
    "id": "s3E771RFXO7N"
   },
   "source": [
    "You can check your work below by running the cell below. If the visualization results in a collision, or the gripper is excessively far from the object, your implementation is probably wrong. "
   ]
  },
  {
   "cell_type": "code",
   "execution_count": 31,
   "metadata": {
    "cell_id": "1d2036216cad4feba9706613f1bff98f",
    "deepnote_cell_type": "code",
    "deepnote_to_be_reexecuted": false,
    "execution_millis": 1067,
    "execution_start": 1665694953780,
    "id": "NvPNcEzpWqzt",
    "source_hash": "a72a875b"
   },
   "outputs": [],
   "source": [
    "meshcat.Delete()\n",
    "meshcat.SetObject(\"cloud\", pcd, point_size=0.001)\n",
    "AddMeshcatTriad(meshcat, \"frame\", length=0.025, radius=0.001, X_PT=X_WP)\n",
    "shortest_distance, X_WGnew = find_minimum_distance(pcd, X_WP)\n",
    "draw_grasp_candidate(X_WGnew, refresh=False)"
   ]
  },
  {
   "cell_type": "markdown",
   "metadata": {
    "cell_id": "48043d6e9eaa4c8c964f9ef0664033d0",
    "deepnote_cell_type": "markdown"
   },
   "source": [
    "## Nonempty Grasp \n",
    "\n",
    "Let's add one more heuristic: when we close the gripper, we don't want what is in between the two fingers to be an empty region. That would make our robot look not very smart! \n",
    "\n",
    "There is a simple way to check this: let's define a volumetric region swept by the gripper's closing trajectory, and call it $\\mathcal{B}(^{W}X^{G})$. We will also call the gripper body (when fully open) as the set $\\mathcal{C}(^{W}X^G)$. If there are no object pointclouds within the set $\\mathcal{B}(^{W}X^{G})$, we can simply discard it. \n",
    "\n",
    "<img src=\"https://raw.githubusercontent.com/RussTedrake/manipulation/master/figures/exercises/closing_plane.png\" width=\"800\">\n",
    "\n",
    "You're probably thinking - how do I do a rigid transform on a set? Generally it's doable if the transform is affine, the set is polytopic, etc., but there is an easier trick - we just transform all the pointclouds to the gripper frame $G$! \n",
    "\n",
    "The function below follows these steps:\n",
    "  1. Transform the pointcloud points `pcd` from world frame to gripper frame.\n",
    "  2. For each point, check if it is within the bounding box we have provided.\n",
    "  3. If there is a point inside the set, return True. If not, return false. "
   ]
  },
  {
   "cell_type": "code",
   "execution_count": 32,
   "metadata": {
    "cell_id": "b72ba2daf6e543ec9e2a34aab8545ab1",
    "deepnote_cell_type": "code",
    "deepnote_to_be_reexecuted": false,
    "execution_millis": 10,
    "execution_start": 1665694954856,
    "id": "8aUP5vcLt-Cm",
    "source_hash": "c3f91066"
   },
   "outputs": [],
   "source": [
    "def check_nonempty(pcd, X_WG, visualize=False):\n",
    "  \"\"\"\n",
    "  Check if the \"closing region\" of the gripper is nonempty by transforming the pointclouds to gripper coordinates. \n",
    "  Args:\n",
    "    - pcd (PointCloud object): pointcloud of the object.\n",
    "    - X_WG (Drake RigidTransform): transform of the gripper.\n",
    "  Return:\n",
    "    - is_nonempty (boolean): boolean set to True if there is a point within the cropped region. \n",
    "  \"\"\"\n",
    "  pcd_W_np = pcd.xyzs() \n",
    "\n",
    "  # Bounding box of the closing region written in the coordinate frame of the gripper body. \n",
    "  # Do not modify \n",
    "  crop_min = [-0.054, 0.036, -0.01]\n",
    "  crop_max = [0.054, 0.117, 0.01]\n",
    "\n",
    "  # Transform the pointcloud to gripper frame. \n",
    "  X_GW = X_WG.inverse()\n",
    "  pcd_G_np = X_GW.multiply(pcd_W_np)\n",
    "\n",
    "  # Check if there are any points within the cropped region. \n",
    "  indices = np.all((crop_min[0] <= pcd_G_np[0,:], pcd_G_np[0,:] <= crop_max[0],\n",
    "                    crop_min[1] <= pcd_G_np[1,:], pcd_G_np[1,:] <= crop_max[1],\n",
    "                    crop_min[2] <= pcd_G_np[2,:], pcd_G_np[2,:] <= crop_max[2]),\n",
    "                   axis = 0)\n",
    "  \n",
    "  is_nonempty = indices.any()\n",
    "\n",
    "  if (visualize):\n",
    "    meshcat.Delete()\n",
    "    pcd_G = PointCloud(pcd) \n",
    "    pcd_G.mutable_xyzs()[:] = pcd_G_np\n",
    "\n",
    "    draw_grasp_candidate(RigidTransform())\n",
    "    meshcat.SetObject(\"cloud\", pcd_G)\n",
    "    \n",
    "    box_length = np.array(crop_max) - np.array(crop_min)\n",
    "    box_center = (np.array(crop_max) + np.array(crop_min)) / 2. \n",
    "    meshcat.SetObject(\"closing_region\", Box(\n",
    "        box_length[0], box_length[1], box_length[2]), Rgba(1, 0, 0, 0.3))\n",
    "    meshcat.SetTransform(\"closing_region\", RigidTransform(box_center))\n",
    "\n",
    "  return is_nonempty \n"
   ]
  },
  {
   "cell_type": "markdown",
   "metadata": {
    "cell_id": "2e75bf0759a14a58b1bc84f52949a60e",
    "deepnote_cell_type": "markdown"
   },
   "source": [
    "The following cell demonstrates the functionality of `check_nonempty`, where we have visualized the pointclouds and $\\mathcal{B}({}^W X^G)$ from the gripper frame. "
   ]
  },
  {
   "cell_type": "code",
   "execution_count": 33,
   "metadata": {
    "cell_id": "c7b98d1c4e4f4e7a9e2391822a0fc52f",
    "deepnote_cell_type": "code",
    "deepnote_to_be_reexecuted": false,
    "execution_millis": 6,
    "execution_start": 1665694954874,
    "id": "BBg0NCWd2qI8",
    "source_hash": "9f4e8d8d"
   },
   "outputs": [
    {
     "data": {
      "text/plain": [
       "True"
      ]
     },
     "execution_count": 33,
     "metadata": {},
     "output_type": "execute_result"
    }
   ],
   "source": [
    "# Lower and upper bounds of the closing region in gripper coordinates. Do not modify. \n",
    "check_nonempty(pcd, X_WGnew, visualize=True)"
   ]
  },
  {
   "cell_type": "markdown",
   "metadata": {
    "cell_id": "22f100c6ffc942f7ad9b7f72ad9568cf",
    "deepnote_cell_type": "markdown",
    "id": "dwGE2JDnXmY5"
   },
   "source": [
    "## Grasp Sampling Algorithm\n",
    "\n",
    "That was a lot of subcomponents, but we're finally onto the grand assembly. You will now generate `candidate_num` candidate grasps using everything we have written so far. The sampling algorithm goes as follows:\n",
    "\n",
    "1. Select a random point $p$ from the pointcloud (use `np.random.randint()`)\n",
    "2. Compute the Darboux frame ${}^WX^F(p)$ of the point $p$ using `compute_darboux_frame`. \n",
    "3. Randomly sample an $x$ direction translation $x\\in[x_{min},x_{max}]$, and a $z$ direction rotation $\\phi\\in[\\phi_{min},\\phi_{max}]$. Compute a grasp frame $T$ that has the relative transformation `X_FT=(RotateZ(phi),TranslateX(x))`. Convince yourself this makes the point $p$ stay in the \"closing plane\" (drawn in red) defined in the figure above. (NOTE: For ease of grading, make sure you compute the $x$ direction first with `np.random.rand()`, then compute the $\\phi$ direction with another call to `np.random.rand()`, not the other way around.) \n",
    "4. From the grasp frame $T$, translate along the $y$ axis such that the gripper is closest to the object without collision. Use `find_minimum_distance`, and call this frame $G$. Remember that `find_minimum_distance` can return `np.nan`. Skip the loop if this happens. \n",
    "5. If $G$ results in no collisions (see `check_collision`) and results in non-empty grasp (use `check_nonempty`), append it to the candidate list. If not, continue the loop until we have desired number of candidates. \n"
   ]
  },
  {
   "cell_type": "code",
   "execution_count": 34,
   "metadata": {
    "cell_id": "225aee71923d449eaa0cc4d0e9f9ff3e",
    "deepnote_cell_type": "code",
    "deepnote_to_be_reexecuted": false,
    "execution_millis": 3,
    "execution_start": 1665694954888,
    "id": "LvKVHqv8fnq1",
    "source_hash": "e1b05c06"
   },
   "outputs": [],
   "source": [
    "def compute_candidate_grasps(pcd, candidate_num = 10, random_seed=5):\n",
    "    \"\"\"\n",
    "    Compute candidate grasps. \n",
    "    Args:\n",
    "        - pcd (PointCloud object): pointcloud of the object.\n",
    "        - candidate_num (int) : number of desired candidates. \n",
    "        - random_seed (int) : seed for rng, used for grading. \n",
    "    Return:\n",
    "        - candidate_lst (list of drake RigidTransforms) : candidate list of grasps. \n",
    "    \"\"\"\n",
    "\n",
    "    # Do not modify.\n",
    "    x_min = -0.03\n",
    "    x_max = 0.03\n",
    "    phi_min = -np.pi/3\n",
    "    phi_max = np.pi/3\n",
    "    np.random.seed(random_seed)\n",
    "\n",
    "    # Build KD tree for the pointcloud. \n",
    "    kdtree = KDTree(pcd.xyzs().T)\n",
    "    ball_radius = 0.002\n",
    "\n",
    "    candidate_count = 0 \n",
    "    candidate_lst = [] # list of candidates, given by RigidTransforms. \n",
    "\n",
    "    # Modify from here. \n",
    "    points = pcd.xyzs() # 3xN np array of points\n",
    "\n",
    "    run = True\n",
    "    while(run):\n",
    "        index =  np.random.randint(0, points.shape[1])\n",
    "        \n",
    "        #\n",
    "        X_WP = compute_darboux_frame(index, pcd, kdtree)\n",
    "\n",
    "        #\n",
    "        x = np.random.rand(1)\n",
    "        phi = 2 * np.pi * np.random.rand(1)\n",
    "        X_FT = RigidTransform(RotationMatrix.MakeZRotation(phi), np.array([x[0], 0, 0]))\n",
    "        \n",
    "        #\n",
    "        signed_distance, X_WGnew = find_minimum_distance(pcd, X_WP)\n",
    "        if (X_WGnew == None):\n",
    "            continue\n",
    "        \n",
    "        #\n",
    "        if (check_collision(pcd, X_WGnew) and check_nonempty(pcd, X_WGnew)):\n",
    "            candidate_lst.append(X_WGnew)\n",
    "            if (len(candidate_lst) == candidate_num):\n",
    "                break\n",
    "    \n",
    "    return candidate_lst"
   ]
  },
  {
   "cell_type": "markdown",
   "metadata": {
    "cell_id": "32871bec4452491488ab2d5cc2130064",
    "deepnote_cell_type": "markdown",
    "id": "dypaCKcOf9cn"
   },
   "source": [
    "You can check your implementation by running the cell below. Note that although we've only sampled 20 candidates, a lot of them look promising. "
   ]
  },
  {
   "cell_type": "code",
   "execution_count": 35,
   "metadata": {
    "cell_id": "a0d6ef5a66b84f0db16ce4658c2d2975",
    "deepnote_cell_type": "code",
    "deepnote_to_be_reexecuted": false,
    "execution_millis": 573,
    "execution_start": 1665694955360,
    "id": "ItS9GtKaZ39w",
    "source_hash": "50b3d780"
   },
   "outputs": [],
   "source": [
    "pcd_downsampled = pcd.VoxelizedDownSample(voxel_size=0.005)\n",
    "\n",
    "if running_as_notebook:\n",
    "    grasp_candidates = compute_candidate_grasps(pcd_downsampled, candidate_num=3, random_seed=5)\n",
    "\n",
    "    meshcat.Delete()\n",
    "    meshcat.SetObject(\"cloud\", pcd_downsampled)\n",
    "    for i in range(len(grasp_candidates)):\n",
    "        draw_grasp_candidates(\n",
    "            grasp_candidates[i], prefix=\"gripper\" + str(i), draw_frames=False)"
   ]
  },
  {
   "cell_type": "markdown",
   "metadata": {
    "cell_id": "5544f3acc847449abd9b43f26d2056a6",
    "deepnote_cell_type": "markdown",
    "id": "7jcCyk-q2U3L"
   },
   "source": [
    "## Note on Running Time\n",
    "\n",
    "You might be disappointed in how slowly this runs, but the same algorithm written in C++ with optimized libraries can run much faster. (I would expect around a 20 times speedup). \n",
    "\n",
    "But more fundamentally, it's important to note how trivially parallelizable the candidate sampling process is. With a parallelized and optimized implementation, hundreds of grasp candidates can be sampled in real time."
   ]
  },
  {
   "cell_type": "markdown",
   "metadata": {
    "cell_id": "7de2c5da20e0460f9f7a9dcc4964cbeb",
    "deepnote_cell_type": "markdown",
    "id": "MwE8yNg58VQN"
   },
   "source": [
    "## How will this notebook be Graded?\n",
    "\n",
    "If you are enrolled in the class, this notebook will be graded using [Gradescope](www.gradescope.com). You should have gotten the enrollement code on our announcement in Piazza. \n",
    "\n",
    "For submission of this assignment, you must do two things. \n",
    "- Download and submit the notebook `grasp_candidate.ipynb` to Gradescope's notebook submission section, along with your notebook for the other problems.\n",
    "\n",
    "We will evaluate the local functions in the notebook to see if the function behaves as we have expected. For this exercise, the rubric is as follows:\n",
    "- [4 pts] `compute_darboux_frame` must be implemented correctly.\n",
    "- [4 pts] `find_minimum_distance` must be implemented correctly.\n",
    "- [4 pts] `compute_candidate_grasps` must be implemented correctly."
   ]
  },
  {
   "cell_type": "code",
   "execution_count": 36,
   "metadata": {
    "cell_id": "0a1731176873424b8d4cef7d80aacfc6",
    "deepnote_cell_type": "code",
    "deepnote_to_be_reexecuted": false,
    "execution_millis": 3429,
    "execution_start": 1665694955938,
    "id": "xj5nAh4g8VQO",
    "source_hash": "b571d93f"
   },
   "outputs": [
    {
     "name": "stdout",
     "output_type": "stream",
     "text": [
      "Total score is 12/12.\n",
      "\n",
      "Score for Test compute_candidate_grasps is 4/4.\n",
      "\n",
      "Score for Test compute_darboux_frame is 4/4.\n",
      "\n",
      "Score for Test find_minimum_distance is 4/4.\n"
     ]
    }
   ],
   "source": [
    "from manipulation.exercises.clutter.test_grasp_candidate import TestGraspCandidate\n",
    "from manipulation.exercises.grader import Grader \n",
    "\n",
    "Grader.grade_output([TestGraspCandidate], [locals()], 'results.json')\n",
    "Grader.print_test_results('results.json')"
   ]
  },
  {
   "cell_type": "code",
   "execution_count": 36,
   "metadata": {
    "cell_id": "832401222f344a448ba479654806debb",
    "deepnote_cell_type": "code",
    "deepnote_to_be_reexecuted": false,
    "execution_millis": 1,
    "execution_start": 1665694959242,
    "source_hash": "b623e53d"
   },
   "outputs": [],
   "source": []
  },
  {
   "cell_type": "code",
   "execution_count": null,
   "metadata": {
    "cell_id": "24b1b73269ff40399ee2286625ec455e",
    "deepnote_cell_type": "code",
    "tags": []
   },
   "outputs": [],
   "source": []
  },
  {
   "cell_type": "markdown",
   "metadata": {
    "created_in_deepnote_cell": true,
    "deepnote_cell_type": "markdown",
    "tags": []
   },
   "source": [
    "<a style='text-decoration:none;line-height:16px;display:flex;color:#5B5B62;padding:10px;justify-content:end;' href='https://deepnote.com?utm_source=created-in-deepnote-cell&projectId=d26532a2-0d33-407b-bd7d-9d106a7fd8e4' target=\"_blank\">\n",
    "<img alt='Created in deepnote.com' style='display:inline;max-height:16px;margin:0px;margin-right:7.5px;' src='data:image/svg+xml;base64,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' > </img>\n",
    "Created in <span style='font-weight:600;margin-left:4px;'>Deepnote</span></a>"
   ]
  }
 ],
 "metadata": {
  "celltoolbar": "Tags",
  "colab": {
   "collapsed_sections": [],
   "name": "grasp_candidate.ipynb",
   "provenance": []
  },
  "deepnote": {},
  "deepnote_execution_queue": [],
  "deepnote_notebook_id": "5041b3c668d541d98a4a50a607de0cef",
  "kernelspec": {
   "display_name": "env",
   "language": "python",
   "name": "env"
  },
  "language_info": {
   "codemirror_mode": {
    "name": "ipython",
    "version": 3
   },
   "file_extension": ".py",
   "mimetype": "text/x-python",
   "name": "python",
   "nbconvert_exporter": "python",
   "pygments_lexer": "ipython3",
   "version": "3.8.10"
  },
  "vscode": {
   "interpreter": {
    "hash": "b0fa6594d8f4cbf19f97940f81e996739fb7646882a419484c72d19e05852a7e"
   }
  }
 },
 "nbformat": 4,
 "nbformat_minor": 1
}
